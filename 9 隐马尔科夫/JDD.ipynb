{
 "cells": [
  {
   "cell_type": "code",
   "execution_count": 2,
   "metadata": {
    "collapsed": true
   },
   "outputs": [],
   "source": [
    "import pandas as pd\n",
    "import numpy as np"
   ]
  },
  {
   "cell_type": "code",
   "execution_count": 3,
   "metadata": {},
   "outputs": [],
   "source": [
    "path1='JDD/Loan_Forecasting_Qualification/t_click.csv'\n",
    "path2='JDD/Loan_Forecasting_Qualification/t_loan.csv'\n",
    "path3='JDD/Loan_Forecasting_Qualification/t_loan_sum.csv'\n",
    "path4='JDD/Loan_Forecasting_Qualification/t_order.csv'\n",
    "path5='JDD/Loan_Forecasting_Qualification/t_user.csv'\n",
    "tc=pd.read_csv(path1,sep=',')\n",
    "tl=pd.read_csv(path2,sep=',')\n",
    "tlm=pd.read_csv(path3,sep=',')\n",
    "to=pd.read_csv(path4,sep=',')\n",
    "tu=pd.read_csv(path5,sep=',')\n",
    "# 文件名\n",
    "# 数据内容\n",
    "# t_user.csv\n",
    "# 用户信息表\n",
    "# t_order.csv\n",
    "# 订单信息表\n",
    "# t_click.csv\n",
    "# 点击信息表\n",
    "# t_loan.csv\n",
    "# 借款信息表\n",
    "# t_loan_sum.csv\n",
    "# 月借款总额表\n"
   ]
  },
  {
   "cell_type": "code",
   "execution_count": 50,
   "metadata": {},
   "outputs": [],
   "source": [
    "def chongfu(df):\n",
    "    dfcf=df.iloc[:,0].value_counts()\n",
    "    if dfcf.count()==dfcf.sum():\n",
    "        print('没有重复值')\n",
    "    else:\n",
    "        print('存在重复值')\n",
    "    "
   ]
  },
  {
   "cell_type": "code",
   "execution_count": 51,
   "metadata": {},
   "outputs": [
    {
     "name": "stdout",
     "output_type": "stream",
     "text": [
      "存在重复值\n",
      "存在重复值\n",
      "没有重复值\n",
      "存在重复值\n",
      "没有重复值\n"
     ]
    }
   ],
   "source": [
    "chongfu(tc)\n",
    "chongfu(tl)\n",
    "chongfu(tlm)\n",
    "chongfu(to)\n",
    "chongfu(tu)"
   ]
  },
  {
   "cell_type": "code",
   "execution_count": null,
   "metadata": {
    "collapsed": true
   },
   "outputs": [],
   "source": []
  }
 ],
 "metadata": {
  "kernelspec": {
   "display_name": "Python 3",
   "language": "python",
   "name": "python3"
  },
  "language_info": {
   "codemirror_mode": {
    "name": "ipython",
    "version": 3
   },
   "file_extension": ".py",
   "mimetype": "text/x-python",
   "name": "python",
   "nbconvert_exporter": "python",
   "pygments_lexer": "ipython3",
   "version": "3.6.3"
  }
 },
 "nbformat": 4,
 "nbformat_minor": 2
}
