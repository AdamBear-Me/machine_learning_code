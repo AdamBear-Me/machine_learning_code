{
 "cells": [
  {
   "cell_type": "markdown",
   "metadata": {},
   "source": [
    "### 分别使用朴素贝叶斯API和其它分类API对scikit中自带的新闻文本数据进行分类操作；比较各种不同分类算法的效果以及执行消耗时间（贝叶斯在文本挖掘中常用）"
   ]
  },
  {
   "cell_type": "markdown",
   "metadata": {},
   "source": [
    "- [GaussianNB 高斯](http://scikit-learn.org/stable/modules/generated/sklearn.naive_bayes.GaussianNB.html#sklearn.naive_bayes.GaussianNB)\n",
    "- [MultinomialNB 多项式](http://scikit-learn.org/stable/modules/generated/sklearn.naive_bayes.MultinomialNB.html#sklearn.naive_bayes.MultinomialNB)\n",
    "- [BernoulliNB 伯努利](http://scikit-learn.org/stable/modules/generated/sklearn.naive_bayes.BernoulliNB.html#sklearn.naive_bayes.BernoulliNB)\n",
    "- [TfidfVectorizer](http://scikit-learn.org/stable/modules/generated/sklearn.feature_extraction.text.TfidfVectorizer.html#sklearn.feature_extraction.text.TfidfVectorizer)"
   ]
  },
  {
   "cell_type": "code",
   "execution_count": 23,
   "metadata": {
    "collapsed": false
   },
   "outputs": [],
   "source": [
    "import numpy as np\n",
    "from time import time\n",
    "import matplotlib.pyplot as plt\n",
    "import matplotlib as mpl\n",
    "\n",
    "from sklearn.datasets import fetch_20newsgroups # 引入新闻数据数据包\n",
    "from sklearn.feature_extraction.text import TfidfVectorizer #做tfidf编码\n",
    "from sklearn.feature_selection import SelectKBest, chi2 # 卡方检验——特征筛选\n",
    "from sklearn.linear_model import RidgeClassifier\n",
    "from sklearn.svm import LinearSVC,SVC\n",
    "from sklearn.naive_bayes import MultinomialNB, BernoulliNB\n",
    "from sklearn.neighbors import KNeighborsClassifier\n",
    "from sklearn.ensemble import RandomForestClassifier\n",
    "from sklearn.model_selection import GridSearchCV\n",
    "from sklearn import metrics"
   ]
  },
  {
   "cell_type": "code",
   "execution_count": 24,
   "metadata": {
    "collapsed": false
   },
   "outputs": [],
   "source": [
    "###  基准模型方法\n",
    "def benchmark(clf,name):\n",
    "    print (u'分类器：', clf)\n",
    "    \n",
    "    ##  设置最优参数，并使用5折交叉验证获取最优参数值\n",
    "    alpha_can = np.logspace(-2, 1, 10)\n",
    "    model = GridSearchCV(clf, param_grid={'alpha': alpha_can}, cv=5)\n",
    "    m = alpha_can.size\n",
    "    \n",
    "    ## 如果模型有一个参数是alpha，进行设置\n",
    "    if hasattr(clf, 'alpha'):\n",
    "        model.set_params(param_grid={'alpha': alpha_can})\n",
    "        m = alpha_can.size\n",
    "    ## 如果模型有一个k近邻的参数，进行设置\n",
    "    if hasattr(clf, 'n_neighbors'):\n",
    "        neighbors_can = np.arange(1, 15)\n",
    "        model.set_params(param_grid={'n_neighbors': neighbors_can})\n",
    "        m = neighbors_can.size\n",
    "    ## LinearSVC最优参数配置\n",
    "    if hasattr(clf, 'C'):\n",
    "        C_can = np.logspace(1, 3, 3)\n",
    "        model.set_params(param_grid={'C':C_can})\n",
    "        m = C_can.size\n",
    "    ## SVM最优参数设置\n",
    "    if hasattr(clf, 'C') & hasattr(clf, 'gamma'):\n",
    "        C_can = np.logspace(1, 3, 3)\n",
    "        gamma_can = np.logspace(-3, 0, 3)\n",
    "        model.set_params(param_grid={'C':C_can, 'gamma':gamma_can})\n",
    "        m = C_can.size * gamma_can.size\n",
    "    ## 设置深度相关参数，决策树\n",
    "    if hasattr(clf, 'max_depth'):\n",
    "        max_depth_can = np.arange(4, 10)\n",
    "        model.set_params(param_grid={'max_depth': max_depth_can})\n",
    "        m = max_depth_can.size\n",
    "    \n",
    "    ## 模型训练\n",
    "    t_start = time()\n",
    "    model.fit(x_train, y_train)\n",
    "    t_end = time()\n",
    "    t_train = (t_end - t_start) / (5*m)\n",
    "    print (u'5折交叉验证的训练时间为：%.3f秒/(5*%d)=%.3f秒' % ((t_end - t_start), m, t_train))\n",
    "    print (u'最优超参数为：', model.best_params_)\n",
    "    \n",
    "    ## 模型预测\n",
    "    t_start = time()\n",
    "    y_hat = model.predict(x_test)\n",
    "    t_end = time()\n",
    "    t_test = t_end - t_start\n",
    "    print (u'测试时间：%.3f秒' % t_test)\n",
    "    \n",
    "    ## 模型效果评估\n",
    "    train_acc = metrics.accuracy_score(y_train, model.predict(x_train))\n",
    "    test_acc = metrics.accuracy_score(y_test, y_hat)\n",
    "    print (u'训练集准确率：%.2f%%' % (100 * train_acc))\n",
    "    print (u'测试集准确率：%.2f%%' % (100 * test_acc))\n",
    "    \n",
    "    ## 返回结果(训练时间耗时，预测数据耗时，训练数据错误率，测试数据错误率, 名称)\n",
    "    return t_train, t_test, 1-train_acc, 1-test_acc, name"
   ]
  },
  {
   "cell_type": "code",
   "execution_count": 25,
   "metadata": {
    "collapsed": true
   },
   "outputs": [],
   "source": [
    "## 设置属性防止中文乱码\n",
    "mpl.rcParams['font.sans-serif'] = [u'SimHei']\n",
    "mpl.rcParams['axes.unicode_minus'] = False"
   ]
  },
  {
   "cell_type": "code",
   "execution_count": 26,
   "metadata": {
    "collapsed": false
   },
   "outputs": [
    {
     "name": "stdout",
     "output_type": "stream",
     "text": [
      "开始下载/加载数据...\n",
      "完成数据加载过程.耗时:2.765s\n"
     ]
    }
   ],
   "source": [
    "### 数据加载\n",
    "print (u'开始下载/加载数据...')\n",
    "t_start = time()\n",
    "## 不要头部信息\n",
    "remove = ('headers', 'footers', 'quotes')\n",
    "## 只要这四类数据\n",
    "categories = 'alt.atheism', 'talk.religion.misc', 'comp.graphics', 'sci.space'\n",
    "\n",
    "## 分别加载训练数据和测试数据\n",
    "data_train = fetch_20newsgroups(data_home='./datas/',subset='train', categories=categories, shuffle=True, random_state=0, remove=remove)\n",
    "data_test = fetch_20newsgroups(data_home='./datas/',subset='test', categories=categories, shuffle=True, random_state=0, remove=remove)\n",
    "\n",
    "## 完成\n",
    "print (u\"完成数据加载过程.耗时:%.3fs\" % (time() - t_start))"
   ]
  },
  {
   "cell_type": "code",
   "execution_count": 27,
   "metadata": {
    "collapsed": false
   },
   "outputs": [
    {
     "name": "stdout",
     "output_type": "stream",
     "text": [
      "数据类型： <class 'sklearn.datasets.base.Bunch'>\n",
      "2034文本数量 - 2.428MB (训练数据集)\n",
      "1353文本数量 - 1.800MB (测试数据集)\n",
      "训练集和测试集使用的4个类别的名称：\n",
      "['alt.atheism', 'comp.graphics', 'sci.space', 'talk.religion.misc']\n"
     ]
    }
   ],
   "source": [
    "### 获取加载数据的相关信息\n",
    "# 算下docs大小\n",
    "def size_mb(docs):\n",
    "    return sum(len(s.encode('utf-8')) for s in docs) / 1e6\n",
    "\n",
    "categories = data_train.target_names\n",
    "data_train_size_mb = size_mb(data_train.data)\n",
    "data_test_size_mb = size_mb(data_test.data)\n",
    "\n",
    "print(u'数据类型：', type(data_train))\n",
    "print(\"%d文本数量 - %0.3fMB (训练数据集)\" % (len(data_train.data), data_train_size_mb))\n",
    "print(\"%d文本数量 - %0.3fMB (测试数据集)\" % (len(data_test.data), data_test_size_mb))\n",
    "print(u'训练集和测试集使用的%d个类别的名称：' % len(categories))\n",
    "print(categories)"
   ]
  },
  {
   "cell_type": "code",
   "execution_count": 28,
   "metadata": {
    "collapsed": true
   },
   "outputs": [],
   "source": [
    "### 数据重命名\n",
    "x_train = data_train.data\n",
    "y_train = data_train.target\n",
    "x_test = data_test.data\n",
    "y_test = data_test.target"
   ]
  },
  {
   "cell_type": "code",
   "execution_count": 29,
   "metadata": {
    "collapsed": false,
    "scrolled": true
   },
   "outputs": [
    {
     "name": "stdout",
     "output_type": "stream",
     "text": [
      " -- 前5个文本 -- \n",
      "文本1(属于类别 - alt.atheism)：\n",
      "If one is a vegan (a vegetarian taht eats no animal products at at i.e eggs, \n",
      "milk, cheese, etc., after about 3 years of a vegan diet, you need to start \n",
      "taking B12 supplements because b12 is found only in animals.) Acutally our \n",
      "bodies make B12, I think, but our bodies use up our own B12 after 2 or 3 \n",
      "years.  \n",
      "Lacto-oveo vegetarians, like myself, still get B12 through milk products \n",
      "and eggs, so we don't need supplements.\n",
      "And If anyone knows more, PLEASE post it.  I'm nearly contridicting myself \n",
      "with the mish-mash of knowledge I've gleaned.\n",
      "\n",
      "\n",
      "\n",
      "文本2(属于类别 - comp.graphics)：\n",
      "Hi,\n",
      "         I have a friend who is working on 2-d and 3-d object recognition. He is looking\n",
      "for references describing algorithms on the following subject areas:\n",
      "\n",
      "Thresholding\n",
      "Edge Segmentation\n",
      "Marr-Hildreth\n",
      "Sobel Operator\n",
      "Chain Codes\n",
      "Thinning - Skeletonising\n",
      "\n",
      "If anybody is willing to post an algorithm that they have implemented which demonstrates\n",
      "any of the above topics, it would be much appreciated.\n",
      "\n",
      "Please post all replies to my e-mail address. If requested I will post a summary to the\n",
      "newsgroup in a couple of weeks.\n",
      "\n",
      "\n",
      "Thanks in advance for all replies\n",
      "\n",
      "\n",
      "\n",
      "文本3(属于类别 - comp.graphics)：\n",
      "Hello netters\n",
      "\n",
      "Sorry, I don't know if this is the right way of doing this kind of thing,\n",
      "probably should be a CFV, but since I don't have tha ability to create a \n",
      "news group myself, I just want to start the discussion. \n",
      "\n",
      "I enjoy reading c.g very much, but I often find it difficult to sort out what\n",
      "I'm interested in. Everything from screen-drivers, graphics cards, graphics\n",
      "programming and graphics programs are discused here. What I'd like is a \n",
      "comp.graphics.programmer news group.\n",
      "What do you other think.\n",
      "\n",
      "\n",
      "\n",
      "\n",
      "文本4(属于类别 - comp.graphics)：\n",
      "\n",
      "Yes, I did punch in the wrong numbers (working too many late nites).  I\n",
      "intended on stating 640x400 is 256,000 bytes.  It's not in the bios, just my\n",
      "VESA TSR.\n",
      "\n",
      "\n",
      "\n",
      "\n",
      "文本5(属于类别 - talk.religion.misc)：\n",
      "\n",
      "\n",
      "\n",
      "\n",
      "Well, I am not Andy, but if you had familiarized yourself with some of\n",
      "the current theories/hypotheses about abiogenesis before posting :-), you\n",
      "would be aware of the fact that none of them claims that proteins were\n",
      "assembled randomly from amino acids. It is current thinking that RNA-\n",
      "based replicators came before proteinaceous enzymes, and that proteins\n",
      "were assembled by some kind of primitive translation machinery.\n",
      "\n",
      "Now respond to 2. :-)\n",
      "--Cornelius.\n",
      "\n",
      "\n",
      "\n"
     ]
    }
   ],
   "source": [
    "### 输出前5个样本\n",
    "print (u' -- 前5个文本 -- ')\n",
    "for i in range(5):\n",
    "    print (u'文本%d(属于类别 - %s)：' % (i+1, categories[y_train[i]]))\n",
    "    print (x_train[i])\n",
    "    print ('\\n\\n')"
   ]
  },
  {
   "cell_type": "code",
   "execution_count": 30,
   "metadata": {
    "collapsed": false,
    "scrolled": false
   },
   "outputs": [
    {
     "name": "stdout",
     "output_type": "stream",
     "text": [
      "训练集样本个数：2034，特征个数：26576\n",
      "停止词:\n",
      "\n",
      "frozenset({'fill', 'almost', 'few', 'hereafter', 'should', 'side', 'amongst', 'an', 'anyhow', 'whom', 'nor', 'same', 'amoungst', 'much', 'am', 'into', 'fire', 'inc', 'indeed', 'every', 'your', 'next', 'hundred', 'elsewhere', 'interest', 'if', 'sometimes', 'show', 'it', 'although', 'formerly', 'least', 'even', 'thence', 'again', 'couldnt', 'due', 'describe', 'everything', 'this', 'other', 'whatever', 'during', 'eleven', 'detail', 'himself', 'namely', 'top', 'my', 'thick', 'our', 'such', 'through', 'yourselves', 'others', 'off', 'seeming', 'out', 'still', 'before', 'former', 'something', 'four', 'why', 'has', 'etc', 'bill', 'back', 'beyond', 'con', 'empty', 'along', 'each', 'five', 'last', 'rather', 'whoever', 'only', 'alone', 'both', 'less', 'him', 'could', 'except', 'in', 'with', 'across', 'here', 'whose', 'itself', 'she', 'around', 'someone', 'yours', 'can', 'behind', 'over', 'became', 'name', 'cry', 'seemed', 'either', 'another', 'most', 'a', 'co', 'via', 'hers', 'many', 'nobody', 'bottom', 'mine', 'thin', 'cant', 'all', 'first', 'else', 'system', 'everyone', 'found', 'upon', 'whence', 'any', 'until', 'cannot', 'whenever', 'anywhere', 'had', 'where', 'be', 'third', 'when', 'mostly', 'as', 'whither', 'will', 'enough', 'because', 'nine', 'some', 'we', 'were', 'well', 'up', 'made', 'thereupon', 'myself', 'sincere', 'forty', 'ourselves', 'thereby', 'though', 'throughout', 'wherever', 'anything', 'there', 'whether', 'ie', 'otherwise', 'after', 'two', 'front', 'un', 'without', 'them', 'thru', 'toward', 'sixty', 'while', 'becoming', 'become', 'may', 'please', 'whereupon', 'herein', 'very', 'these', 'no', 'part', 'noone', 'beforehand', 'onto', 'get', 'eg', 'its', 'however', 'latter', 'at', 'but', 'from', 'go', 'becomes', 'none', 'what', 'whereby', 'more', 'twelve', 'that', 'hence', 'among', 'for', 'been', 'by', 'me', 'nevertheless', 'afterwards', 'was', 'moreover', 'then', 'fifty', 'towards', 'nothing', 'about', 'therein', 'within', 'keep', 'which', 'three', 'the', 'nowhere', 'yet', 'never', 'seem', 'you', 'anyway', 'below', 'not', 'of', 'on', 'put', 'eight', 'done', 'neither', 'so', 'thereafter', 'they', 'his', 'those', 'twenty', 'beside', 'everywhere', 'above', 'ltd', 'whole', 'and', 'perhaps', 'between', 'hereupon', 'now', 'somewhere', 'full', 'once', 'is', 'under', 'six', 'take', 'who', 'whereafter', 'how', 'own', 'her', 'have', 'therefore', 'do', 'together', 'us', 'since', 'whereas', 'several', 'yourself', 'somehow', 'mill', 'hasnt', 'ours', 'see', 'also', 'seems', 'meanwhile', 'are', 'de', 'being', 'fifteen', 'find', 'i', 're', 'ten', 'amount', 'move', 'than', 'per', 'themselves', 'thus', 'already', 'serious', 'might', 'often', 'anyone', 'further', 'must', 'always', 'herself', 'too', 'one', 'to', 'he', 'give', 'their', 'would', 'down', 'call', 'hereby', 'sometime', 'wherein', 'ever', 'against', 'or', 'besides', 'latterly'})\n"
     ]
    }
   ],
   "source": [
    "### 文档转换为向量\n",
    "## 转换\n",
    "## max_df 只取前50%的权重\n",
    "vectorizer = TfidfVectorizer(input='content', stop_words='english', max_df=0.5, sublinear_tf=True)\n",
    "x_train = vectorizer.fit_transform(data_train.data)  # x_train是稀疏的，scipy.sparse.csr.csr_matrix\n",
    "x_test = vectorizer.transform(data_test.data)\n",
    "print (u'训练集样本个数：%d，特征个数：%d' % x_train.shape)\n",
    "print (u'停止词:\\n')\n",
    "print(vectorizer.get_stop_words())\n",
    "## 获取最终的特征属性名称\n",
    "feature_names = np.asarray(vectorizer.get_feature_names())"
   ]
  },
  {
   "cell_type": "code",
   "execution_count": 31,
   "metadata": {
    "collapsed": true
   },
   "outputs": [],
   "source": [
    "## 特征选择\n",
    "ch2 = SelectKBest(chi2, k=1000)\n",
    "x_train = ch2.fit_transform(x_train, y_train)\n",
    "x_test = ch2.transform(x_test)\n",
    "feature_names = [feature_names[i] for i in ch2.get_support(indices=True)]"
   ]
  },
  {
   "cell_type": "code",
   "execution_count": 32,
   "metadata": {
    "collapsed": false,
    "scrolled": false
   },
   "outputs": [
    {
     "name": "stdout",
     "output_type": "stream",
     "text": [
      "分类器的比较：\n",
      "\n",
      "分类器： RidgeClassifier(alpha=1.0, class_weight=None, copy_X=True, fit_intercept=True,\n",
      "        max_iter=None, normalize=False, random_state=None, solver='auto',\n",
      "        tol=0.001)\n",
      "5折交叉验证的训练时间为：4.732秒/(5*10)=0.095秒\n",
      "最优超参数为： {'alpha': 0.46415888336127775}\n",
      "测试时间：0.001秒\n",
      "训练集准确率：92.63%\n",
      "测试集准确率：75.76%\n",
      "\n",
      "\n",
      "分类器： KNeighborsClassifier(algorithm='auto', leaf_size=30, metric='minkowski',\n",
      "           metric_params=None, n_jobs=1, n_neighbors=5, p=2,\n",
      "           weights='uniform')\n",
      "5折交叉验证的训练时间为：8.594秒/(5*14)=0.123秒\n",
      "最优超参数为： {'n_neighbors': 1}\n",
      "测试时间：0.077秒\n",
      "训练集准确率：96.51%\n",
      "测试集准确率：50.55%\n",
      "\n",
      "\n",
      "分类器： MultinomialNB(alpha=1.0, class_prior=None, fit_prior=True)\n",
      "5折交叉验证的训练时间为：0.208秒/(5*10)=0.004秒\n",
      "最优超参数为： {'alpha': 0.01}\n",
      "测试时间：0.000秒\n",
      "训练集准确率：91.40%\n",
      "测试集准确率：76.72%\n",
      "\n",
      "\n",
      "分类器： BernoulliNB(alpha=1.0, binarize=0.0, class_prior=None, fit_prior=True)\n",
      "5折交叉验证的训练时间为：0.283秒/(5*10)=0.006秒\n",
      "最优超参数为： {'alpha': 0.01}\n",
      "测试时间：0.001秒\n",
      "训练集准确率：88.64%\n",
      "测试集准确率：74.28%\n",
      "\n",
      "\n",
      "分类器： RandomForestClassifier(bootstrap=True, class_weight=None, criterion='gini',\n",
      "            max_depth=None, max_features='auto', max_leaf_nodes=None,\n",
      "            min_impurity_split=1e-07, min_samples_leaf=1,\n",
      "            min_samples_split=2, min_weight_fraction_leaf=0.0,\n",
      "            n_estimators=200, n_jobs=1, oob_score=False, random_state=None,\n",
      "            verbose=0, warm_start=False)\n",
      "5折交叉验证的训练时间为：15.479秒/(5*6)=0.516秒\n",
      "最优超参数为： {'max_depth': 9}\n",
      "测试时间：0.078秒\n",
      "训练集准确率：75.91%\n",
      "测试集准确率：68.14%\n",
      "\n",
      "\n",
      "分类器： SVC(C=1.0, cache_size=200, class_weight=None, coef0=0.0,\n",
      "  decision_function_shape=None, degree=3, gamma='auto', kernel='rbf',\n",
      "  max_iter=-1, probability=False, random_state=None, shrinking=True,\n",
      "  tol=0.001, verbose=False)\n",
      "5折交叉验证的训练时间为：25.948秒/(5*9)=0.577秒\n",
      "最优超参数为： {'C': 100.0, 'gamma': 0.031622776601683791}\n",
      "测试时间：0.169秒\n",
      "训练集准确率：93.36%\n",
      "测试集准确率：73.54%\n",
      "\n",
      "\n",
      "分类器： LinearSVC(C=1.0, class_weight=None, dual=False, fit_intercept=True,\n",
      "     intercept_scaling=1, loss='squared_hinge', max_iter=1000,\n",
      "     multi_class='ovr', penalty='l1', random_state=None, tol=0.0001,\n",
      "     verbose=0)\n",
      "5折交叉验证的训练时间为：7.340秒/(5*3)=0.489秒\n",
      "最优超参数为： {'C': 10.0}\n",
      "测试时间：0.001秒\n",
      "训练集准确率：96.31%\n",
      "测试集准确率：72.21%\n",
      "\n",
      "\n",
      "分类器： LinearSVC(C=1.0, class_weight=None, dual=False, fit_intercept=True,\n",
      "     intercept_scaling=1, loss='squared_hinge', max_iter=1000,\n",
      "     multi_class='ovr', penalty='l2', random_state=None, tol=0.0001,\n",
      "     verbose=0)\n",
      "5折交叉验证的训练时间为：1.205秒/(5*3)=0.080秒\n",
      "最优超参数为： {'C': 10.0}\n",
      "测试时间：0.001秒\n",
      "训练集准确率：95.48%\n",
      "测试集准确率：74.58%\n",
      "\n",
      "\n"
     ]
    }
   ],
   "source": [
    "### 使用不同的分类器对数据进行比较\n",
    "print (u'分类器的比较：\\n')\n",
    "clfs = [\n",
    "    [RidgeClassifier(), 'Ridge'],\n",
    "    [KNeighborsClassifier(), 'KNN'],\n",
    "    [MultinomialNB(), 'MultinomialNB'],\n",
    "    [BernoulliNB(), 'BernoulliNB'],\n",
    "    [RandomForestClassifier(n_estimators=200), 'RandomForest'],\n",
    "    [SVC(), 'SVM'],\n",
    "    [LinearSVC(loss='squared_hinge', penalty='l1', dual=False, tol=1e-4), 'LinearSVC-l1'],\n",
    "    [LinearSVC(loss='squared_hinge', penalty='l2', dual=False, tol=1e-4), 'LinearSVC-l2']\n",
    "]\n",
    "\n",
    "## 将训练数据保存到一个列表中\n",
    "result = []\n",
    "for clf,name in clfs:\n",
    "    # 计算算法结果\n",
    "    a = benchmark(clf,name)\n",
    "    # 追加到一个列表中，方便进行展示操作\n",
    "    result.append(a)\n",
    "    print('\\n')\n",
    "## 将列表转换为数组\n",
    "result = np.array(result)"
   ]
  },
  {
   "cell_type": "code",
   "execution_count": 33,
   "metadata": {
    "collapsed": false
   },
   "outputs": [],
   "source": [
    "### 获取需要画图的数据\n",
    "result = [[x[i] for x in result] for i in range(5)]\n",
    "training_time, test_time, training_err, test_err, clf_names = result\n",
    "\n",
    "training_time = np.array(training_time).astype(np.float)\n",
    "test_time = np.array(test_time).astype(np.float)\n",
    "training_err = np.array(training_err).astype(np.float)\n",
    "test_err = np.array(test_err).astype(np.float)"
   ]
  },
  {
   "cell_type": "code",
   "execution_count": 34,
   "metadata": {
    "collapsed": false
   },
   "outputs": [
    {
     "data": {
      "image/png": "[encoded data removed]",
      "text/plain": [
       "<matplotlib.figure.Figure at 0xa2eefd0>"
      ]
     },
     "metadata": {},
     "output_type": "display_data"
    }
   ],
   "source": [
    "### 画图\n",
    "x = np.arange(len(training_time))\n",
    "plt.figure(figsize=(10, 7), facecolor='w')\n",
    "ax = plt.axes()\n",
    "b0 = ax.bar(x+0.1, training_err, width=0.2, color='#77E0A0')\n",
    "b1 = ax.bar(x+0.3, test_err, width=0.2, color='#8800FF')\n",
    "ax2 = ax.twinx()\n",
    "b2 = ax2.bar(x+0.5, training_time, width=0.2, color='#FFA0A0')\n",
    "b3 = ax2.bar(x+0.7, test_time, width=0.2, color='#FF8080')\n",
    "plt.xticks(x+0.5, clf_names)\n",
    "plt.legend([b0[0], b1[0], b2[0], b3[0]], (u'训练集错误率', u'测试集错误率', u'训练时间', u'测试时间'), loc='upper left', shadow=True)\n",
    "plt.title(u'新闻组文本数据分类及不同分类器效果比较', fontsize=18)\n",
    "plt.xlabel(u'分类器名称')\n",
    "plt.grid(True)\n",
    "plt.tight_layout(2)\n",
    "plt.show()"
   ]
  },
  {
   "cell_type": "code",
   "execution_count": null,
   "metadata": {
    "collapsed": true
   },
   "outputs": [],
   "source": []
  }
 ],
 "metadata": {
  "anaconda-cloud": {},
  "kernelspec": {
   "display_name": "Python [default]",
   "language": "python",
   "name": "python3"
  },
  "language_info": {
   "codemirror_mode": {
    "name": "ipython",
    "version": 3
   },
   "file_extension": ".py",
   "mimetype": "text/x-python",
   "name": "python",
   "nbconvert_exporter": "python",
   "pygments_lexer": "ipython3",
   "version": "3.5.2"
  }
 },
 "nbformat": 4,
 "nbformat_minor": 0
}
