{
 "cells": [
  {
   "cell_type": "markdown",
   "metadata": {},
   "source": [
    "# pandas"
   ]
  },
  {
   "cell_type": "markdown",
   "metadata": {},
   "source": [
    "## 引入约定"
   ]
  },
  {
   "cell_type": "code",
   "execution_count": 106,
   "metadata": {
    "collapsed": true
   },
   "outputs": [],
   "source": [
    "import pandas as pd\n",
    "import numpy as np"
   ]
  },
  {
   "cell_type": "code",
   "execution_count": 107,
   "metadata": {
    "collapsed": true
   },
   "outputs": [],
   "source": [
    "from pandas import DataFrame,Series  # 数据框、一维数组"
   ]
  },
  {
   "cell_type": "markdown",
   "metadata": {},
   "source": [
    "## Series   一维数组"
   ]
  },
  {
   "cell_type": "code",
   "execution_count": 8,
   "metadata": {
    "collapsed": false
   },
   "outputs": [],
   "source": [
    "arr=np.arange(20)   #建立一个数组"
   ]
  },
  {
   "cell_type": "code",
   "execution_count": 9,
   "metadata": {
    "collapsed": true
   },
   "outputs": [],
   "source": [
    "series=Series(arr)  #一个一维数组对象"
   ]
  },
  {
   "cell_type": "code",
   "execution_count": 10,
   "metadata": {
    "collapsed": false
   },
   "outputs": [
    {
     "data": {
      "text/plain": [
       "0      0\n",
       "1      1\n",
       "2      2\n",
       "3      3\n",
       "4      4\n",
       "5      5\n",
       "6      6\n",
       "7      7\n",
       "8      8\n",
       "9      9\n",
       "10    10\n",
       "11    11\n",
       "12    12\n",
       "13    13\n",
       "14    14\n",
       "15    15\n",
       "16    16\n",
       "17    17\n",
       "18    18\n",
       "19    19\n",
       "dtype: int32"
      ]
     },
     "execution_count": 10,
     "metadata": {},
     "output_type": "execute_result"
    }
   ],
   "source": [
    "series"
   ]
  },
  {
   "cell_type": "markdown",
   "metadata": {},
   "source": [
    "### 查看索引列"
   ]
  },
  {
   "cell_type": "code",
   "execution_count": 11,
   "metadata": {
    "collapsed": false
   },
   "outputs": [
    {
     "data": {
      "text/plain": [
       "RangeIndex(start=0, stop=20, step=1)"
      ]
     },
     "execution_count": 11,
     "metadata": {},
     "output_type": "execute_result"
    }
   ],
   "source": [
    "series.index"
   ]
  },
  {
   "cell_type": "markdown",
   "metadata": {},
   "source": [
    "### 数据index绑定"
   ]
  },
  {
   "cell_type": "code",
   "execution_count": 18,
   "metadata": {
    "collapsed": true
   },
   "outputs": [],
   "source": [
    "series1=Series([70,89,67],index=['张三','李四','王屋']) #index实现索引的绑定"
   ]
  },
  {
   "cell_type": "code",
   "execution_count": 19,
   "metadata": {
    "collapsed": false
   },
   "outputs": [
    {
     "data": {
      "text/plain": [
       "张三    70\n",
       "李四    89\n",
       "王屋    67\n",
       "dtype: int64"
      ]
     },
     "execution_count": 19,
     "metadata": {},
     "output_type": "execute_result"
    }
   ],
   "source": [
    "series1"
   ]
  },
  {
   "cell_type": "code",
   "execution_count": 20,
   "metadata": {
    "collapsed": false
   },
   "outputs": [
    {
     "data": {
      "text/plain": [
       "array([70, 89, 67], dtype=int64)"
      ]
     },
     "execution_count": 20,
     "metadata": {},
     "output_type": "execute_result"
    }
   ],
   "source": [
    "series1.values #查看数据列"
   ]
  },
  {
   "cell_type": "code",
   "execution_count": 21,
   "metadata": {
    "collapsed": false
   },
   "outputs": [
    {
     "data": {
      "text/plain": [
       "dtype('int64')"
      ]
     },
     "execution_count": 21,
     "metadata": {},
     "output_type": "execute_result"
    }
   ],
   "source": [
    "series1.dtype #查看数据类型"
   ]
  },
  {
   "cell_type": "markdown",
   "metadata": {},
   "source": [
    "## 缺失值的检测"
   ]
  },
  {
   "cell_type": "markdown",
   "metadata": {},
   "source": [
    "* isnull"
   ]
  },
  {
   "cell_type": "code",
   "execution_count": 23,
   "metadata": {
    "collapsed": true
   },
   "outputs": [],
   "source": [
    "Series2=Series([1,2,3,4,np.NaN,5,6,8,9])"
   ]
  },
  {
   "cell_type": "code",
   "execution_count": 24,
   "metadata": {
    "collapsed": false
   },
   "outputs": [
    {
     "data": {
      "text/plain": [
       "0    1.0\n",
       "1    2.0\n",
       "2    3.0\n",
       "3    4.0\n",
       "4    NaN\n",
       "5    5.0\n",
       "6    6.0\n",
       "7    8.0\n",
       "8    9.0\n",
       "dtype: float64"
      ]
     },
     "execution_count": 24,
     "metadata": {},
     "output_type": "execute_result"
    }
   ],
   "source": [
    "Series2"
   ]
  },
  {
   "cell_type": "code",
   "execution_count": 28,
   "metadata": {
    "collapsed": false
   },
   "outputs": [
    {
     "data": {
      "text/plain": [
       "0    False\n",
       "1    False\n",
       "2    False\n",
       "3    False\n",
       "4     True\n",
       "5    False\n",
       "6    False\n",
       "7    False\n",
       "8    False\n",
       "dtype: bool"
      ]
     },
     "execution_count": 28,
     "metadata": {},
     "output_type": "execute_result"
    }
   ],
   "source": [
    "Series2.isnull()   # 为空的元素，返回True"
   ]
  },
  {
   "cell_type": "markdown",
   "metadata": {},
   "source": [
    "* notnull"
   ]
  },
  {
   "cell_type": "code",
   "execution_count": 27,
   "metadata": {
    "collapsed": false
   },
   "outputs": [
    {
     "data": {
      "text/plain": [
       "0     True\n",
       "1     True\n",
       "2     True\n",
       "3     True\n",
       "4    False\n",
       "5     True\n",
       "6     True\n",
       "7     True\n",
       "8     True\n",
       "dtype: bool"
      ]
     },
     "execution_count": 27,
     "metadata": {},
     "output_type": "execute_result"
    }
   ],
   "source": [
    "Series2.notnull() # 不为空的元素，返回True"
   ]
  },
  {
   "cell_type": "code",
   "execution_count": 5,
   "metadata": {
    "collapsed": false
   },
   "outputs": [],
   "source": [
    "s1=Series([1,2,3,4,5],index=['a','b','c','d','e'])"
   ]
  },
  {
   "cell_type": "code",
   "execution_count": 6,
   "metadata": {
    "collapsed": true
   },
   "outputs": [],
   "source": [
    "s2=Series([1,2,3,4,5],index=['b','a','e','c','d'])"
   ]
  },
  {
   "cell_type": "code",
   "execution_count": 15,
   "metadata": {
    "collapsed": false
   },
   "outputs": [
    {
     "data": {
      "text/plain": [
       "a    1\n",
       "b    2\n",
       "c    3\n",
       "d    4\n",
       "e    5\n",
       "dtype: int64"
      ]
     },
     "execution_count": 15,
     "metadata": {},
     "output_type": "execute_result"
    }
   ],
   "source": [
    "s1"
   ]
  },
  {
   "cell_type": "code",
   "execution_count": 16,
   "metadata": {
    "collapsed": false
   },
   "outputs": [
    {
     "data": {
      "text/plain": [
       "b    1\n",
       "a    2\n",
       "e    3\n",
       "c    4\n",
       "d    5\n",
       "dtype: int64"
      ]
     },
     "execution_count": 16,
     "metadata": {},
     "output_type": "execute_result"
    }
   ],
   "source": [
    "s2"
   ]
  },
  {
   "cell_type": "code",
   "execution_count": 17,
   "metadata": {
    "collapsed": false
   },
   "outputs": [
    {
     "data": {
      "text/plain": [
       "a     2\n",
       "b     2\n",
       "c    12\n",
       "d    20\n",
       "e    15\n",
       "dtype: int64"
      ]
     },
     "execution_count": 17,
     "metadata": {},
     "output_type": "execute_result"
    }
   ],
   "source": [
    "# Series最重要的一个功能是：\n",
    "# 它在算术运算中会自动对齐不同索引的数据。\n",
    "s1*s2"
   ]
  },
  {
   "cell_type": "code",
   "execution_count": 18,
   "metadata": {
    "collapsed": false
   },
   "outputs": [
    {
     "data": {
      "text/plain": [
       "a     2\n",
       "b     2\n",
       "c    12\n",
       "d    20\n",
       "e    15\n",
       "dtype: int64"
      ]
     },
     "execution_count": 18,
     "metadata": {},
     "output_type": "execute_result"
    }
   ],
   "source": [
    "s2*s1"
   ]
  },
  {
   "cell_type": "code",
   "execution_count": 12,
   "metadata": {
    "collapsed": false
   },
   "outputs": [],
   "source": [
    "df=DataFrame([[1,2,3],[3,4,5]])"
   ]
  },
  {
   "cell_type": "code",
   "execution_count": 13,
   "metadata": {
    "collapsed": false
   },
   "outputs": [
    {
     "data": {
      "text/html": [
       "<div>\n",
       "<table border=\"1\" class=\"dataframe\">\n",
       "  <thead>\n",
       "    <tr style=\"text-align: right;\">\n",
       "      <th></th>\n",
       "      <th>0</th>\n",
       "      <th>1</th>\n",
       "      <th>2</th>\n",
       "    </tr>\n",
       "  </thead>\n",
       "  <tbody>\n",
       "    <tr>\n",
       "      <th>0</th>\n",
       "      <td>1</td>\n",
       "      <td>2</td>\n",
       "      <td>3</td>\n",
       "    </tr>\n",
       "    <tr>\n",
       "      <th>1</th>\n",
       "      <td>3</td>\n",
       "      <td>4</td>\n",
       "      <td>5</td>\n",
       "    </tr>\n",
       "  </tbody>\n",
       "</table>\n",
       "</div>"
      ],
      "text/plain": [
       "   0  1  2\n",
       "0  1  2  3\n",
       "1  3  4  5"
      ]
     },
     "execution_count": 13,
     "metadata": {},
     "output_type": "execute_result"
    }
   ],
   "source": [
    "df"
   ]
  },
  {
   "cell_type": "code",
   "execution_count": 66,
   "metadata": {
    "collapsed": false
   },
   "outputs": [],
   "source": [
    "df=DataFrame([[1,2,3],[3,4,5]],index=[['a','b']])"
   ]
  },
  {
   "cell_type": "code",
   "execution_count": 67,
   "metadata": {
    "collapsed": false
   },
   "outputs": [
    {
     "data": {
      "text/html": [
       "<div>\n",
       "<table border=\"1\" class=\"dataframe\">\n",
       "  <thead>\n",
       "    <tr style=\"text-align: right;\">\n",
       "      <th></th>\n",
       "      <th>0</th>\n",
       "      <th>1</th>\n",
       "      <th>2</th>\n",
       "    </tr>\n",
       "  </thead>\n",
       "  <tbody>\n",
       "    <tr>\n",
       "      <th>a</th>\n",
       "      <td>1</td>\n",
       "      <td>2</td>\n",
       "      <td>3</td>\n",
       "    </tr>\n",
       "    <tr>\n",
       "      <th>b</th>\n",
       "      <td>3</td>\n",
       "      <td>4</td>\n",
       "      <td>5</td>\n",
       "    </tr>\n",
       "  </tbody>\n",
       "</table>\n",
       "</div>"
      ],
      "text/plain": [
       "   0  1  2\n",
       "a  1  2  3\n",
       "b  3  4  5"
      ]
     },
     "execution_count": 67,
     "metadata": {},
     "output_type": "execute_result"
    }
   ],
   "source": [
    "df"
   ]
  },
  {
   "cell_type": "code",
   "execution_count": 69,
   "metadata": {
    "collapsed": false
   },
   "outputs": [
    {
     "data": {
      "text/plain": [
       "2"
      ]
     },
     "execution_count": 69,
     "metadata": {},
     "output_type": "execute_result"
    }
   ],
   "source": [
    "df[1]['a']   #取出第2列，第'a'行的数据，从列开始取值"
   ]
  },
  {
   "cell_type": "code",
   "execution_count": 88,
   "metadata": {
    "collapsed": false
   },
   "outputs": [
    {
     "data": {
      "text/html": [
       "<div>\n",
       "<table border=\"1\" class=\"dataframe\">\n",
       "  <thead>\n",
       "    <tr style=\"text-align: right;\">\n",
       "      <th></th>\n",
       "      <th>0</th>\n",
       "      <th>1</th>\n",
       "      <th>2</th>\n",
       "    </tr>\n",
       "  </thead>\n",
       "  <tbody>\n",
       "    <tr>\n",
       "      <th>b</th>\n",
       "      <td>3</td>\n",
       "      <td>4</td>\n",
       "      <td>5</td>\n",
       "    </tr>\n",
       "  </tbody>\n",
       "</table>\n",
       "</div>"
      ],
      "text/plain": [
       "   0  1  2\n",
       "b  3  4  5"
      ]
     },
     "execution_count": 88,
     "metadata": {},
     "output_type": "execute_result"
    }
   ],
   "source": [
    "df[1:]     # 如果使用切片，那么从行开始取值"
   ]
  },
  {
   "cell_type": "markdown",
   "metadata": {},
   "source": [
    "## 索引"
   ]
  },
  {
   "cell_type": "code",
   "execution_count": 24,
   "metadata": {
    "collapsed": true
   },
   "outputs": [],
   "source": [
    "s1=DataFrame({'python':Series([10,20,30]),'JAVA':Series([20,30,40]),'C++':Series([50,50,20])})"
   ]
  },
  {
   "cell_type": "code",
   "execution_count": 25,
   "metadata": {
    "collapsed": false
   },
   "outputs": [
    {
     "data": {
      "text/html": [
       "<div>\n",
       "<table border=\"1\" class=\"dataframe\">\n",
       "  <thead>\n",
       "    <tr style=\"text-align: right;\">\n",
       "      <th></th>\n",
       "      <th>C++</th>\n",
       "      <th>JAVA</th>\n",
       "      <th>python</th>\n",
       "    </tr>\n",
       "  </thead>\n",
       "  <tbody>\n",
       "    <tr>\n",
       "      <th>0</th>\n",
       "      <td>50</td>\n",
       "      <td>20</td>\n",
       "      <td>10</td>\n",
       "    </tr>\n",
       "    <tr>\n",
       "      <th>1</th>\n",
       "      <td>50</td>\n",
       "      <td>30</td>\n",
       "      <td>20</td>\n",
       "    </tr>\n",
       "    <tr>\n",
       "      <th>2</th>\n",
       "      <td>20</td>\n",
       "      <td>40</td>\n",
       "      <td>30</td>\n",
       "    </tr>\n",
       "  </tbody>\n",
       "</table>\n",
       "</div>"
      ],
      "text/plain": [
       "   C++  JAVA  python\n",
       "0   50    20      10\n",
       "1   50    30      20\n",
       "2   20    40      30"
      ]
     },
     "execution_count": 25,
     "metadata": {},
     "output_type": "execute_result"
    }
   ],
   "source": [
    "s1"
   ]
  },
  {
   "cell_type": "code",
   "execution_count": 26,
   "metadata": {
    "collapsed": false
   },
   "outputs": [
    {
     "data": {
      "text/html": [
       "<div>\n",
       "<table border=\"1\" class=\"dataframe\">\n",
       "  <thead>\n",
       "    <tr style=\"text-align: right;\">\n",
       "      <th></th>\n",
       "      <th>C++</th>\n",
       "      <th>JAVA</th>\n",
       "      <th>python</th>\n",
       "    </tr>\n",
       "  </thead>\n",
       "  <tbody>\n",
       "    <tr>\n",
       "      <th>1</th>\n",
       "      <td>50</td>\n",
       "      <td>30</td>\n",
       "      <td>20</td>\n",
       "    </tr>\n",
       "    <tr>\n",
       "      <th>2</th>\n",
       "      <td>20</td>\n",
       "      <td>40</td>\n",
       "      <td>30</td>\n",
       "    </tr>\n",
       "  </tbody>\n",
       "</table>\n",
       "</div>"
      ],
      "text/plain": [
       "   C++  JAVA  python\n",
       "1   50    30      20\n",
       "2   20    40      30"
      ]
     },
     "execution_count": 26,
     "metadata": {},
     "output_type": "execute_result"
    }
   ],
   "source": [
    "s1[1:]  # 缩减写法"
   ]
  },
  {
   "cell_type": "code",
   "execution_count": 27,
   "metadata": {
    "collapsed": false
   },
   "outputs": [
    {
     "data": {
      "text/html": [
       "<div>\n",
       "<table border=\"1\" class=\"dataframe\">\n",
       "  <thead>\n",
       "    <tr style=\"text-align: right;\">\n",
       "      <th></th>\n",
       "      <th>C++</th>\n",
       "      <th>JAVA</th>\n",
       "      <th>python</th>\n",
       "    </tr>\n",
       "  </thead>\n",
       "  <tbody>\n",
       "    <tr>\n",
       "      <th>2</th>\n",
       "      <td>20</td>\n",
       "      <td>40</td>\n",
       "      <td>30</td>\n",
       "    </tr>\n",
       "  </tbody>\n",
       "</table>\n",
       "</div>"
      ],
      "text/plain": [
       "   C++  JAVA  python\n",
       "2   20    40      30"
      ]
     },
     "execution_count": 27,
     "metadata": {},
     "output_type": "execute_result"
    }
   ],
   "source": [
    "s1.ix[2:] #完整使用ix的写法"
   ]
  },
  {
   "cell_type": "code",
   "execution_count": 28,
   "metadata": {
    "collapsed": false
   },
   "outputs": [
    {
     "data": {
      "text/plain": [
       "50"
      ]
     },
     "execution_count": 28,
     "metadata": {},
     "output_type": "execute_result"
    }
   ],
   "source": [
    "s1['C++'][1]    # 此时括号内的所有的内容，都代表的是索引名"
   ]
  },
  {
   "cell_type": "code",
   "execution_count": 30,
   "metadata": {
    "collapsed": false
   },
   "outputs": [
    {
     "data": {
      "text/plain": [
       "C++       50\n",
       "JAVA      20\n",
       "python    10\n",
       "Name: 0, dtype: int64"
      ]
     },
     "execution_count": 30,
     "metadata": {},
     "output_type": "execute_result"
    }
   ],
   "source": [
    "s1.ix[0]"
   ]
  },
  {
   "cell_type": "code",
   "execution_count": 36,
   "metadata": {
    "collapsed": false
   },
   "outputs": [],
   "source": [
    "s1.index=[2,3,4]\n",
    "s1.columns=['Java', 'c', 'Vb']"
   ]
  },
  {
   "cell_type": "code",
   "execution_count": 37,
   "metadata": {
    "collapsed": false
   },
   "outputs": [
    {
     "data": {
      "text/html": [
       "<div>\n",
       "<table border=\"1\" class=\"dataframe\">\n",
       "  <thead>\n",
       "    <tr style=\"text-align: right;\">\n",
       "      <th></th>\n",
       "      <th>Java</th>\n",
       "      <th>c</th>\n",
       "      <th>Vb</th>\n",
       "    </tr>\n",
       "  </thead>\n",
       "  <tbody>\n",
       "    <tr>\n",
       "      <th>2</th>\n",
       "      <td>50</td>\n",
       "      <td>20</td>\n",
       "      <td>10</td>\n",
       "    </tr>\n",
       "    <tr>\n",
       "      <th>3</th>\n",
       "      <td>50</td>\n",
       "      <td>30</td>\n",
       "      <td>20</td>\n",
       "    </tr>\n",
       "    <tr>\n",
       "      <th>4</th>\n",
       "      <td>20</td>\n",
       "      <td>40</td>\n",
       "      <td>30</td>\n",
       "    </tr>\n",
       "  </tbody>\n",
       "</table>\n",
       "</div>"
      ],
      "text/plain": [
       "   Java   c  Vb\n",
       "2    50  20  10\n",
       "3    50  30  20\n",
       "4    20  40  30"
      ]
     },
     "execution_count": 37,
     "metadata": {},
     "output_type": "execute_result"
    }
   ],
   "source": [
    "s1"
   ]
  },
  {
   "cell_type": "code",
   "execution_count": 51,
   "metadata": {
    "collapsed": false
   },
   "outputs": [],
   "source": [
    "n1=np.random.random((20, 6))"
   ]
  },
  {
   "cell_type": "code",
   "execution_count": 49,
   "metadata": {
    "collapsed": false
   },
   "outputs": [
    {
     "data": {
      "text/plain": [
       "array([[ 0.13999377,  0.00221409],\n",
       "       [ 0.18511734,  0.53366013],\n",
       "       [ 0.54383453,  0.95414219],\n",
       "       [ 0.62165614,  0.83519191],\n",
       "       [ 0.76338932,  0.39810546],\n",
       "       [ 0.42171791,  0.66435905],\n",
       "       [ 0.37457713,  0.57189727],\n",
       "       [ 0.23625445,  0.79639366],\n",
       "       [ 0.40229344,  0.02075277],\n",
       "       [ 0.81431838,  0.75864223],\n",
       "       [ 0.16762913,  0.12236034],\n",
       "       [ 0.10045446,  0.11684256],\n",
       "       [ 0.31478805,  0.57427417],\n",
       "       [ 0.37055612,  0.78004423],\n",
       "       [ 0.20778053,  0.2816043 ],\n",
       "       [ 0.99028261,  0.04744969],\n",
       "       [ 0.37530181,  0.96005659],\n",
       "       [ 0.87837781,  0.86570513],\n",
       "       [ 0.65912298,  0.88408122],\n",
       "       [ 0.78048533,  0.90888329]])"
      ]
     },
     "execution_count": 49,
     "metadata": {},
     "output_type": "execute_result"
    }
   ],
   "source": [
    "n1"
   ]
  },
  {
   "cell_type": "code",
   "execution_count": 52,
   "metadata": {
    "collapsed": false
   },
   "outputs": [],
   "source": [
    "s2=DataFrame(n1)"
   ]
  },
  {
   "cell_type": "code",
   "execution_count": 53,
   "metadata": {
    "collapsed": false
   },
   "outputs": [
    {
     "data": {
      "text/html": [
       "<div>\n",
       "<table border=\"1\" class=\"dataframe\">\n",
       "  <thead>\n",
       "    <tr style=\"text-align: right;\">\n",
       "      <th></th>\n",
       "      <th>0</th>\n",
       "      <th>1</th>\n",
       "      <th>2</th>\n",
       "      <th>3</th>\n",
       "      <th>4</th>\n",
       "      <th>5</th>\n",
       "    </tr>\n",
       "  </thead>\n",
       "  <tbody>\n",
       "    <tr>\n",
       "      <th>0</th>\n",
       "      <td>0.458560</td>\n",
       "      <td>0.986266</td>\n",
       "      <td>0.936836</td>\n",
       "      <td>0.352413</td>\n",
       "      <td>0.502309</td>\n",
       "      <td>0.717893</td>\n",
       "    </tr>\n",
       "    <tr>\n",
       "      <th>1</th>\n",
       "      <td>0.072453</td>\n",
       "      <td>0.792368</td>\n",
       "      <td>0.343946</td>\n",
       "      <td>0.423265</td>\n",
       "      <td>0.550584</td>\n",
       "      <td>0.814539</td>\n",
       "    </tr>\n",
       "    <tr>\n",
       "      <th>2</th>\n",
       "      <td>0.928245</td>\n",
       "      <td>0.709963</td>\n",
       "      <td>0.508173</td>\n",
       "      <td>0.446650</td>\n",
       "      <td>0.514190</td>\n",
       "      <td>0.863303</td>\n",
       "    </tr>\n",
       "    <tr>\n",
       "      <th>3</th>\n",
       "      <td>0.168363</td>\n",
       "      <td>0.999030</td>\n",
       "      <td>0.153993</td>\n",
       "      <td>0.459018</td>\n",
       "      <td>0.954232</td>\n",
       "      <td>0.797791</td>\n",
       "    </tr>\n",
       "    <tr>\n",
       "      <th>4</th>\n",
       "      <td>0.517631</td>\n",
       "      <td>0.253756</td>\n",
       "      <td>0.873456</td>\n",
       "      <td>0.513713</td>\n",
       "      <td>0.855727</td>\n",
       "      <td>0.622927</td>\n",
       "    </tr>\n",
       "    <tr>\n",
       "      <th>5</th>\n",
       "      <td>0.623178</td>\n",
       "      <td>0.982708</td>\n",
       "      <td>0.199438</td>\n",
       "      <td>0.391422</td>\n",
       "      <td>0.579191</td>\n",
       "      <td>0.523401</td>\n",
       "    </tr>\n",
       "    <tr>\n",
       "      <th>6</th>\n",
       "      <td>0.607373</td>\n",
       "      <td>0.723898</td>\n",
       "      <td>0.672317</td>\n",
       "      <td>0.724505</td>\n",
       "      <td>0.987647</td>\n",
       "      <td>0.106291</td>\n",
       "    </tr>\n",
       "    <tr>\n",
       "      <th>7</th>\n",
       "      <td>0.188756</td>\n",
       "      <td>0.320046</td>\n",
       "      <td>0.041503</td>\n",
       "      <td>0.350800</td>\n",
       "      <td>0.004607</td>\n",
       "      <td>0.549965</td>\n",
       "    </tr>\n",
       "    <tr>\n",
       "      <th>8</th>\n",
       "      <td>0.227407</td>\n",
       "      <td>0.971128</td>\n",
       "      <td>0.619615</td>\n",
       "      <td>0.506262</td>\n",
       "      <td>0.350877</td>\n",
       "      <td>0.094039</td>\n",
       "    </tr>\n",
       "    <tr>\n",
       "      <th>9</th>\n",
       "      <td>0.324222</td>\n",
       "      <td>0.714577</td>\n",
       "      <td>0.607566</td>\n",
       "      <td>0.519569</td>\n",
       "      <td>0.283158</td>\n",
       "      <td>0.028877</td>\n",
       "    </tr>\n",
       "    <tr>\n",
       "      <th>10</th>\n",
       "      <td>0.206941</td>\n",
       "      <td>0.857942</td>\n",
       "      <td>0.423979</td>\n",
       "      <td>0.168238</td>\n",
       "      <td>0.168072</td>\n",
       "      <td>0.787173</td>\n",
       "    </tr>\n",
       "    <tr>\n",
       "      <th>11</th>\n",
       "      <td>0.846883</td>\n",
       "      <td>0.704847</td>\n",
       "      <td>0.506272</td>\n",
       "      <td>0.135435</td>\n",
       "      <td>0.386852</td>\n",
       "      <td>0.770043</td>\n",
       "    </tr>\n",
       "    <tr>\n",
       "      <th>12</th>\n",
       "      <td>0.219009</td>\n",
       "      <td>0.603296</td>\n",
       "      <td>0.498495</td>\n",
       "      <td>0.193060</td>\n",
       "      <td>0.075447</td>\n",
       "      <td>0.997714</td>\n",
       "    </tr>\n",
       "    <tr>\n",
       "      <th>13</th>\n",
       "      <td>0.705817</td>\n",
       "      <td>0.407280</td>\n",
       "      <td>0.643078</td>\n",
       "      <td>0.193454</td>\n",
       "      <td>0.076493</td>\n",
       "      <td>0.061083</td>\n",
       "    </tr>\n",
       "    <tr>\n",
       "      <th>14</th>\n",
       "      <td>0.834642</td>\n",
       "      <td>0.835560</td>\n",
       "      <td>0.348946</td>\n",
       "      <td>0.819852</td>\n",
       "      <td>0.123713</td>\n",
       "      <td>0.569064</td>\n",
       "    </tr>\n",
       "    <tr>\n",
       "      <th>15</th>\n",
       "      <td>0.556545</td>\n",
       "      <td>0.264472</td>\n",
       "      <td>0.512649</td>\n",
       "      <td>0.031308</td>\n",
       "      <td>0.705008</td>\n",
       "      <td>0.046093</td>\n",
       "    </tr>\n",
       "    <tr>\n",
       "      <th>16</th>\n",
       "      <td>0.749625</td>\n",
       "      <td>0.618823</td>\n",
       "      <td>0.702606</td>\n",
       "      <td>0.622747</td>\n",
       "      <td>0.956063</td>\n",
       "      <td>0.856837</td>\n",
       "    </tr>\n",
       "    <tr>\n",
       "      <th>17</th>\n",
       "      <td>0.798504</td>\n",
       "      <td>0.190634</td>\n",
       "      <td>0.377957</td>\n",
       "      <td>0.291668</td>\n",
       "      <td>0.363656</td>\n",
       "      <td>0.940176</td>\n",
       "    </tr>\n",
       "    <tr>\n",
       "      <th>18</th>\n",
       "      <td>0.102682</td>\n",
       "      <td>0.509791</td>\n",
       "      <td>0.906852</td>\n",
       "      <td>0.211264</td>\n",
       "      <td>0.926345</td>\n",
       "      <td>0.912941</td>\n",
       "    </tr>\n",
       "    <tr>\n",
       "      <th>19</th>\n",
       "      <td>0.131773</td>\n",
       "      <td>0.437947</td>\n",
       "      <td>0.190442</td>\n",
       "      <td>0.689156</td>\n",
       "      <td>0.994516</td>\n",
       "      <td>0.791465</td>\n",
       "    </tr>\n",
       "  </tbody>\n",
       "</table>\n",
       "</div>"
      ],
      "text/plain": [
       "           0         1         2         3         4         5\n",
       "0   0.458560  0.986266  0.936836  0.352413  0.502309  0.717893\n",
       "1   0.072453  0.792368  0.343946  0.423265  0.550584  0.814539\n",
       "2   0.928245  0.709963  0.508173  0.446650  0.514190  0.863303\n",
       "3   0.168363  0.999030  0.153993  0.459018  0.954232  0.797791\n",
       "4   0.517631  0.253756  0.873456  0.513713  0.855727  0.622927\n",
       "5   0.623178  0.982708  0.199438  0.391422  0.579191  0.523401\n",
       "6   0.607373  0.723898  0.672317  0.724505  0.987647  0.106291\n",
       "7   0.188756  0.320046  0.041503  0.350800  0.004607  0.549965\n",
       "8   0.227407  0.971128  0.619615  0.506262  0.350877  0.094039\n",
       "9   0.324222  0.714577  0.607566  0.519569  0.283158  0.028877\n",
       "10  0.206941  0.857942  0.423979  0.168238  0.168072  0.787173\n",
       "11  0.846883  0.704847  0.506272  0.135435  0.386852  0.770043\n",
       "12  0.219009  0.603296  0.498495  0.193060  0.075447  0.997714\n",
       "13  0.705817  0.407280  0.643078  0.193454  0.076493  0.061083\n",
       "14  0.834642  0.835560  0.348946  0.819852  0.123713  0.569064\n",
       "15  0.556545  0.264472  0.512649  0.031308  0.705008  0.046093\n",
       "16  0.749625  0.618823  0.702606  0.622747  0.956063  0.856837\n",
       "17  0.798504  0.190634  0.377957  0.291668  0.363656  0.940176\n",
       "18  0.102682  0.509791  0.906852  0.211264  0.926345  0.912941\n",
       "19  0.131773  0.437947  0.190442  0.689156  0.994516  0.791465"
      ]
     },
     "execution_count": 53,
     "metadata": {},
     "output_type": "execute_result"
    }
   ],
   "source": [
    "s2"
   ]
  },
  {
   "cell_type": "code",
   "execution_count": 54,
   "metadata": {
    "collapsed": false
   },
   "outputs": [
    {
     "data": {
      "text/html": [
       "<div>\n",
       "<table border=\"1\" class=\"dataframe\">\n",
       "  <thead>\n",
       "    <tr style=\"text-align: right;\">\n",
       "      <th></th>\n",
       "      <th>0</th>\n",
       "      <th>1</th>\n",
       "      <th>2</th>\n",
       "      <th>3</th>\n",
       "      <th>4</th>\n",
       "      <th>5</th>\n",
       "    </tr>\n",
       "  </thead>\n",
       "  <tbody>\n",
       "    <tr>\n",
       "      <th>0</th>\n",
       "      <td>0.458560</td>\n",
       "      <td>0.986266</td>\n",
       "      <td>0.936836</td>\n",
       "      <td>0.352413</td>\n",
       "      <td>0.502309</td>\n",
       "      <td>0.717893</td>\n",
       "    </tr>\n",
       "    <tr>\n",
       "      <th>1</th>\n",
       "      <td>0.072453</td>\n",
       "      <td>0.792368</td>\n",
       "      <td>0.343946</td>\n",
       "      <td>0.423265</td>\n",
       "      <td>0.550584</td>\n",
       "      <td>0.814539</td>\n",
       "    </tr>\n",
       "    <tr>\n",
       "      <th>2</th>\n",
       "      <td>0.928245</td>\n",
       "      <td>0.709963</td>\n",
       "      <td>0.508173</td>\n",
       "      <td>0.446650</td>\n",
       "      <td>0.514190</td>\n",
       "      <td>0.863303</td>\n",
       "    </tr>\n",
       "    <tr>\n",
       "      <th>3</th>\n",
       "      <td>0.168363</td>\n",
       "      <td>0.999030</td>\n",
       "      <td>0.153993</td>\n",
       "      <td>0.459018</td>\n",
       "      <td>0.954232</td>\n",
       "      <td>0.797791</td>\n",
       "    </tr>\n",
       "    <tr>\n",
       "      <th>4</th>\n",
       "      <td>0.517631</td>\n",
       "      <td>0.253756</td>\n",
       "      <td>0.873456</td>\n",
       "      <td>0.513713</td>\n",
       "      <td>0.855727</td>\n",
       "      <td>0.622927</td>\n",
       "    </tr>\n",
       "  </tbody>\n",
       "</table>\n",
       "</div>"
      ],
      "text/plain": [
       "          0         1         2         3         4         5\n",
       "0  0.458560  0.986266  0.936836  0.352413  0.502309  0.717893\n",
       "1  0.072453  0.792368  0.343946  0.423265  0.550584  0.814539\n",
       "2  0.928245  0.709963  0.508173  0.446650  0.514190  0.863303\n",
       "3  0.168363  0.999030  0.153993  0.459018  0.954232  0.797791\n",
       "4  0.517631  0.253756  0.873456  0.513713  0.855727  0.622927"
      ]
     },
     "execution_count": 54,
     "metadata": {},
     "output_type": "execute_result"
    }
   ],
   "source": [
    "s2.head()   # 默认为前5行数据，可以自定义显示行数"
   ]
  },
  {
   "cell_type": "code",
   "execution_count": 55,
   "metadata": {
    "collapsed": false
   },
   "outputs": [
    {
     "data": {
      "text/html": [
       "<div>\n",
       "<table border=\"1\" class=\"dataframe\">\n",
       "  <thead>\n",
       "    <tr style=\"text-align: right;\">\n",
       "      <th></th>\n",
       "      <th>0</th>\n",
       "      <th>1</th>\n",
       "      <th>2</th>\n",
       "      <th>3</th>\n",
       "      <th>4</th>\n",
       "      <th>5</th>\n",
       "    </tr>\n",
       "  </thead>\n",
       "  <tbody>\n",
       "    <tr>\n",
       "      <th>15</th>\n",
       "      <td>0.556545</td>\n",
       "      <td>0.264472</td>\n",
       "      <td>0.512649</td>\n",
       "      <td>0.031308</td>\n",
       "      <td>0.705008</td>\n",
       "      <td>0.046093</td>\n",
       "    </tr>\n",
       "    <tr>\n",
       "      <th>16</th>\n",
       "      <td>0.749625</td>\n",
       "      <td>0.618823</td>\n",
       "      <td>0.702606</td>\n",
       "      <td>0.622747</td>\n",
       "      <td>0.956063</td>\n",
       "      <td>0.856837</td>\n",
       "    </tr>\n",
       "    <tr>\n",
       "      <th>17</th>\n",
       "      <td>0.798504</td>\n",
       "      <td>0.190634</td>\n",
       "      <td>0.377957</td>\n",
       "      <td>0.291668</td>\n",
       "      <td>0.363656</td>\n",
       "      <td>0.940176</td>\n",
       "    </tr>\n",
       "    <tr>\n",
       "      <th>18</th>\n",
       "      <td>0.102682</td>\n",
       "      <td>0.509791</td>\n",
       "      <td>0.906852</td>\n",
       "      <td>0.211264</td>\n",
       "      <td>0.926345</td>\n",
       "      <td>0.912941</td>\n",
       "    </tr>\n",
       "    <tr>\n",
       "      <th>19</th>\n",
       "      <td>0.131773</td>\n",
       "      <td>0.437947</td>\n",
       "      <td>0.190442</td>\n",
       "      <td>0.689156</td>\n",
       "      <td>0.994516</td>\n",
       "      <td>0.791465</td>\n",
       "    </tr>\n",
       "  </tbody>\n",
       "</table>\n",
       "</div>"
      ],
      "text/plain": [
       "           0         1         2         3         4         5\n",
       "15  0.556545  0.264472  0.512649  0.031308  0.705008  0.046093\n",
       "16  0.749625  0.618823  0.702606  0.622747  0.956063  0.856837\n",
       "17  0.798504  0.190634  0.377957  0.291668  0.363656  0.940176\n",
       "18  0.102682  0.509791  0.906852  0.211264  0.926345  0.912941\n",
       "19  0.131773  0.437947  0.190442  0.689156  0.994516  0.791465"
      ]
     },
     "execution_count": 55,
     "metadata": {},
     "output_type": "execute_result"
    }
   ],
   "source": [
    "s2.tail()   # 默认为后5行数据，可以自定义显示行数"
   ]
  },
  {
   "cell_type": "code",
   "execution_count": 56,
   "metadata": {
    "collapsed": false
   },
   "outputs": [
    {
     "data": {
      "text/html": [
       "<div>\n",
       "<table border=\"1\" class=\"dataframe\">\n",
       "  <thead>\n",
       "    <tr style=\"text-align: right;\">\n",
       "      <th></th>\n",
       "      <th>0</th>\n",
       "      <th>1</th>\n",
       "      <th>2</th>\n",
       "      <th>3</th>\n",
       "      <th>4</th>\n",
       "      <th>5</th>\n",
       "    </tr>\n",
       "  </thead>\n",
       "  <tbody>\n",
       "    <tr>\n",
       "      <th>count</th>\n",
       "      <td>20.000000</td>\n",
       "      <td>20.000000</td>\n",
       "      <td>20.000000</td>\n",
       "      <td>20.000000</td>\n",
       "      <td>20.000000</td>\n",
       "      <td>20.000000</td>\n",
       "    </tr>\n",
       "    <tr>\n",
       "      <th>mean</th>\n",
       "      <td>0.463430</td>\n",
       "      <td>0.644217</td>\n",
       "      <td>0.503406</td>\n",
       "      <td>0.402190</td>\n",
       "      <td>0.517934</td>\n",
       "      <td>0.592581</td>\n",
       "    </tr>\n",
       "    <tr>\n",
       "      <th>std</th>\n",
       "      <td>0.287257</td>\n",
       "      <td>0.263023</td>\n",
       "      <td>0.250988</td>\n",
       "      <td>0.212340</td>\n",
       "      <td>0.340823</td>\n",
       "      <td>0.335504</td>\n",
       "    </tr>\n",
       "    <tr>\n",
       "      <th>min</th>\n",
       "      <td>0.072453</td>\n",
       "      <td>0.190634</td>\n",
       "      <td>0.041503</td>\n",
       "      <td>0.031308</td>\n",
       "      <td>0.004607</td>\n",
       "      <td>0.028877</td>\n",
       "    </tr>\n",
       "    <tr>\n",
       "      <th>25%</th>\n",
       "      <td>0.202395</td>\n",
       "      <td>0.430280</td>\n",
       "      <td>0.347696</td>\n",
       "      <td>0.206811</td>\n",
       "      <td>0.254386</td>\n",
       "      <td>0.419123</td>\n",
       "    </tr>\n",
       "    <tr>\n",
       "      <th>50%</th>\n",
       "      <td>0.488095</td>\n",
       "      <td>0.707405</td>\n",
       "      <td>0.507223</td>\n",
       "      <td>0.407343</td>\n",
       "      <td>0.508249</td>\n",
       "      <td>0.743968</td>\n",
       "    </tr>\n",
       "    <tr>\n",
       "      <th>75%</th>\n",
       "      <td>0.716769</td>\n",
       "      <td>0.841156</td>\n",
       "      <td>0.650388</td>\n",
       "      <td>0.515177</td>\n",
       "      <td>0.873382</td>\n",
       "      <td>0.825113</td>\n",
       "    </tr>\n",
       "    <tr>\n",
       "      <th>max</th>\n",
       "      <td>0.928245</td>\n",
       "      <td>0.999030</td>\n",
       "      <td>0.936836</td>\n",
       "      <td>0.819852</td>\n",
       "      <td>0.994516</td>\n",
       "      <td>0.997714</td>\n",
       "    </tr>\n",
       "  </tbody>\n",
       "</table>\n",
       "</div>"
      ],
      "text/plain": [
       "               0          1          2          3          4          5\n",
       "count  20.000000  20.000000  20.000000  20.000000  20.000000  20.000000\n",
       "mean    0.463430   0.644217   0.503406   0.402190   0.517934   0.592581\n",
       "std     0.287257   0.263023   0.250988   0.212340   0.340823   0.335504\n",
       "min     0.072453   0.190634   0.041503   0.031308   0.004607   0.028877\n",
       "25%     0.202395   0.430280   0.347696   0.206811   0.254386   0.419123\n",
       "50%     0.488095   0.707405   0.507223   0.407343   0.508249   0.743968\n",
       "75%     0.716769   0.841156   0.650388   0.515177   0.873382   0.825113\n",
       "max     0.928245   0.999030   0.936836   0.819852   0.994516   0.997714"
      ]
     },
     "execution_count": 56,
     "metadata": {},
     "output_type": "execute_result"
    }
   ],
   "source": [
    "s2.describe()  #快速统计汇总"
   ]
  },
  {
   "cell_type": "code",
   "execution_count": 57,
   "metadata": {
    "collapsed": false
   },
   "outputs": [
    {
     "data": {
      "text/html": [
       "<div>\n",
       "<table border=\"1\" class=\"dataframe\">\n",
       "  <thead>\n",
       "    <tr style=\"text-align: right;\">\n",
       "      <th></th>\n",
       "      <th>0</th>\n",
       "      <th>1</th>\n",
       "      <th>2</th>\n",
       "      <th>3</th>\n",
       "      <th>4</th>\n",
       "      <th>5</th>\n",
       "      <th>6</th>\n",
       "      <th>7</th>\n",
       "      <th>8</th>\n",
       "      <th>9</th>\n",
       "      <th>10</th>\n",
       "      <th>11</th>\n",
       "      <th>12</th>\n",
       "      <th>13</th>\n",
       "      <th>14</th>\n",
       "      <th>15</th>\n",
       "      <th>16</th>\n",
       "      <th>17</th>\n",
       "      <th>18</th>\n",
       "      <th>19</th>\n",
       "    </tr>\n",
       "  </thead>\n",
       "  <tbody>\n",
       "    <tr>\n",
       "      <th>0</th>\n",
       "      <td>0.458560</td>\n",
       "      <td>0.072453</td>\n",
       "      <td>0.928245</td>\n",
       "      <td>0.168363</td>\n",
       "      <td>0.517631</td>\n",
       "      <td>0.623178</td>\n",
       "      <td>0.607373</td>\n",
       "      <td>0.188756</td>\n",
       "      <td>0.227407</td>\n",
       "      <td>0.324222</td>\n",
       "      <td>0.206941</td>\n",
       "      <td>0.846883</td>\n",
       "      <td>0.219009</td>\n",
       "      <td>0.705817</td>\n",
       "      <td>0.834642</td>\n",
       "      <td>0.556545</td>\n",
       "      <td>0.749625</td>\n",
       "      <td>0.798504</td>\n",
       "      <td>0.102682</td>\n",
       "      <td>0.131773</td>\n",
       "    </tr>\n",
       "    <tr>\n",
       "      <th>1</th>\n",
       "      <td>0.986266</td>\n",
       "      <td>0.792368</td>\n",
       "      <td>0.709963</td>\n",
       "      <td>0.999030</td>\n",
       "      <td>0.253756</td>\n",
       "      <td>0.982708</td>\n",
       "      <td>0.723898</td>\n",
       "      <td>0.320046</td>\n",
       "      <td>0.971128</td>\n",
       "      <td>0.714577</td>\n",
       "      <td>0.857942</td>\n",
       "      <td>0.704847</td>\n",
       "      <td>0.603296</td>\n",
       "      <td>0.407280</td>\n",
       "      <td>0.835560</td>\n",
       "      <td>0.264472</td>\n",
       "      <td>0.618823</td>\n",
       "      <td>0.190634</td>\n",
       "      <td>0.509791</td>\n",
       "      <td>0.437947</td>\n",
       "    </tr>\n",
       "    <tr>\n",
       "      <th>2</th>\n",
       "      <td>0.936836</td>\n",
       "      <td>0.343946</td>\n",
       "      <td>0.508173</td>\n",
       "      <td>0.153993</td>\n",
       "      <td>0.873456</td>\n",
       "      <td>0.199438</td>\n",
       "      <td>0.672317</td>\n",
       "      <td>0.041503</td>\n",
       "      <td>0.619615</td>\n",
       "      <td>0.607566</td>\n",
       "      <td>0.423979</td>\n",
       "      <td>0.506272</td>\n",
       "      <td>0.498495</td>\n",
       "      <td>0.643078</td>\n",
       "      <td>0.348946</td>\n",
       "      <td>0.512649</td>\n",
       "      <td>0.702606</td>\n",
       "      <td>0.377957</td>\n",
       "      <td>0.906852</td>\n",
       "      <td>0.190442</td>\n",
       "    </tr>\n",
       "    <tr>\n",
       "      <th>3</th>\n",
       "      <td>0.352413</td>\n",
       "      <td>0.423265</td>\n",
       "      <td>0.446650</td>\n",
       "      <td>0.459018</td>\n",
       "      <td>0.513713</td>\n",
       "      <td>0.391422</td>\n",
       "      <td>0.724505</td>\n",
       "      <td>0.350800</td>\n",
       "      <td>0.506262</td>\n",
       "      <td>0.519569</td>\n",
       "      <td>0.168238</td>\n",
       "      <td>0.135435</td>\n",
       "      <td>0.193060</td>\n",
       "      <td>0.193454</td>\n",
       "      <td>0.819852</td>\n",
       "      <td>0.031308</td>\n",
       "      <td>0.622747</td>\n",
       "      <td>0.291668</td>\n",
       "      <td>0.211264</td>\n",
       "      <td>0.689156</td>\n",
       "    </tr>\n",
       "    <tr>\n",
       "      <th>4</th>\n",
       "      <td>0.502309</td>\n",
       "      <td>0.550584</td>\n",
       "      <td>0.514190</td>\n",
       "      <td>0.954232</td>\n",
       "      <td>0.855727</td>\n",
       "      <td>0.579191</td>\n",
       "      <td>0.987647</td>\n",
       "      <td>0.004607</td>\n",
       "      <td>0.350877</td>\n",
       "      <td>0.283158</td>\n",
       "      <td>0.168072</td>\n",
       "      <td>0.386852</td>\n",
       "      <td>0.075447</td>\n",
       "      <td>0.076493</td>\n",
       "      <td>0.123713</td>\n",
       "      <td>0.705008</td>\n",
       "      <td>0.956063</td>\n",
       "      <td>0.363656</td>\n",
       "      <td>0.926345</td>\n",
       "      <td>0.994516</td>\n",
       "    </tr>\n",
       "    <tr>\n",
       "      <th>5</th>\n",
       "      <td>0.717893</td>\n",
       "      <td>0.814539</td>\n",
       "      <td>0.863303</td>\n",
       "      <td>0.797791</td>\n",
       "      <td>0.622927</td>\n",
       "      <td>0.523401</td>\n",
       "      <td>0.106291</td>\n",
       "      <td>0.549965</td>\n",
       "      <td>0.094039</td>\n",
       "      <td>0.028877</td>\n",
       "      <td>0.787173</td>\n",
       "      <td>0.770043</td>\n",
       "      <td>0.997714</td>\n",
       "      <td>0.061083</td>\n",
       "      <td>0.569064</td>\n",
       "      <td>0.046093</td>\n",
       "      <td>0.856837</td>\n",
       "      <td>0.940176</td>\n",
       "      <td>0.912941</td>\n",
       "      <td>0.791465</td>\n",
       "    </tr>\n",
       "  </tbody>\n",
       "</table>\n",
       "</div>"
      ],
      "text/plain": [
       "         0         1         2         3         4         5         6   \\\n",
       "0  0.458560  0.072453  0.928245  0.168363  0.517631  0.623178  0.607373   \n",
       "1  0.986266  0.792368  0.709963  0.999030  0.253756  0.982708  0.723898   \n",
       "2  0.936836  0.343946  0.508173  0.153993  0.873456  0.199438  0.672317   \n",
       "3  0.352413  0.423265  0.446650  0.459018  0.513713  0.391422  0.724505   \n",
       "4  0.502309  0.550584  0.514190  0.954232  0.855727  0.579191  0.987647   \n",
       "5  0.717893  0.814539  0.863303  0.797791  0.622927  0.523401  0.106291   \n",
       "\n",
       "         7         8         9         10        11        12        13  \\\n",
       "0  0.188756  0.227407  0.324222  0.206941  0.846883  0.219009  0.705817   \n",
       "1  0.320046  0.971128  0.714577  0.857942  0.704847  0.603296  0.407280   \n",
       "2  0.041503  0.619615  0.607566  0.423979  0.506272  0.498495  0.643078   \n",
       "3  0.350800  0.506262  0.519569  0.168238  0.135435  0.193060  0.193454   \n",
       "4  0.004607  0.350877  0.283158  0.168072  0.386852  0.075447  0.076493   \n",
       "5  0.549965  0.094039  0.028877  0.787173  0.770043  0.997714  0.061083   \n",
       "\n",
       "         14        15        16        17        18        19  \n",
       "0  0.834642  0.556545  0.749625  0.798504  0.102682  0.131773  \n",
       "1  0.835560  0.264472  0.618823  0.190634  0.509791  0.437947  \n",
       "2  0.348946  0.512649  0.702606  0.377957  0.906852  0.190442  \n",
       "3  0.819852  0.031308  0.622747  0.291668  0.211264  0.689156  \n",
       "4  0.123713  0.705008  0.956063  0.363656  0.926345  0.994516  \n",
       "5  0.569064  0.046093  0.856837  0.940176  0.912941  0.791465  "
      ]
     },
     "execution_count": 57,
     "metadata": {},
     "output_type": "execute_result"
    }
   ],
   "source": [
    "s2.T"
   ]
  },
  {
   "cell_type": "code",
   "execution_count": 58,
   "metadata": {
    "collapsed": false
   },
   "outputs": [
    {
     "data": {
      "text/html": [
       "<div>\n",
       "<table border=\"1\" class=\"dataframe\">\n",
       "  <thead>\n",
       "    <tr style=\"text-align: right;\">\n",
       "      <th></th>\n",
       "      <th>0</th>\n",
       "      <th>1</th>\n",
       "      <th>2</th>\n",
       "      <th>3</th>\n",
       "      <th>4</th>\n",
       "      <th>5</th>\n",
       "      <th>6</th>\n",
       "      <th>7</th>\n",
       "      <th>8</th>\n",
       "      <th>9</th>\n",
       "      <th>10</th>\n",
       "      <th>11</th>\n",
       "      <th>12</th>\n",
       "      <th>13</th>\n",
       "      <th>14</th>\n",
       "      <th>15</th>\n",
       "      <th>16</th>\n",
       "      <th>17</th>\n",
       "      <th>18</th>\n",
       "      <th>19</th>\n",
       "    </tr>\n",
       "  </thead>\n",
       "  <tbody>\n",
       "    <tr>\n",
       "      <th>count</th>\n",
       "      <td>6.000000</td>\n",
       "      <td>6.000000</td>\n",
       "      <td>6.000000</td>\n",
       "      <td>6.000000</td>\n",
       "      <td>6.000000</td>\n",
       "      <td>6.000000</td>\n",
       "      <td>6.000000</td>\n",
       "      <td>6.000000</td>\n",
       "      <td>6.000000</td>\n",
       "      <td>6.000000</td>\n",
       "      <td>6.000000</td>\n",
       "      <td>6.000000</td>\n",
       "      <td>6.000000</td>\n",
       "      <td>6.000000</td>\n",
       "      <td>6.000000</td>\n",
       "      <td>6.000000</td>\n",
       "      <td>6.000000</td>\n",
       "      <td>6.000000</td>\n",
       "      <td>6.000000</td>\n",
       "      <td>6.000000</td>\n",
       "    </tr>\n",
       "    <tr>\n",
       "      <th>mean</th>\n",
       "      <td>0.659046</td>\n",
       "      <td>0.499526</td>\n",
       "      <td>0.661754</td>\n",
       "      <td>0.588738</td>\n",
       "      <td>0.606202</td>\n",
       "      <td>0.549890</td>\n",
       "      <td>0.637005</td>\n",
       "      <td>0.242613</td>\n",
       "      <td>0.461555</td>\n",
       "      <td>0.412995</td>\n",
       "      <td>0.435391</td>\n",
       "      <td>0.558389</td>\n",
       "      <td>0.431170</td>\n",
       "      <td>0.347868</td>\n",
       "      <td>0.588629</td>\n",
       "      <td>0.352679</td>\n",
       "      <td>0.751117</td>\n",
       "      <td>0.493766</td>\n",
       "      <td>0.594979</td>\n",
       "      <td>0.539216</td>\n",
       "    </tr>\n",
       "    <tr>\n",
       "      <th>std</th>\n",
       "      <td>0.263245</td>\n",
       "      <td>0.282846</td>\n",
       "      <td>0.202779</td>\n",
       "      <td>0.381621</td>\n",
       "      <td>0.234344</td>\n",
       "      <td>0.261607</td>\n",
       "      <td>0.290496</td>\n",
       "      <td>0.205989</td>\n",
       "      <td>0.312663</td>\n",
       "      <td>0.249981</td>\n",
       "      <td>0.315420</td>\n",
       "      <td>0.268517</td>\n",
       "      <td>0.341579</td>\n",
       "      <td>0.282326</td>\n",
       "      <td>0.299646</td>\n",
       "      <td>0.281547</td>\n",
       "      <td>0.133802</td>\n",
       "      <td>0.301735</td>\n",
       "      <td>0.375505</td>\n",
       "      <td>0.343895</td>\n",
       "    </tr>\n",
       "    <tr>\n",
       "      <th>min</th>\n",
       "      <td>0.352413</td>\n",
       "      <td>0.072453</td>\n",
       "      <td>0.446650</td>\n",
       "      <td>0.153993</td>\n",
       "      <td>0.253756</td>\n",
       "      <td>0.199438</td>\n",
       "      <td>0.106291</td>\n",
       "      <td>0.004607</td>\n",
       "      <td>0.094039</td>\n",
       "      <td>0.028877</td>\n",
       "      <td>0.168072</td>\n",
       "      <td>0.135435</td>\n",
       "      <td>0.075447</td>\n",
       "      <td>0.061083</td>\n",
       "      <td>0.123713</td>\n",
       "      <td>0.031308</td>\n",
       "      <td>0.618823</td>\n",
       "      <td>0.190634</td>\n",
       "      <td>0.102682</td>\n",
       "      <td>0.131773</td>\n",
       "    </tr>\n",
       "    <tr>\n",
       "      <th>25%</th>\n",
       "      <td>0.469497</td>\n",
       "      <td>0.363775</td>\n",
       "      <td>0.509678</td>\n",
       "      <td>0.241027</td>\n",
       "      <td>0.514692</td>\n",
       "      <td>0.424417</td>\n",
       "      <td>0.623609</td>\n",
       "      <td>0.078316</td>\n",
       "      <td>0.258274</td>\n",
       "      <td>0.293424</td>\n",
       "      <td>0.177914</td>\n",
       "      <td>0.416707</td>\n",
       "      <td>0.199547</td>\n",
       "      <td>0.105734</td>\n",
       "      <td>0.403976</td>\n",
       "      <td>0.100688</td>\n",
       "      <td>0.642712</td>\n",
       "      <td>0.309665</td>\n",
       "      <td>0.285896</td>\n",
       "      <td>0.252318</td>\n",
       "    </tr>\n",
       "    <tr>\n",
       "      <th>50%</th>\n",
       "      <td>0.610101</td>\n",
       "      <td>0.486924</td>\n",
       "      <td>0.612076</td>\n",
       "      <td>0.628405</td>\n",
       "      <td>0.570279</td>\n",
       "      <td>0.551296</td>\n",
       "      <td>0.698108</td>\n",
       "      <td>0.254401</td>\n",
       "      <td>0.428570</td>\n",
       "      <td>0.421896</td>\n",
       "      <td>0.315460</td>\n",
       "      <td>0.605560</td>\n",
       "      <td>0.358752</td>\n",
       "      <td>0.300367</td>\n",
       "      <td>0.694458</td>\n",
       "      <td>0.388561</td>\n",
       "      <td>0.726116</td>\n",
       "      <td>0.370806</td>\n",
       "      <td>0.708322</td>\n",
       "      <td>0.563551</td>\n",
       "    </tr>\n",
       "    <tr>\n",
       "      <th>75%</th>\n",
       "      <td>0.882100</td>\n",
       "      <td>0.731922</td>\n",
       "      <td>0.824968</td>\n",
       "      <td>0.915122</td>\n",
       "      <td>0.797527</td>\n",
       "      <td>0.612181</td>\n",
       "      <td>0.724353</td>\n",
       "      <td>0.343112</td>\n",
       "      <td>0.591277</td>\n",
       "      <td>0.585567</td>\n",
       "      <td>0.696375</td>\n",
       "      <td>0.753744</td>\n",
       "      <td>0.577096</td>\n",
       "      <td>0.584129</td>\n",
       "      <td>0.830944</td>\n",
       "      <td>0.545571</td>\n",
       "      <td>0.830034</td>\n",
       "      <td>0.693367</td>\n",
       "      <td>0.911419</td>\n",
       "      <td>0.765887</td>\n",
       "    </tr>\n",
       "    <tr>\n",
       "      <th>max</th>\n",
       "      <td>0.986266</td>\n",
       "      <td>0.814539</td>\n",
       "      <td>0.928245</td>\n",
       "      <td>0.999030</td>\n",
       "      <td>0.873456</td>\n",
       "      <td>0.982708</td>\n",
       "      <td>0.987647</td>\n",
       "      <td>0.549965</td>\n",
       "      <td>0.971128</td>\n",
       "      <td>0.714577</td>\n",
       "      <td>0.857942</td>\n",
       "      <td>0.846883</td>\n",
       "      <td>0.997714</td>\n",
       "      <td>0.705817</td>\n",
       "      <td>0.835560</td>\n",
       "      <td>0.705008</td>\n",
       "      <td>0.956063</td>\n",
       "      <td>0.940176</td>\n",
       "      <td>0.926345</td>\n",
       "      <td>0.994516</td>\n",
       "    </tr>\n",
       "  </tbody>\n",
       "</table>\n",
       "</div>"
      ],
      "text/plain": [
       "             0         1         2         3         4         5         6   \\\n",
       "count  6.000000  6.000000  6.000000  6.000000  6.000000  6.000000  6.000000   \n",
       "mean   0.659046  0.499526  0.661754  0.588738  0.606202  0.549890  0.637005   \n",
       "std    0.263245  0.282846  0.202779  0.381621  0.234344  0.261607  0.290496   \n",
       "min    0.352413  0.072453  0.446650  0.153993  0.253756  0.199438  0.106291   \n",
       "25%    0.469497  0.363775  0.509678  0.241027  0.514692  0.424417  0.623609   \n",
       "50%    0.610101  0.486924  0.612076  0.628405  0.570279  0.551296  0.698108   \n",
       "75%    0.882100  0.731922  0.824968  0.915122  0.797527  0.612181  0.724353   \n",
       "max    0.986266  0.814539  0.928245  0.999030  0.873456  0.982708  0.987647   \n",
       "\n",
       "             7         8         9         10        11        12        13  \\\n",
       "count  6.000000  6.000000  6.000000  6.000000  6.000000  6.000000  6.000000   \n",
       "mean   0.242613  0.461555  0.412995  0.435391  0.558389  0.431170  0.347868   \n",
       "std    0.205989  0.312663  0.249981  0.315420  0.268517  0.341579  0.282326   \n",
       "min    0.004607  0.094039  0.028877  0.168072  0.135435  0.075447  0.061083   \n",
       "25%    0.078316  0.258274  0.293424  0.177914  0.416707  0.199547  0.105734   \n",
       "50%    0.254401  0.428570  0.421896  0.315460  0.605560  0.358752  0.300367   \n",
       "75%    0.343112  0.591277  0.585567  0.696375  0.753744  0.577096  0.584129   \n",
       "max    0.549965  0.971128  0.714577  0.857942  0.846883  0.997714  0.705817   \n",
       "\n",
       "             14        15        16        17        18        19  \n",
       "count  6.000000  6.000000  6.000000  6.000000  6.000000  6.000000  \n",
       "mean   0.588629  0.352679  0.751117  0.493766  0.594979  0.539216  \n",
       "std    0.299646  0.281547  0.133802  0.301735  0.375505  0.343895  \n",
       "min    0.123713  0.031308  0.618823  0.190634  0.102682  0.131773  \n",
       "25%    0.403976  0.100688  0.642712  0.309665  0.285896  0.252318  \n",
       "50%    0.694458  0.388561  0.726116  0.370806  0.708322  0.563551  \n",
       "75%    0.830944  0.545571  0.830034  0.693367  0.911419  0.765887  \n",
       "max    0.835560  0.705008  0.956063  0.940176  0.926345  0.994516  "
      ]
     },
     "execution_count": 58,
     "metadata": {},
     "output_type": "execute_result"
    }
   ],
   "source": [
    "s2.T.describe()"
   ]
  },
  {
   "cell_type": "markdown",
   "metadata": {},
   "source": [
    "### 按轴排序"
   ]
  },
  {
   "cell_type": "code",
   "execution_count": 61,
   "metadata": {
    "collapsed": false
   },
   "outputs": [],
   "source": [
    "s2.columns=['a','c','d','b','e','y']"
   ]
  },
  {
   "cell_type": "code",
   "execution_count": 172,
   "metadata": {
    "collapsed": false
   },
   "outputs": [
    {
     "data": {
      "text/html": [
       "<div>\n",
       "<table border=\"1\" class=\"dataframe\">\n",
       "  <thead>\n",
       "    <tr style=\"text-align: right;\">\n",
       "      <th></th>\n",
       "      <th>a</th>\n",
       "      <th>c</th>\n",
       "      <th>d</th>\n",
       "      <th>b</th>\n",
       "      <th>e</th>\n",
       "      <th>y</th>\n",
       "    </tr>\n",
       "  </thead>\n",
       "  <tbody>\n",
       "    <tr>\n",
       "      <th>0</th>\n",
       "      <td>0.991901</td>\n",
       "      <td>0.838998</td>\n",
       "      <td>0.775604</td>\n",
       "      <td>0.892089</td>\n",
       "      <td>0.102794</td>\n",
       "      <td>0.636771</td>\n",
       "    </tr>\n",
       "    <tr>\n",
       "      <th>1</th>\n",
       "      <td>0.389468</td>\n",
       "      <td>0.247012</td>\n",
       "      <td>0.457715</td>\n",
       "      <td>0.142122</td>\n",
       "      <td>0.346488</td>\n",
       "      <td>0.271232</td>\n",
       "    </tr>\n",
       "    <tr>\n",
       "      <th>2</th>\n",
       "      <td>0.074315</td>\n",
       "      <td>0.187233</td>\n",
       "      <td>0.036972</td>\n",
       "      <td>0.936166</td>\n",
       "      <td>0.729084</td>\n",
       "      <td>0.592069</td>\n",
       "    </tr>\n",
       "    <tr>\n",
       "      <th>3</th>\n",
       "      <td>0.793904</td>\n",
       "      <td>0.716845</td>\n",
       "      <td>0.960509</td>\n",
       "      <td>0.976558</td>\n",
       "      <td>0.929384</td>\n",
       "      <td>0.369410</td>\n",
       "    </tr>\n",
       "    <tr>\n",
       "      <th>4</th>\n",
       "      <td>0.133066</td>\n",
       "      <td>0.534543</td>\n",
       "      <td>0.564230</td>\n",
       "      <td>0.208281</td>\n",
       "      <td>0.234824</td>\n",
       "      <td>0.519950</td>\n",
       "    </tr>\n",
       "    <tr>\n",
       "      <th>5</th>\n",
       "      <td>0.397447</td>\n",
       "      <td>0.115304</td>\n",
       "      <td>0.621605</td>\n",
       "      <td>0.747432</td>\n",
       "      <td>0.789140</td>\n",
       "      <td>0.279844</td>\n",
       "    </tr>\n",
       "    <tr>\n",
       "      <th>6</th>\n",
       "      <td>0.917733</td>\n",
       "      <td>0.739812</td>\n",
       "      <td>0.463090</td>\n",
       "      <td>0.906051</td>\n",
       "      <td>0.473681</td>\n",
       "      <td>0.759881</td>\n",
       "    </tr>\n",
       "    <tr>\n",
       "      <th>7</th>\n",
       "      <td>0.239488</td>\n",
       "      <td>0.453373</td>\n",
       "      <td>0.082169</td>\n",
       "      <td>0.191129</td>\n",
       "      <td>0.271556</td>\n",
       "      <td>0.208201</td>\n",
       "    </tr>\n",
       "    <tr>\n",
       "      <th>8</th>\n",
       "      <td>0.994808</td>\n",
       "      <td>0.419953</td>\n",
       "      <td>0.872775</td>\n",
       "      <td>0.782133</td>\n",
       "      <td>0.558537</td>\n",
       "      <td>0.323859</td>\n",
       "    </tr>\n",
       "    <tr>\n",
       "      <th>9</th>\n",
       "      <td>0.389550</td>\n",
       "      <td>0.537000</td>\n",
       "      <td>0.941417</td>\n",
       "      <td>0.081433</td>\n",
       "      <td>0.909537</td>\n",
       "      <td>0.278162</td>\n",
       "    </tr>\n",
       "    <tr>\n",
       "      <th>10</th>\n",
       "      <td>0.672800</td>\n",
       "      <td>0.349404</td>\n",
       "      <td>0.576208</td>\n",
       "      <td>0.922537</td>\n",
       "      <td>0.431780</td>\n",
       "      <td>0.790312</td>\n",
       "    </tr>\n",
       "    <tr>\n",
       "      <th>11</th>\n",
       "      <td>0.052775</td>\n",
       "      <td>0.658172</td>\n",
       "      <td>0.334694</td>\n",
       "      <td>0.153849</td>\n",
       "      <td>0.454398</td>\n",
       "      <td>0.889913</td>\n",
       "    </tr>\n",
       "    <tr>\n",
       "      <th>12</th>\n",
       "      <td>0.378632</td>\n",
       "      <td>0.326843</td>\n",
       "      <td>0.876146</td>\n",
       "      <td>0.136811</td>\n",
       "      <td>0.474922</td>\n",
       "      <td>0.885783</td>\n",
       "    </tr>\n",
       "    <tr>\n",
       "      <th>13</th>\n",
       "      <td>0.132031</td>\n",
       "      <td>0.151797</td>\n",
       "      <td>0.004512</td>\n",
       "      <td>0.552894</td>\n",
       "      <td>0.006434</td>\n",
       "      <td>0.041160</td>\n",
       "    </tr>\n",
       "    <tr>\n",
       "      <th>14</th>\n",
       "      <td>0.438989</td>\n",
       "      <td>0.485103</td>\n",
       "      <td>0.693182</td>\n",
       "      <td>0.465587</td>\n",
       "      <td>0.106033</td>\n",
       "      <td>0.251320</td>\n",
       "    </tr>\n",
       "    <tr>\n",
       "      <th>15</th>\n",
       "      <td>0.683394</td>\n",
       "      <td>0.158604</td>\n",
       "      <td>0.168268</td>\n",
       "      <td>0.935361</td>\n",
       "      <td>0.487690</td>\n",
       "      <td>0.656782</td>\n",
       "    </tr>\n",
       "    <tr>\n",
       "      <th>16</th>\n",
       "      <td>0.101132</td>\n",
       "      <td>0.797641</td>\n",
       "      <td>0.580322</td>\n",
       "      <td>0.442150</td>\n",
       "      <td>0.738622</td>\n",
       "      <td>0.975511</td>\n",
       "    </tr>\n",
       "    <tr>\n",
       "      <th>17</th>\n",
       "      <td>0.186438</td>\n",
       "      <td>0.665435</td>\n",
       "      <td>0.269656</td>\n",
       "      <td>0.852374</td>\n",
       "      <td>0.867811</td>\n",
       "      <td>0.175726</td>\n",
       "    </tr>\n",
       "    <tr>\n",
       "      <th>18</th>\n",
       "      <td>0.755481</td>\n",
       "      <td>0.585333</td>\n",
       "      <td>0.876494</td>\n",
       "      <td>0.051804</td>\n",
       "      <td>0.744058</td>\n",
       "      <td>0.879977</td>\n",
       "    </tr>\n",
       "    <tr>\n",
       "      <th>19</th>\n",
       "      <td>0.758668</td>\n",
       "      <td>0.250244</td>\n",
       "      <td>0.721471</td>\n",
       "      <td>0.471689</td>\n",
       "      <td>0.823709</td>\n",
       "      <td>0.570059</td>\n",
       "    </tr>\n",
       "  </tbody>\n",
       "</table>\n",
       "</div>"
      ],
      "text/plain": [
       "           a         c         d         b         e         y\n",
       "0   0.991901  0.838998  0.775604  0.892089  0.102794  0.636771\n",
       "1   0.389468  0.247012  0.457715  0.142122  0.346488  0.271232\n",
       "2   0.074315  0.187233  0.036972  0.936166  0.729084  0.592069\n",
       "3   0.793904  0.716845  0.960509  0.976558  0.929384  0.369410\n",
       "4   0.133066  0.534543  0.564230  0.208281  0.234824  0.519950\n",
       "5   0.397447  0.115304  0.621605  0.747432  0.789140  0.279844\n",
       "6   0.917733  0.739812  0.463090  0.906051  0.473681  0.759881\n",
       "7   0.239488  0.453373  0.082169  0.191129  0.271556  0.208201\n",
       "8   0.994808  0.419953  0.872775  0.782133  0.558537  0.323859\n",
       "9   0.389550  0.537000  0.941417  0.081433  0.909537  0.278162\n",
       "10  0.672800  0.349404  0.576208  0.922537  0.431780  0.790312\n",
       "11  0.052775  0.658172  0.334694  0.153849  0.454398  0.889913\n",
       "12  0.378632  0.326843  0.876146  0.136811  0.474922  0.885783\n",
       "13  0.132031  0.151797  0.004512  0.552894  0.006434  0.041160\n",
       "14  0.438989  0.485103  0.693182  0.465587  0.106033  0.251320\n",
       "15  0.683394  0.158604  0.168268  0.935361  0.487690  0.656782\n",
       "16  0.101132  0.797641  0.580322  0.442150  0.738622  0.975511\n",
       "17  0.186438  0.665435  0.269656  0.852374  0.867811  0.175726\n",
       "18  0.755481  0.585333  0.876494  0.051804  0.744058  0.879977\n",
       "19  0.758668  0.250244  0.721471  0.471689  0.823709  0.570059"
      ]
     },
     "execution_count": 172,
     "metadata": {},
     "output_type": "execute_result"
    }
   ],
   "source": [
    "s2"
   ]
  },
  {
   "cell_type": "code",
   "execution_count": 62,
   "metadata": {
    "collapsed": false
   },
   "outputs": [
    {
     "data": {
      "text/html": [
       "<div>\n",
       "<table border=\"1\" class=\"dataframe\">\n",
       "  <thead>\n",
       "    <tr style=\"text-align: right;\">\n",
       "      <th></th>\n",
       "      <th>y</th>\n",
       "      <th>e</th>\n",
       "      <th>d</th>\n",
       "      <th>c</th>\n",
       "      <th>b</th>\n",
       "      <th>a</th>\n",
       "    </tr>\n",
       "  </thead>\n",
       "  <tbody>\n",
       "    <tr>\n",
       "      <th>0</th>\n",
       "      <td>0.717893</td>\n",
       "      <td>0.502309</td>\n",
       "      <td>0.936836</td>\n",
       "      <td>0.986266</td>\n",
       "      <td>0.352413</td>\n",
       "      <td>0.458560</td>\n",
       "    </tr>\n",
       "    <tr>\n",
       "      <th>1</th>\n",
       "      <td>0.814539</td>\n",
       "      <td>0.550584</td>\n",
       "      <td>0.343946</td>\n",
       "      <td>0.792368</td>\n",
       "      <td>0.423265</td>\n",
       "      <td>0.072453</td>\n",
       "    </tr>\n",
       "    <tr>\n",
       "      <th>2</th>\n",
       "      <td>0.863303</td>\n",
       "      <td>0.514190</td>\n",
       "      <td>0.508173</td>\n",
       "      <td>0.709963</td>\n",
       "      <td>0.446650</td>\n",
       "      <td>0.928245</td>\n",
       "    </tr>\n",
       "    <tr>\n",
       "      <th>3</th>\n",
       "      <td>0.797791</td>\n",
       "      <td>0.954232</td>\n",
       "      <td>0.153993</td>\n",
       "      <td>0.999030</td>\n",
       "      <td>0.459018</td>\n",
       "      <td>0.168363</td>\n",
       "    </tr>\n",
       "    <tr>\n",
       "      <th>4</th>\n",
       "      <td>0.622927</td>\n",
       "      <td>0.855727</td>\n",
       "      <td>0.873456</td>\n",
       "      <td>0.253756</td>\n",
       "      <td>0.513713</td>\n",
       "      <td>0.517631</td>\n",
       "    </tr>\n",
       "    <tr>\n",
       "      <th>5</th>\n",
       "      <td>0.523401</td>\n",
       "      <td>0.579191</td>\n",
       "      <td>0.199438</td>\n",
       "      <td>0.982708</td>\n",
       "      <td>0.391422</td>\n",
       "      <td>0.623178</td>\n",
       "    </tr>\n",
       "    <tr>\n",
       "      <th>6</th>\n",
       "      <td>0.106291</td>\n",
       "      <td>0.987647</td>\n",
       "      <td>0.672317</td>\n",
       "      <td>0.723898</td>\n",
       "      <td>0.724505</td>\n",
       "      <td>0.607373</td>\n",
       "    </tr>\n",
       "    <tr>\n",
       "      <th>7</th>\n",
       "      <td>0.549965</td>\n",
       "      <td>0.004607</td>\n",
       "      <td>0.041503</td>\n",
       "      <td>0.320046</td>\n",
       "      <td>0.350800</td>\n",
       "      <td>0.188756</td>\n",
       "    </tr>\n",
       "    <tr>\n",
       "      <th>8</th>\n",
       "      <td>0.094039</td>\n",
       "      <td>0.350877</td>\n",
       "      <td>0.619615</td>\n",
       "      <td>0.971128</td>\n",
       "      <td>0.506262</td>\n",
       "      <td>0.227407</td>\n",
       "    </tr>\n",
       "    <tr>\n",
       "      <th>9</th>\n",
       "      <td>0.028877</td>\n",
       "      <td>0.283158</td>\n",
       "      <td>0.607566</td>\n",
       "      <td>0.714577</td>\n",
       "      <td>0.519569</td>\n",
       "      <td>0.324222</td>\n",
       "    </tr>\n",
       "    <tr>\n",
       "      <th>10</th>\n",
       "      <td>0.787173</td>\n",
       "      <td>0.168072</td>\n",
       "      <td>0.423979</td>\n",
       "      <td>0.857942</td>\n",
       "      <td>0.168238</td>\n",
       "      <td>0.206941</td>\n",
       "    </tr>\n",
       "    <tr>\n",
       "      <th>11</th>\n",
       "      <td>0.770043</td>\n",
       "      <td>0.386852</td>\n",
       "      <td>0.506272</td>\n",
       "      <td>0.704847</td>\n",
       "      <td>0.135435</td>\n",
       "      <td>0.846883</td>\n",
       "    </tr>\n",
       "    <tr>\n",
       "      <th>12</th>\n",
       "      <td>0.997714</td>\n",
       "      <td>0.075447</td>\n",
       "      <td>0.498495</td>\n",
       "      <td>0.603296</td>\n",
       "      <td>0.193060</td>\n",
       "      <td>0.219009</td>\n",
       "    </tr>\n",
       "    <tr>\n",
       "      <th>13</th>\n",
       "      <td>0.061083</td>\n",
       "      <td>0.076493</td>\n",
       "      <td>0.643078</td>\n",
       "      <td>0.407280</td>\n",
       "      <td>0.193454</td>\n",
       "      <td>0.705817</td>\n",
       "    </tr>\n",
       "    <tr>\n",
       "      <th>14</th>\n",
       "      <td>0.569064</td>\n",
       "      <td>0.123713</td>\n",
       "      <td>0.348946</td>\n",
       "      <td>0.835560</td>\n",
       "      <td>0.819852</td>\n",
       "      <td>0.834642</td>\n",
       "    </tr>\n",
       "    <tr>\n",
       "      <th>15</th>\n",
       "      <td>0.046093</td>\n",
       "      <td>0.705008</td>\n",
       "      <td>0.512649</td>\n",
       "      <td>0.264472</td>\n",
       "      <td>0.031308</td>\n",
       "      <td>0.556545</td>\n",
       "    </tr>\n",
       "    <tr>\n",
       "      <th>16</th>\n",
       "      <td>0.856837</td>\n",
       "      <td>0.956063</td>\n",
       "      <td>0.702606</td>\n",
       "      <td>0.618823</td>\n",
       "      <td>0.622747</td>\n",
       "      <td>0.749625</td>\n",
       "    </tr>\n",
       "    <tr>\n",
       "      <th>17</th>\n",
       "      <td>0.940176</td>\n",
       "      <td>0.363656</td>\n",
       "      <td>0.377957</td>\n",
       "      <td>0.190634</td>\n",
       "      <td>0.291668</td>\n",
       "      <td>0.798504</td>\n",
       "    </tr>\n",
       "    <tr>\n",
       "      <th>18</th>\n",
       "      <td>0.912941</td>\n",
       "      <td>0.926345</td>\n",
       "      <td>0.906852</td>\n",
       "      <td>0.509791</td>\n",
       "      <td>0.211264</td>\n",
       "      <td>0.102682</td>\n",
       "    </tr>\n",
       "    <tr>\n",
       "      <th>19</th>\n",
       "      <td>0.791465</td>\n",
       "      <td>0.994516</td>\n",
       "      <td>0.190442</td>\n",
       "      <td>0.437947</td>\n",
       "      <td>0.689156</td>\n",
       "      <td>0.131773</td>\n",
       "    </tr>\n",
       "  </tbody>\n",
       "</table>\n",
       "</div>"
      ],
      "text/plain": [
       "           y         e         d         c         b         a\n",
       "0   0.717893  0.502309  0.936836  0.986266  0.352413  0.458560\n",
       "1   0.814539  0.550584  0.343946  0.792368  0.423265  0.072453\n",
       "2   0.863303  0.514190  0.508173  0.709963  0.446650  0.928245\n",
       "3   0.797791  0.954232  0.153993  0.999030  0.459018  0.168363\n",
       "4   0.622927  0.855727  0.873456  0.253756  0.513713  0.517631\n",
       "5   0.523401  0.579191  0.199438  0.982708  0.391422  0.623178\n",
       "6   0.106291  0.987647  0.672317  0.723898  0.724505  0.607373\n",
       "7   0.549965  0.004607  0.041503  0.320046  0.350800  0.188756\n",
       "8   0.094039  0.350877  0.619615  0.971128  0.506262  0.227407\n",
       "9   0.028877  0.283158  0.607566  0.714577  0.519569  0.324222\n",
       "10  0.787173  0.168072  0.423979  0.857942  0.168238  0.206941\n",
       "11  0.770043  0.386852  0.506272  0.704847  0.135435  0.846883\n",
       "12  0.997714  0.075447  0.498495  0.603296  0.193060  0.219009\n",
       "13  0.061083  0.076493  0.643078  0.407280  0.193454  0.705817\n",
       "14  0.569064  0.123713  0.348946  0.835560  0.819852  0.834642\n",
       "15  0.046093  0.705008  0.512649  0.264472  0.031308  0.556545\n",
       "16  0.856837  0.956063  0.702606  0.618823  0.622747  0.749625\n",
       "17  0.940176  0.363656  0.377957  0.190634  0.291668  0.798504\n",
       "18  0.912941  0.926345  0.906852  0.509791  0.211264  0.102682\n",
       "19  0.791465  0.994516  0.190442  0.437947  0.689156  0.131773"
      ]
     },
     "execution_count": 62,
     "metadata": {},
     "output_type": "execute_result"
    }
   ],
   "source": [
    "s2.sort_index(axis=1,ascending=False)  \n",
    "#axis代表轴，0为行轴，1为列轴\n",
    "#ascending 排序的方式，默认True，表示升序，False则为降序"
   ]
  },
  {
   "cell_type": "markdown",
   "metadata": {},
   "source": [
    "## 按值排序"
   ]
  },
  {
   "cell_type": "code",
   "execution_count": 63,
   "metadata": {
    "collapsed": false
   },
   "outputs": [
    {
     "name": "stderr",
     "output_type": "stream",
     "text": [
      "D:\\ProgramData\\Anaconda2\\lib\\site-packages\\ipykernel\\__main__.py:1: FutureWarning: sort(columns=....) is deprecated, use sort_values(by=.....)\n",
      "  if __name__ == '__main__':\n"
     ]
    },
    {
     "data": {
      "text/html": [
       "<div>\n",
       "<table border=\"1\" class=\"dataframe\">\n",
       "  <thead>\n",
       "    <tr style=\"text-align: right;\">\n",
       "      <th></th>\n",
       "      <th>a</th>\n",
       "      <th>c</th>\n",
       "      <th>d</th>\n",
       "      <th>b</th>\n",
       "      <th>e</th>\n",
       "      <th>y</th>\n",
       "    </tr>\n",
       "  </thead>\n",
       "  <tbody>\n",
       "    <tr>\n",
       "      <th>15</th>\n",
       "      <td>0.556545</td>\n",
       "      <td>0.264472</td>\n",
       "      <td>0.512649</td>\n",
       "      <td>0.031308</td>\n",
       "      <td>0.705008</td>\n",
       "      <td>0.046093</td>\n",
       "    </tr>\n",
       "    <tr>\n",
       "      <th>11</th>\n",
       "      <td>0.846883</td>\n",
       "      <td>0.704847</td>\n",
       "      <td>0.506272</td>\n",
       "      <td>0.135435</td>\n",
       "      <td>0.386852</td>\n",
       "      <td>0.770043</td>\n",
       "    </tr>\n",
       "    <tr>\n",
       "      <th>10</th>\n",
       "      <td>0.206941</td>\n",
       "      <td>0.857942</td>\n",
       "      <td>0.423979</td>\n",
       "      <td>0.168238</td>\n",
       "      <td>0.168072</td>\n",
       "      <td>0.787173</td>\n",
       "    </tr>\n",
       "    <tr>\n",
       "      <th>12</th>\n",
       "      <td>0.219009</td>\n",
       "      <td>0.603296</td>\n",
       "      <td>0.498495</td>\n",
       "      <td>0.193060</td>\n",
       "      <td>0.075447</td>\n",
       "      <td>0.997714</td>\n",
       "    </tr>\n",
       "    <tr>\n",
       "      <th>13</th>\n",
       "      <td>0.705817</td>\n",
       "      <td>0.407280</td>\n",
       "      <td>0.643078</td>\n",
       "      <td>0.193454</td>\n",
       "      <td>0.076493</td>\n",
       "      <td>0.061083</td>\n",
       "    </tr>\n",
       "    <tr>\n",
       "      <th>18</th>\n",
       "      <td>0.102682</td>\n",
       "      <td>0.509791</td>\n",
       "      <td>0.906852</td>\n",
       "      <td>0.211264</td>\n",
       "      <td>0.926345</td>\n",
       "      <td>0.912941</td>\n",
       "    </tr>\n",
       "    <tr>\n",
       "      <th>17</th>\n",
       "      <td>0.798504</td>\n",
       "      <td>0.190634</td>\n",
       "      <td>0.377957</td>\n",
       "      <td>0.291668</td>\n",
       "      <td>0.363656</td>\n",
       "      <td>0.940176</td>\n",
       "    </tr>\n",
       "    <tr>\n",
       "      <th>7</th>\n",
       "      <td>0.188756</td>\n",
       "      <td>0.320046</td>\n",
       "      <td>0.041503</td>\n",
       "      <td>0.350800</td>\n",
       "      <td>0.004607</td>\n",
       "      <td>0.549965</td>\n",
       "    </tr>\n",
       "    <tr>\n",
       "      <th>0</th>\n",
       "      <td>0.458560</td>\n",
       "      <td>0.986266</td>\n",
       "      <td>0.936836</td>\n",
       "      <td>0.352413</td>\n",
       "      <td>0.502309</td>\n",
       "      <td>0.717893</td>\n",
       "    </tr>\n",
       "    <tr>\n",
       "      <th>5</th>\n",
       "      <td>0.623178</td>\n",
       "      <td>0.982708</td>\n",
       "      <td>0.199438</td>\n",
       "      <td>0.391422</td>\n",
       "      <td>0.579191</td>\n",
       "      <td>0.523401</td>\n",
       "    </tr>\n",
       "    <tr>\n",
       "      <th>1</th>\n",
       "      <td>0.072453</td>\n",
       "      <td>0.792368</td>\n",
       "      <td>0.343946</td>\n",
       "      <td>0.423265</td>\n",
       "      <td>0.550584</td>\n",
       "      <td>0.814539</td>\n",
       "    </tr>\n",
       "    <tr>\n",
       "      <th>2</th>\n",
       "      <td>0.928245</td>\n",
       "      <td>0.709963</td>\n",
       "      <td>0.508173</td>\n",
       "      <td>0.446650</td>\n",
       "      <td>0.514190</td>\n",
       "      <td>0.863303</td>\n",
       "    </tr>\n",
       "    <tr>\n",
       "      <th>3</th>\n",
       "      <td>0.168363</td>\n",
       "      <td>0.999030</td>\n",
       "      <td>0.153993</td>\n",
       "      <td>0.459018</td>\n",
       "      <td>0.954232</td>\n",
       "      <td>0.797791</td>\n",
       "    </tr>\n",
       "    <tr>\n",
       "      <th>8</th>\n",
       "      <td>0.227407</td>\n",
       "      <td>0.971128</td>\n",
       "      <td>0.619615</td>\n",
       "      <td>0.506262</td>\n",
       "      <td>0.350877</td>\n",
       "      <td>0.094039</td>\n",
       "    </tr>\n",
       "    <tr>\n",
       "      <th>4</th>\n",
       "      <td>0.517631</td>\n",
       "      <td>0.253756</td>\n",
       "      <td>0.873456</td>\n",
       "      <td>0.513713</td>\n",
       "      <td>0.855727</td>\n",
       "      <td>0.622927</td>\n",
       "    </tr>\n",
       "    <tr>\n",
       "      <th>9</th>\n",
       "      <td>0.324222</td>\n",
       "      <td>0.714577</td>\n",
       "      <td>0.607566</td>\n",
       "      <td>0.519569</td>\n",
       "      <td>0.283158</td>\n",
       "      <td>0.028877</td>\n",
       "    </tr>\n",
       "    <tr>\n",
       "      <th>16</th>\n",
       "      <td>0.749625</td>\n",
       "      <td>0.618823</td>\n",
       "      <td>0.702606</td>\n",
       "      <td>0.622747</td>\n",
       "      <td>0.956063</td>\n",
       "      <td>0.856837</td>\n",
       "    </tr>\n",
       "    <tr>\n",
       "      <th>19</th>\n",
       "      <td>0.131773</td>\n",
       "      <td>0.437947</td>\n",
       "      <td>0.190442</td>\n",
       "      <td>0.689156</td>\n",
       "      <td>0.994516</td>\n",
       "      <td>0.791465</td>\n",
       "    </tr>\n",
       "    <tr>\n",
       "      <th>6</th>\n",
       "      <td>0.607373</td>\n",
       "      <td>0.723898</td>\n",
       "      <td>0.672317</td>\n",
       "      <td>0.724505</td>\n",
       "      <td>0.987647</td>\n",
       "      <td>0.106291</td>\n",
       "    </tr>\n",
       "    <tr>\n",
       "      <th>14</th>\n",
       "      <td>0.834642</td>\n",
       "      <td>0.835560</td>\n",
       "      <td>0.348946</td>\n",
       "      <td>0.819852</td>\n",
       "      <td>0.123713</td>\n",
       "      <td>0.569064</td>\n",
       "    </tr>\n",
       "  </tbody>\n",
       "</table>\n",
       "</div>"
      ],
      "text/plain": [
       "           a         c         d         b         e         y\n",
       "15  0.556545  0.264472  0.512649  0.031308  0.705008  0.046093\n",
       "11  0.846883  0.704847  0.506272  0.135435  0.386852  0.770043\n",
       "10  0.206941  0.857942  0.423979  0.168238  0.168072  0.787173\n",
       "12  0.219009  0.603296  0.498495  0.193060  0.075447  0.997714\n",
       "13  0.705817  0.407280  0.643078  0.193454  0.076493  0.061083\n",
       "18  0.102682  0.509791  0.906852  0.211264  0.926345  0.912941\n",
       "17  0.798504  0.190634  0.377957  0.291668  0.363656  0.940176\n",
       "7   0.188756  0.320046  0.041503  0.350800  0.004607  0.549965\n",
       "0   0.458560  0.986266  0.936836  0.352413  0.502309  0.717893\n",
       "5   0.623178  0.982708  0.199438  0.391422  0.579191  0.523401\n",
       "1   0.072453  0.792368  0.343946  0.423265  0.550584  0.814539\n",
       "2   0.928245  0.709963  0.508173  0.446650  0.514190  0.863303\n",
       "3   0.168363  0.999030  0.153993  0.459018  0.954232  0.797791\n",
       "8   0.227407  0.971128  0.619615  0.506262  0.350877  0.094039\n",
       "4   0.517631  0.253756  0.873456  0.513713  0.855727  0.622927\n",
       "9   0.324222  0.714577  0.607566  0.519569  0.283158  0.028877\n",
       "16  0.749625  0.618823  0.702606  0.622747  0.956063  0.856837\n",
       "19  0.131773  0.437947  0.190442  0.689156  0.994516  0.791465\n",
       "6   0.607373  0.723898  0.672317  0.724505  0.987647  0.106291\n",
       "14  0.834642  0.835560  0.348946  0.819852  0.123713  0.569064"
      ]
     },
     "execution_count": 63,
     "metadata": {},
     "output_type": "execute_result"
    }
   ],
   "source": [
    "s2.sort(columns='b')"
   ]
  },
  {
   "cell_type": "markdown",
   "metadata": {},
   "source": [
    "## 按照标签来获取一个交叉的区域"
   ]
  },
  {
   "cell_type": "code",
   "execution_count": 199,
   "metadata": {
    "collapsed": false
   },
   "outputs": [],
   "source": [
    "datas=[0,20,30]"
   ]
  },
  {
   "cell_type": "code",
   "execution_count": 65,
   "metadata": {
    "collapsed": false
   },
   "outputs": [
    {
     "data": {
      "text/html": [
       "<div>\n",
       "<table border=\"1\" class=\"dataframe\">\n",
       "  <thead>\n",
       "    <tr style=\"text-align: right;\">\n",
       "      <th></th>\n",
       "      <th>a</th>\n",
       "      <th>c</th>\n",
       "      <th>d</th>\n",
       "      <th>b</th>\n",
       "      <th>e</th>\n",
       "      <th>y</th>\n",
       "    </tr>\n",
       "  </thead>\n",
       "  <tbody>\n",
       "    <tr>\n",
       "      <th>0</th>\n",
       "      <td>0.458560</td>\n",
       "      <td>0.986266</td>\n",
       "      <td>0.936836</td>\n",
       "      <td>0.352413</td>\n",
       "      <td>0.502309</td>\n",
       "      <td>0.717893</td>\n",
       "    </tr>\n",
       "    <tr>\n",
       "      <th>1</th>\n",
       "      <td>0.072453</td>\n",
       "      <td>0.792368</td>\n",
       "      <td>0.343946</td>\n",
       "      <td>0.423265</td>\n",
       "      <td>0.550584</td>\n",
       "      <td>0.814539</td>\n",
       "    </tr>\n",
       "    <tr>\n",
       "      <th>2</th>\n",
       "      <td>0.928245</td>\n",
       "      <td>0.709963</td>\n",
       "      <td>0.508173</td>\n",
       "      <td>0.446650</td>\n",
       "      <td>0.514190</td>\n",
       "      <td>0.863303</td>\n",
       "    </tr>\n",
       "    <tr>\n",
       "      <th>3</th>\n",
       "      <td>0.168363</td>\n",
       "      <td>0.999030</td>\n",
       "      <td>0.153993</td>\n",
       "      <td>0.459018</td>\n",
       "      <td>0.954232</td>\n",
       "      <td>0.797791</td>\n",
       "    </tr>\n",
       "    <tr>\n",
       "      <th>4</th>\n",
       "      <td>0.517631</td>\n",
       "      <td>0.253756</td>\n",
       "      <td>0.873456</td>\n",
       "      <td>0.513713</td>\n",
       "      <td>0.855727</td>\n",
       "      <td>0.622927</td>\n",
       "    </tr>\n",
       "    <tr>\n",
       "      <th>5</th>\n",
       "      <td>0.623178</td>\n",
       "      <td>0.982708</td>\n",
       "      <td>0.199438</td>\n",
       "      <td>0.391422</td>\n",
       "      <td>0.579191</td>\n",
       "      <td>0.523401</td>\n",
       "    </tr>\n",
       "    <tr>\n",
       "      <th>6</th>\n",
       "      <td>0.607373</td>\n",
       "      <td>0.723898</td>\n",
       "      <td>0.672317</td>\n",
       "      <td>0.724505</td>\n",
       "      <td>0.987647</td>\n",
       "      <td>0.106291</td>\n",
       "    </tr>\n",
       "    <tr>\n",
       "      <th>7</th>\n",
       "      <td>0.188756</td>\n",
       "      <td>0.320046</td>\n",
       "      <td>0.041503</td>\n",
       "      <td>0.350800</td>\n",
       "      <td>0.004607</td>\n",
       "      <td>0.549965</td>\n",
       "    </tr>\n",
       "    <tr>\n",
       "      <th>8</th>\n",
       "      <td>0.227407</td>\n",
       "      <td>0.971128</td>\n",
       "      <td>0.619615</td>\n",
       "      <td>0.506262</td>\n",
       "      <td>0.350877</td>\n",
       "      <td>0.094039</td>\n",
       "    </tr>\n",
       "    <tr>\n",
       "      <th>9</th>\n",
       "      <td>0.324222</td>\n",
       "      <td>0.714577</td>\n",
       "      <td>0.607566</td>\n",
       "      <td>0.519569</td>\n",
       "      <td>0.283158</td>\n",
       "      <td>0.028877</td>\n",
       "    </tr>\n",
       "    <tr>\n",
       "      <th>10</th>\n",
       "      <td>0.206941</td>\n",
       "      <td>0.857942</td>\n",
       "      <td>0.423979</td>\n",
       "      <td>0.168238</td>\n",
       "      <td>0.168072</td>\n",
       "      <td>0.787173</td>\n",
       "    </tr>\n",
       "    <tr>\n",
       "      <th>11</th>\n",
       "      <td>0.846883</td>\n",
       "      <td>0.704847</td>\n",
       "      <td>0.506272</td>\n",
       "      <td>0.135435</td>\n",
       "      <td>0.386852</td>\n",
       "      <td>0.770043</td>\n",
       "    </tr>\n",
       "    <tr>\n",
       "      <th>12</th>\n",
       "      <td>0.219009</td>\n",
       "      <td>0.603296</td>\n",
       "      <td>0.498495</td>\n",
       "      <td>0.193060</td>\n",
       "      <td>0.075447</td>\n",
       "      <td>0.997714</td>\n",
       "    </tr>\n",
       "    <tr>\n",
       "      <th>13</th>\n",
       "      <td>0.705817</td>\n",
       "      <td>0.407280</td>\n",
       "      <td>0.643078</td>\n",
       "      <td>0.193454</td>\n",
       "      <td>0.076493</td>\n",
       "      <td>0.061083</td>\n",
       "    </tr>\n",
       "    <tr>\n",
       "      <th>14</th>\n",
       "      <td>0.834642</td>\n",
       "      <td>0.835560</td>\n",
       "      <td>0.348946</td>\n",
       "      <td>0.819852</td>\n",
       "      <td>0.123713</td>\n",
       "      <td>0.569064</td>\n",
       "    </tr>\n",
       "    <tr>\n",
       "      <th>15</th>\n",
       "      <td>0.556545</td>\n",
       "      <td>0.264472</td>\n",
       "      <td>0.512649</td>\n",
       "      <td>0.031308</td>\n",
       "      <td>0.705008</td>\n",
       "      <td>0.046093</td>\n",
       "    </tr>\n",
       "    <tr>\n",
       "      <th>16</th>\n",
       "      <td>0.749625</td>\n",
       "      <td>0.618823</td>\n",
       "      <td>0.702606</td>\n",
       "      <td>0.622747</td>\n",
       "      <td>0.956063</td>\n",
       "      <td>0.856837</td>\n",
       "    </tr>\n",
       "    <tr>\n",
       "      <th>17</th>\n",
       "      <td>0.798504</td>\n",
       "      <td>0.190634</td>\n",
       "      <td>0.377957</td>\n",
       "      <td>0.291668</td>\n",
       "      <td>0.363656</td>\n",
       "      <td>0.940176</td>\n",
       "    </tr>\n",
       "    <tr>\n",
       "      <th>18</th>\n",
       "      <td>0.102682</td>\n",
       "      <td>0.509791</td>\n",
       "      <td>0.906852</td>\n",
       "      <td>0.211264</td>\n",
       "      <td>0.926345</td>\n",
       "      <td>0.912941</td>\n",
       "    </tr>\n",
       "    <tr>\n",
       "      <th>19</th>\n",
       "      <td>0.131773</td>\n",
       "      <td>0.437947</td>\n",
       "      <td>0.190442</td>\n",
       "      <td>0.689156</td>\n",
       "      <td>0.994516</td>\n",
       "      <td>0.791465</td>\n",
       "    </tr>\n",
       "  </tbody>\n",
       "</table>\n",
       "</div>"
      ],
      "text/plain": [
       "           a         c         d         b         e         y\n",
       "0   0.458560  0.986266  0.936836  0.352413  0.502309  0.717893\n",
       "1   0.072453  0.792368  0.343946  0.423265  0.550584  0.814539\n",
       "2   0.928245  0.709963  0.508173  0.446650  0.514190  0.863303\n",
       "3   0.168363  0.999030  0.153993  0.459018  0.954232  0.797791\n",
       "4   0.517631  0.253756  0.873456  0.513713  0.855727  0.622927\n",
       "5   0.623178  0.982708  0.199438  0.391422  0.579191  0.523401\n",
       "6   0.607373  0.723898  0.672317  0.724505  0.987647  0.106291\n",
       "7   0.188756  0.320046  0.041503  0.350800  0.004607  0.549965\n",
       "8   0.227407  0.971128  0.619615  0.506262  0.350877  0.094039\n",
       "9   0.324222  0.714577  0.607566  0.519569  0.283158  0.028877\n",
       "10  0.206941  0.857942  0.423979  0.168238  0.168072  0.787173\n",
       "11  0.846883  0.704847  0.506272  0.135435  0.386852  0.770043\n",
       "12  0.219009  0.603296  0.498495  0.193060  0.075447  0.997714\n",
       "13  0.705817  0.407280  0.643078  0.193454  0.076493  0.061083\n",
       "14  0.834642  0.835560  0.348946  0.819852  0.123713  0.569064\n",
       "15  0.556545  0.264472  0.512649  0.031308  0.705008  0.046093\n",
       "16  0.749625  0.618823  0.702606  0.622747  0.956063  0.856837\n",
       "17  0.798504  0.190634  0.377957  0.291668  0.363656  0.940176\n",
       "18  0.102682  0.509791  0.906852  0.211264  0.926345  0.912941\n",
       "19  0.131773  0.437947  0.190442  0.689156  0.994516  0.791465"
      ]
     },
     "execution_count": 65,
     "metadata": {},
     "output_type": "execute_result"
    }
   ],
   "source": [
    "s2"
   ]
  },
  {
   "cell_type": "code",
   "execution_count": 64,
   "metadata": {
    "collapsed": false
   },
   "outputs": [
    {
     "data": {
      "text/html": [
       "<div>\n",
       "<table border=\"1\" class=\"dataframe\">\n",
       "  <thead>\n",
       "    <tr style=\"text-align: right;\">\n",
       "      <th></th>\n",
       "      <th>a</th>\n",
       "    </tr>\n",
       "  </thead>\n",
       "  <tbody>\n",
       "    <tr>\n",
       "      <th>0</th>\n",
       "      <td>0.458560</td>\n",
       "    </tr>\n",
       "    <tr>\n",
       "      <th>1</th>\n",
       "      <td>0.072453</td>\n",
       "    </tr>\n",
       "    <tr>\n",
       "      <th>2</th>\n",
       "      <td>0.928245</td>\n",
       "    </tr>\n",
       "    <tr>\n",
       "      <th>3</th>\n",
       "      <td>0.168363</td>\n",
       "    </tr>\n",
       "    <tr>\n",
       "      <th>4</th>\n",
       "      <td>0.517631</td>\n",
       "    </tr>\n",
       "    <tr>\n",
       "      <th>5</th>\n",
       "      <td>0.623178</td>\n",
       "    </tr>\n",
       "  </tbody>\n",
       "</table>\n",
       "</div>"
      ],
      "text/plain": [
       "          a\n",
       "0  0.458560\n",
       "1  0.072453\n",
       "2  0.928245\n",
       "3  0.168363\n",
       "4  0.517631\n",
       "5  0.623178"
      ]
     },
     "execution_count": 64,
     "metadata": {},
     "output_type": "execute_result"
    }
   ],
   "source": [
    "s2.loc[0:5,['a']]   #提取0~5行的数据，再提取a列的数据\n",
    "# 标签的切片"
   ]
  },
  {
   "cell_type": "code",
   "execution_count": 208,
   "metadata": {
    "collapsed": false
   },
   "outputs": [
    {
     "data": {
      "text/plain": [
       "a    0.991901\n",
       "Name: 0, dtype: float64"
      ]
     },
     "execution_count": 208,
     "metadata": {},
     "output_type": "execute_result"
    }
   ],
   "source": [
    "s2.loc[0,['a']]     # 对于返回的对象进行维度缩减"
   ]
  },
  {
   "cell_type": "code",
   "execution_count": 66,
   "metadata": {
    "collapsed": false
   },
   "outputs": [
    {
     "data": {
      "text/plain": [
       "0.45855964966516138"
      ]
     },
     "execution_count": 66,
     "metadata": {},
     "output_type": "execute_result"
    }
   ],
   "source": [
    "s2.loc[0,'a']    # 等同于如下的效果"
   ]
  },
  {
   "cell_type": "code",
   "execution_count": 67,
   "metadata": {
    "collapsed": false
   },
   "outputs": [
    {
     "data": {
      "text/plain": [
       "0.45855964966516138"
      ]
     },
     "execution_count": 67,
     "metadata": {},
     "output_type": "execute_result"
    }
   ],
   "source": [
    "s2['a'][0]"
   ]
  },
  {
   "cell_type": "code",
   "execution_count": 211,
   "metadata": {
    "collapsed": false
   },
   "outputs": [
    {
     "data": {
      "text/plain": [
       "a    0.758668\n",
       "c    0.250244\n",
       "d    0.721471\n",
       "b    0.471689\n",
       "e    0.823709\n",
       "y    0.570059\n",
       "Name: 19, dtype: float64"
      ]
     },
     "execution_count": 211,
     "metadata": {},
     "output_type": "execute_result"
    }
   ],
   "source": [
    "s2.ix[19]"
   ]
  },
  {
   "cell_type": "code",
   "execution_count": 213,
   "metadata": {
    "collapsed": false
   },
   "outputs": [],
   "source": [
    "s2.ix[20]=[1,2,3,4,5,6]"
   ]
  },
  {
   "cell_type": "code",
   "execution_count": 214,
   "metadata": {
    "collapsed": false
   },
   "outputs": [
    {
     "data": {
      "text/plain": [
       "a    1.0\n",
       "c    2.0\n",
       "d    3.0\n",
       "b    4.0\n",
       "e    5.0\n",
       "y    6.0\n",
       "Name: 20, dtype: float64"
      ]
     },
     "execution_count": 214,
     "metadata": {},
     "output_type": "execute_result"
    }
   ],
   "source": [
    "s2.ix[20]"
   ]
  },
  {
   "cell_type": "markdown",
   "metadata": {},
   "source": [
    "## 通过位置选择"
   ]
  },
  {
   "cell_type": "markdown",
   "metadata": {},
   "source": [
    "### 通过传递数值进行位置选择（选择的是行）"
   ]
  },
  {
   "cell_type": "code",
   "execution_count": 68,
   "metadata": {
    "collapsed": false
   },
   "outputs": [
    {
     "data": {
      "text/plain": [
       "a    0.458560\n",
       "c    0.986266\n",
       "d    0.936836\n",
       "b    0.352413\n",
       "e    0.502309\n",
       "y    0.717893\n",
       "Name: 0, dtype: float64"
      ]
     },
     "execution_count": 68,
     "metadata": {},
     "output_type": "execute_result"
    }
   ],
   "source": [
    "s2.iloc[0]"
   ]
  },
  {
   "cell_type": "markdown",
   "metadata": {},
   "source": [
    "### 通过数值进行切片"
   ]
  },
  {
   "cell_type": "code",
   "execution_count": 69,
   "metadata": {
    "collapsed": false
   },
   "outputs": [
    {
     "data": {
      "text/html": [
       "<div>\n",
       "<table border=\"1\" class=\"dataframe\">\n",
       "  <thead>\n",
       "    <tr style=\"text-align: right;\">\n",
       "      <th></th>\n",
       "      <th>a</th>\n",
       "      <th>c</th>\n",
       "      <th>d</th>\n",
       "      <th>b</th>\n",
       "      <th>e</th>\n",
       "      <th>y</th>\n",
       "    </tr>\n",
       "  </thead>\n",
       "  <tbody>\n",
       "    <tr>\n",
       "      <th>1</th>\n",
       "      <td>0.072453</td>\n",
       "      <td>0.792368</td>\n",
       "      <td>0.343946</td>\n",
       "      <td>0.423265</td>\n",
       "      <td>0.550584</td>\n",
       "      <td>0.814539</td>\n",
       "    </tr>\n",
       "    <tr>\n",
       "      <th>2</th>\n",
       "      <td>0.928245</td>\n",
       "      <td>0.709963</td>\n",
       "      <td>0.508173</td>\n",
       "      <td>0.446650</td>\n",
       "      <td>0.514190</td>\n",
       "      <td>0.863303</td>\n",
       "    </tr>\n",
       "  </tbody>\n",
       "</table>\n",
       "</div>"
      ],
      "text/plain": [
       "          a         c         d         b         e         y\n",
       "1  0.072453  0.792368  0.343946  0.423265  0.550584  0.814539\n",
       "2  0.928245  0.709963  0.508173  0.446650  0.514190  0.863303"
      ]
     },
     "execution_count": 69,
     "metadata": {},
     "output_type": "execute_result"
    }
   ],
   "source": [
    "s2.iloc[1:3]  #切片 行，1-3行，[1,3)"
   ]
  },
  {
   "cell_type": "code",
   "execution_count": 70,
   "metadata": {
    "collapsed": false,
    "scrolled": true
   },
   "outputs": [
    {
     "data": {
      "text/html": [
       "<div>\n",
       "<table border=\"1\" class=\"dataframe\">\n",
       "  <thead>\n",
       "    <tr style=\"text-align: right;\">\n",
       "      <th></th>\n",
       "      <th>d</th>\n",
       "      <th>b</th>\n",
       "    </tr>\n",
       "  </thead>\n",
       "  <tbody>\n",
       "    <tr>\n",
       "      <th>1</th>\n",
       "      <td>0.343946</td>\n",
       "      <td>0.423265</td>\n",
       "    </tr>\n",
       "    <tr>\n",
       "      <th>2</th>\n",
       "      <td>0.508173</td>\n",
       "      <td>0.446650</td>\n",
       "    </tr>\n",
       "  </tbody>\n",
       "</table>\n",
       "</div>"
      ],
      "text/plain": [
       "          d         b\n",
       "1  0.343946  0.423265\n",
       "2  0.508173  0.446650"
      ]
     },
     "execution_count": 70,
     "metadata": {},
     "output_type": "execute_result"
    }
   ],
   "source": [
    "s2.iloc[1:3,2:4] # 切片 行和列,1-3行，2-4列"
   ]
  },
  {
   "cell_type": "markdown",
   "metadata": {},
   "source": [
    "### 通知指定一个位置的列表"
   ]
  },
  {
   "cell_type": "code",
   "execution_count": 71,
   "metadata": {
    "collapsed": false
   },
   "outputs": [
    {
     "data": {
      "text/html": [
       "<div>\n",
       "<table border=\"1\" class=\"dataframe\">\n",
       "  <thead>\n",
       "    <tr style=\"text-align: right;\">\n",
       "      <th></th>\n",
       "      <th>d</th>\n",
       "      <th>e</th>\n",
       "    </tr>\n",
       "  </thead>\n",
       "  <tbody>\n",
       "    <tr>\n",
       "      <th>1</th>\n",
       "      <td>0.343946</td>\n",
       "      <td>0.550584</td>\n",
       "    </tr>\n",
       "    <tr>\n",
       "      <th>2</th>\n",
       "      <td>0.508173</td>\n",
       "      <td>0.514190</td>\n",
       "    </tr>\n",
       "    <tr>\n",
       "      <th>3</th>\n",
       "      <td>0.153993</td>\n",
       "      <td>0.954232</td>\n",
       "    </tr>\n",
       "  </tbody>\n",
       "</table>\n",
       "</div>"
      ],
      "text/plain": [
       "          d         e\n",
       "1  0.343946  0.550584\n",
       "2  0.508173  0.514190\n",
       "3  0.153993  0.954232"
      ]
     },
     "execution_count": 71,
     "metadata": {},
     "output_type": "execute_result"
    }
   ],
   "source": [
    "s2.iloc[[1,2,3],[2,4]]  #1，2，3行，2，4列"
   ]
  },
  {
   "cell_type": "markdown",
   "metadata": {},
   "source": [
    "### 行切片"
   ]
  },
  {
   "cell_type": "code",
   "execution_count": 72,
   "metadata": {
    "collapsed": false
   },
   "outputs": [
    {
     "data": {
      "text/html": [
       "<div>\n",
       "<table border=\"1\" class=\"dataframe\">\n",
       "  <thead>\n",
       "    <tr style=\"text-align: right;\">\n",
       "      <th></th>\n",
       "      <th>a</th>\n",
       "      <th>c</th>\n",
       "      <th>d</th>\n",
       "      <th>b</th>\n",
       "      <th>e</th>\n",
       "      <th>y</th>\n",
       "    </tr>\n",
       "  </thead>\n",
       "  <tbody>\n",
       "    <tr>\n",
       "      <th>1</th>\n",
       "      <td>0.072453</td>\n",
       "      <td>0.792368</td>\n",
       "      <td>0.343946</td>\n",
       "      <td>0.423265</td>\n",
       "      <td>0.550584</td>\n",
       "      <td>0.814539</td>\n",
       "    </tr>\n",
       "    <tr>\n",
       "      <th>2</th>\n",
       "      <td>0.928245</td>\n",
       "      <td>0.709963</td>\n",
       "      <td>0.508173</td>\n",
       "      <td>0.446650</td>\n",
       "      <td>0.514190</td>\n",
       "      <td>0.863303</td>\n",
       "    </tr>\n",
       "  </tbody>\n",
       "</table>\n",
       "</div>"
      ],
      "text/plain": [
       "          a         c         d         b         e         y\n",
       "1  0.072453  0.792368  0.343946  0.423265  0.550584  0.814539\n",
       "2  0.928245  0.709963  0.508173  0.446650  0.514190  0.863303"
      ]
     },
     "execution_count": 72,
     "metadata": {},
     "output_type": "execute_result"
    }
   ],
   "source": [
    "s2.iloc[1:3,:]"
   ]
  },
  {
   "cell_type": "markdown",
   "metadata": {},
   "source": [
    "### 列切片"
   ]
  },
  {
   "cell_type": "code",
   "execution_count": 73,
   "metadata": {
    "collapsed": false
   },
   "outputs": [
    {
     "data": {
      "text/html": [
       "<div>\n",
       "<table border=\"1\" class=\"dataframe\">\n",
       "  <thead>\n",
       "    <tr style=\"text-align: right;\">\n",
       "      <th></th>\n",
       "      <th>c</th>\n",
       "      <th>d</th>\n",
       "    </tr>\n",
       "  </thead>\n",
       "  <tbody>\n",
       "    <tr>\n",
       "      <th>0</th>\n",
       "      <td>0.986266</td>\n",
       "      <td>0.936836</td>\n",
       "    </tr>\n",
       "    <tr>\n",
       "      <th>1</th>\n",
       "      <td>0.792368</td>\n",
       "      <td>0.343946</td>\n",
       "    </tr>\n",
       "    <tr>\n",
       "      <th>2</th>\n",
       "      <td>0.709963</td>\n",
       "      <td>0.508173</td>\n",
       "    </tr>\n",
       "    <tr>\n",
       "      <th>3</th>\n",
       "      <td>0.999030</td>\n",
       "      <td>0.153993</td>\n",
       "    </tr>\n",
       "    <tr>\n",
       "      <th>4</th>\n",
       "      <td>0.253756</td>\n",
       "      <td>0.873456</td>\n",
       "    </tr>\n",
       "    <tr>\n",
       "      <th>5</th>\n",
       "      <td>0.982708</td>\n",
       "      <td>0.199438</td>\n",
       "    </tr>\n",
       "    <tr>\n",
       "      <th>6</th>\n",
       "      <td>0.723898</td>\n",
       "      <td>0.672317</td>\n",
       "    </tr>\n",
       "    <tr>\n",
       "      <th>7</th>\n",
       "      <td>0.320046</td>\n",
       "      <td>0.041503</td>\n",
       "    </tr>\n",
       "    <tr>\n",
       "      <th>8</th>\n",
       "      <td>0.971128</td>\n",
       "      <td>0.619615</td>\n",
       "    </tr>\n",
       "    <tr>\n",
       "      <th>9</th>\n",
       "      <td>0.714577</td>\n",
       "      <td>0.607566</td>\n",
       "    </tr>\n",
       "    <tr>\n",
       "      <th>10</th>\n",
       "      <td>0.857942</td>\n",
       "      <td>0.423979</td>\n",
       "    </tr>\n",
       "    <tr>\n",
       "      <th>11</th>\n",
       "      <td>0.704847</td>\n",
       "      <td>0.506272</td>\n",
       "    </tr>\n",
       "    <tr>\n",
       "      <th>12</th>\n",
       "      <td>0.603296</td>\n",
       "      <td>0.498495</td>\n",
       "    </tr>\n",
       "    <tr>\n",
       "      <th>13</th>\n",
       "      <td>0.407280</td>\n",
       "      <td>0.643078</td>\n",
       "    </tr>\n",
       "    <tr>\n",
       "      <th>14</th>\n",
       "      <td>0.835560</td>\n",
       "      <td>0.348946</td>\n",
       "    </tr>\n",
       "    <tr>\n",
       "      <th>15</th>\n",
       "      <td>0.264472</td>\n",
       "      <td>0.512649</td>\n",
       "    </tr>\n",
       "    <tr>\n",
       "      <th>16</th>\n",
       "      <td>0.618823</td>\n",
       "      <td>0.702606</td>\n",
       "    </tr>\n",
       "    <tr>\n",
       "      <th>17</th>\n",
       "      <td>0.190634</td>\n",
       "      <td>0.377957</td>\n",
       "    </tr>\n",
       "    <tr>\n",
       "      <th>18</th>\n",
       "      <td>0.509791</td>\n",
       "      <td>0.906852</td>\n",
       "    </tr>\n",
       "    <tr>\n",
       "      <th>19</th>\n",
       "      <td>0.437947</td>\n",
       "      <td>0.190442</td>\n",
       "    </tr>\n",
       "  </tbody>\n",
       "</table>\n",
       "</div>"
      ],
      "text/plain": [
       "           c         d\n",
       "0   0.986266  0.936836\n",
       "1   0.792368  0.343946\n",
       "2   0.709963  0.508173\n",
       "3   0.999030  0.153993\n",
       "4   0.253756  0.873456\n",
       "5   0.982708  0.199438\n",
       "6   0.723898  0.672317\n",
       "7   0.320046  0.041503\n",
       "8   0.971128  0.619615\n",
       "9   0.714577  0.607566\n",
       "10  0.857942  0.423979\n",
       "11  0.704847  0.506272\n",
       "12  0.603296  0.498495\n",
       "13  0.407280  0.643078\n",
       "14  0.835560  0.348946\n",
       "15  0.264472  0.512649\n",
       "16  0.618823  0.702606\n",
       "17  0.190634  0.377957\n",
       "18  0.509791  0.906852\n",
       "19  0.437947  0.190442"
      ]
     },
     "execution_count": 73,
     "metadata": {},
     "output_type": "execute_result"
    }
   ],
   "source": [
    "s2.iloc[:,1:3]"
   ]
  },
  {
   "cell_type": "markdown",
   "metadata": {},
   "source": [
    "### 获取指定位置的值"
   ]
  },
  {
   "cell_type": "code",
   "execution_count": 74,
   "metadata": {
    "collapsed": false
   },
   "outputs": [
    {
     "data": {
      "text/plain": [
       "0.50817346771201466"
      ]
     },
     "execution_count": 74,
     "metadata": {},
     "output_type": "execute_result"
    }
   ],
   "source": [
    "s2.iloc[2,2]  # 获取3行3列的数据"
   ]
  },
  {
   "cell_type": "code",
   "execution_count": 75,
   "metadata": {
    "collapsed": false
   },
   "outputs": [
    {
     "data": {
      "text/plain": [
       "0.50817346771201466"
      ]
     },
     "execution_count": 75,
     "metadata": {},
     "output_type": "execute_result"
    }
   ],
   "source": [
    "s2.iat[2,2]   #快速获取指定位置的数据"
   ]
  },
  {
   "cell_type": "markdown",
   "metadata": {},
   "source": [
    "## 布尔索引"
   ]
  },
  {
   "cell_type": "markdown",
   "metadata": {},
   "source": [
    "### 使用一个单独列的值来选择数据"
   ]
  },
  {
   "cell_type": "code",
   "execution_count": 76,
   "metadata": {
    "collapsed": false
   },
   "outputs": [
    {
     "data": {
      "text/html": [
       "<div>\n",
       "<table border=\"1\" class=\"dataframe\">\n",
       "  <thead>\n",
       "    <tr style=\"text-align: right;\">\n",
       "      <th></th>\n",
       "      <th>a</th>\n",
       "      <th>c</th>\n",
       "      <th>d</th>\n",
       "      <th>b</th>\n",
       "      <th>e</th>\n",
       "      <th>y</th>\n",
       "    </tr>\n",
       "  </thead>\n",
       "  <tbody>\n",
       "    <tr>\n",
       "      <th>2</th>\n",
       "      <td>0.928245</td>\n",
       "      <td>0.709963</td>\n",
       "      <td>0.508173</td>\n",
       "      <td>0.446650</td>\n",
       "      <td>0.514190</td>\n",
       "      <td>0.863303</td>\n",
       "    </tr>\n",
       "    <tr>\n",
       "      <th>4</th>\n",
       "      <td>0.517631</td>\n",
       "      <td>0.253756</td>\n",
       "      <td>0.873456</td>\n",
       "      <td>0.513713</td>\n",
       "      <td>0.855727</td>\n",
       "      <td>0.622927</td>\n",
       "    </tr>\n",
       "    <tr>\n",
       "      <th>5</th>\n",
       "      <td>0.623178</td>\n",
       "      <td>0.982708</td>\n",
       "      <td>0.199438</td>\n",
       "      <td>0.391422</td>\n",
       "      <td>0.579191</td>\n",
       "      <td>0.523401</td>\n",
       "    </tr>\n",
       "    <tr>\n",
       "      <th>6</th>\n",
       "      <td>0.607373</td>\n",
       "      <td>0.723898</td>\n",
       "      <td>0.672317</td>\n",
       "      <td>0.724505</td>\n",
       "      <td>0.987647</td>\n",
       "      <td>0.106291</td>\n",
       "    </tr>\n",
       "    <tr>\n",
       "      <th>11</th>\n",
       "      <td>0.846883</td>\n",
       "      <td>0.704847</td>\n",
       "      <td>0.506272</td>\n",
       "      <td>0.135435</td>\n",
       "      <td>0.386852</td>\n",
       "      <td>0.770043</td>\n",
       "    </tr>\n",
       "    <tr>\n",
       "      <th>13</th>\n",
       "      <td>0.705817</td>\n",
       "      <td>0.407280</td>\n",
       "      <td>0.643078</td>\n",
       "      <td>0.193454</td>\n",
       "      <td>0.076493</td>\n",
       "      <td>0.061083</td>\n",
       "    </tr>\n",
       "    <tr>\n",
       "      <th>14</th>\n",
       "      <td>0.834642</td>\n",
       "      <td>0.835560</td>\n",
       "      <td>0.348946</td>\n",
       "      <td>0.819852</td>\n",
       "      <td>0.123713</td>\n",
       "      <td>0.569064</td>\n",
       "    </tr>\n",
       "    <tr>\n",
       "      <th>15</th>\n",
       "      <td>0.556545</td>\n",
       "      <td>0.264472</td>\n",
       "      <td>0.512649</td>\n",
       "      <td>0.031308</td>\n",
       "      <td>0.705008</td>\n",
       "      <td>0.046093</td>\n",
       "    </tr>\n",
       "    <tr>\n",
       "      <th>16</th>\n",
       "      <td>0.749625</td>\n",
       "      <td>0.618823</td>\n",
       "      <td>0.702606</td>\n",
       "      <td>0.622747</td>\n",
       "      <td>0.956063</td>\n",
       "      <td>0.856837</td>\n",
       "    </tr>\n",
       "    <tr>\n",
       "      <th>17</th>\n",
       "      <td>0.798504</td>\n",
       "      <td>0.190634</td>\n",
       "      <td>0.377957</td>\n",
       "      <td>0.291668</td>\n",
       "      <td>0.363656</td>\n",
       "      <td>0.940176</td>\n",
       "    </tr>\n",
       "  </tbody>\n",
       "</table>\n",
       "</div>"
      ],
      "text/plain": [
       "           a         c         d         b         e         y\n",
       "2   0.928245  0.709963  0.508173  0.446650  0.514190  0.863303\n",
       "4   0.517631  0.253756  0.873456  0.513713  0.855727  0.622927\n",
       "5   0.623178  0.982708  0.199438  0.391422  0.579191  0.523401\n",
       "6   0.607373  0.723898  0.672317  0.724505  0.987647  0.106291\n",
       "11  0.846883  0.704847  0.506272  0.135435  0.386852  0.770043\n",
       "13  0.705817  0.407280  0.643078  0.193454  0.076493  0.061083\n",
       "14  0.834642  0.835560  0.348946  0.819852  0.123713  0.569064\n",
       "15  0.556545  0.264472  0.512649  0.031308  0.705008  0.046093\n",
       "16  0.749625  0.618823  0.702606  0.622747  0.956063  0.856837\n",
       "17  0.798504  0.190634  0.377957  0.291668  0.363656  0.940176"
      ]
     },
     "execution_count": 76,
     "metadata": {},
     "output_type": "execute_result"
    }
   ],
   "source": [
    "s2[s2.a>0.5]"
   ]
  },
  {
   "cell_type": "markdown",
   "metadata": {},
   "source": [
    "### 整体过滤"
   ]
  },
  {
   "cell_type": "code",
   "execution_count": 77,
   "metadata": {
    "collapsed": false
   },
   "outputs": [
    {
     "data": {
      "text/html": [
       "<div>\n",
       "<table border=\"1\" class=\"dataframe\">\n",
       "  <thead>\n",
       "    <tr style=\"text-align: right;\">\n",
       "      <th></th>\n",
       "      <th>a</th>\n",
       "      <th>c</th>\n",
       "      <th>d</th>\n",
       "      <th>b</th>\n",
       "      <th>e</th>\n",
       "      <th>y</th>\n",
       "    </tr>\n",
       "  </thead>\n",
       "  <tbody>\n",
       "    <tr>\n",
       "      <th>0</th>\n",
       "      <td>NaN</td>\n",
       "      <td>0.986266</td>\n",
       "      <td>0.936836</td>\n",
       "      <td>NaN</td>\n",
       "      <td>0.502309</td>\n",
       "      <td>0.717893</td>\n",
       "    </tr>\n",
       "    <tr>\n",
       "      <th>1</th>\n",
       "      <td>NaN</td>\n",
       "      <td>0.792368</td>\n",
       "      <td>NaN</td>\n",
       "      <td>NaN</td>\n",
       "      <td>0.550584</td>\n",
       "      <td>0.814539</td>\n",
       "    </tr>\n",
       "    <tr>\n",
       "      <th>2</th>\n",
       "      <td>0.928245</td>\n",
       "      <td>0.709963</td>\n",
       "      <td>0.508173</td>\n",
       "      <td>NaN</td>\n",
       "      <td>0.514190</td>\n",
       "      <td>0.863303</td>\n",
       "    </tr>\n",
       "    <tr>\n",
       "      <th>3</th>\n",
       "      <td>NaN</td>\n",
       "      <td>0.999030</td>\n",
       "      <td>NaN</td>\n",
       "      <td>NaN</td>\n",
       "      <td>0.954232</td>\n",
       "      <td>0.797791</td>\n",
       "    </tr>\n",
       "    <tr>\n",
       "      <th>4</th>\n",
       "      <td>0.517631</td>\n",
       "      <td>NaN</td>\n",
       "      <td>0.873456</td>\n",
       "      <td>0.513713</td>\n",
       "      <td>0.855727</td>\n",
       "      <td>0.622927</td>\n",
       "    </tr>\n",
       "    <tr>\n",
       "      <th>5</th>\n",
       "      <td>0.623178</td>\n",
       "      <td>0.982708</td>\n",
       "      <td>NaN</td>\n",
       "      <td>NaN</td>\n",
       "      <td>0.579191</td>\n",
       "      <td>0.523401</td>\n",
       "    </tr>\n",
       "    <tr>\n",
       "      <th>6</th>\n",
       "      <td>0.607373</td>\n",
       "      <td>0.723898</td>\n",
       "      <td>0.672317</td>\n",
       "      <td>0.724505</td>\n",
       "      <td>0.987647</td>\n",
       "      <td>NaN</td>\n",
       "    </tr>\n",
       "    <tr>\n",
       "      <th>7</th>\n",
       "      <td>NaN</td>\n",
       "      <td>NaN</td>\n",
       "      <td>NaN</td>\n",
       "      <td>NaN</td>\n",
       "      <td>NaN</td>\n",
       "      <td>0.549965</td>\n",
       "    </tr>\n",
       "    <tr>\n",
       "      <th>8</th>\n",
       "      <td>NaN</td>\n",
       "      <td>0.971128</td>\n",
       "      <td>0.619615</td>\n",
       "      <td>0.506262</td>\n",
       "      <td>NaN</td>\n",
       "      <td>NaN</td>\n",
       "    </tr>\n",
       "    <tr>\n",
       "      <th>9</th>\n",
       "      <td>NaN</td>\n",
       "      <td>0.714577</td>\n",
       "      <td>0.607566</td>\n",
       "      <td>0.519569</td>\n",
       "      <td>NaN</td>\n",
       "      <td>NaN</td>\n",
       "    </tr>\n",
       "    <tr>\n",
       "      <th>10</th>\n",
       "      <td>NaN</td>\n",
       "      <td>0.857942</td>\n",
       "      <td>NaN</td>\n",
       "      <td>NaN</td>\n",
       "      <td>NaN</td>\n",
       "      <td>0.787173</td>\n",
       "    </tr>\n",
       "    <tr>\n",
       "      <th>11</th>\n",
       "      <td>0.846883</td>\n",
       "      <td>0.704847</td>\n",
       "      <td>0.506272</td>\n",
       "      <td>NaN</td>\n",
       "      <td>NaN</td>\n",
       "      <td>0.770043</td>\n",
       "    </tr>\n",
       "    <tr>\n",
       "      <th>12</th>\n",
       "      <td>NaN</td>\n",
       "      <td>0.603296</td>\n",
       "      <td>NaN</td>\n",
       "      <td>NaN</td>\n",
       "      <td>NaN</td>\n",
       "      <td>0.997714</td>\n",
       "    </tr>\n",
       "    <tr>\n",
       "      <th>13</th>\n",
       "      <td>0.705817</td>\n",
       "      <td>NaN</td>\n",
       "      <td>0.643078</td>\n",
       "      <td>NaN</td>\n",
       "      <td>NaN</td>\n",
       "      <td>NaN</td>\n",
       "    </tr>\n",
       "    <tr>\n",
       "      <th>14</th>\n",
       "      <td>0.834642</td>\n",
       "      <td>0.835560</td>\n",
       "      <td>NaN</td>\n",
       "      <td>0.819852</td>\n",
       "      <td>NaN</td>\n",
       "      <td>0.569064</td>\n",
       "    </tr>\n",
       "    <tr>\n",
       "      <th>15</th>\n",
       "      <td>0.556545</td>\n",
       "      <td>NaN</td>\n",
       "      <td>0.512649</td>\n",
       "      <td>NaN</td>\n",
       "      <td>0.705008</td>\n",
       "      <td>NaN</td>\n",
       "    </tr>\n",
       "    <tr>\n",
       "      <th>16</th>\n",
       "      <td>0.749625</td>\n",
       "      <td>0.618823</td>\n",
       "      <td>0.702606</td>\n",
       "      <td>0.622747</td>\n",
       "      <td>0.956063</td>\n",
       "      <td>0.856837</td>\n",
       "    </tr>\n",
       "    <tr>\n",
       "      <th>17</th>\n",
       "      <td>0.798504</td>\n",
       "      <td>NaN</td>\n",
       "      <td>NaN</td>\n",
       "      <td>NaN</td>\n",
       "      <td>NaN</td>\n",
       "      <td>0.940176</td>\n",
       "    </tr>\n",
       "    <tr>\n",
       "      <th>18</th>\n",
       "      <td>NaN</td>\n",
       "      <td>0.509791</td>\n",
       "      <td>0.906852</td>\n",
       "      <td>NaN</td>\n",
       "      <td>0.926345</td>\n",
       "      <td>0.912941</td>\n",
       "    </tr>\n",
       "    <tr>\n",
       "      <th>19</th>\n",
       "      <td>NaN</td>\n",
       "      <td>NaN</td>\n",
       "      <td>NaN</td>\n",
       "      <td>0.689156</td>\n",
       "      <td>0.994516</td>\n",
       "      <td>0.791465</td>\n",
       "    </tr>\n",
       "  </tbody>\n",
       "</table>\n",
       "</div>"
      ],
      "text/plain": [
       "           a         c         d         b         e         y\n",
       "0        NaN  0.986266  0.936836       NaN  0.502309  0.717893\n",
       "1        NaN  0.792368       NaN       NaN  0.550584  0.814539\n",
       "2   0.928245  0.709963  0.508173       NaN  0.514190  0.863303\n",
       "3        NaN  0.999030       NaN       NaN  0.954232  0.797791\n",
       "4   0.517631       NaN  0.873456  0.513713  0.855727  0.622927\n",
       "5   0.623178  0.982708       NaN       NaN  0.579191  0.523401\n",
       "6   0.607373  0.723898  0.672317  0.724505  0.987647       NaN\n",
       "7        NaN       NaN       NaN       NaN       NaN  0.549965\n",
       "8        NaN  0.971128  0.619615  0.506262       NaN       NaN\n",
       "9        NaN  0.714577  0.607566  0.519569       NaN       NaN\n",
       "10       NaN  0.857942       NaN       NaN       NaN  0.787173\n",
       "11  0.846883  0.704847  0.506272       NaN       NaN  0.770043\n",
       "12       NaN  0.603296       NaN       NaN       NaN  0.997714\n",
       "13  0.705817       NaN  0.643078       NaN       NaN       NaN\n",
       "14  0.834642  0.835560       NaN  0.819852       NaN  0.569064\n",
       "15  0.556545       NaN  0.512649       NaN  0.705008       NaN\n",
       "16  0.749625  0.618823  0.702606  0.622747  0.956063  0.856837\n",
       "17  0.798504       NaN       NaN       NaN       NaN  0.940176\n",
       "18       NaN  0.509791  0.906852       NaN  0.926345  0.912941\n",
       "19       NaN       NaN       NaN  0.689156  0.994516  0.791465"
      ]
     },
     "execution_count": 77,
     "metadata": {},
     "output_type": "execute_result"
    }
   ],
   "source": [
    "s2[s2>0.5]  #把所有不满足条件的全部置空(where)"
   ]
  },
  {
   "cell_type": "markdown",
   "metadata": {},
   "source": [
    "### isin() 过滤数据"
   ]
  },
  {
   "cell_type": "code",
   "execution_count": 78,
   "metadata": {
    "collapsed": false
   },
   "outputs": [
    {
     "data": {
      "text/html": [
       "<div>\n",
       "<table border=\"1\" class=\"dataframe\">\n",
       "  <thead>\n",
       "    <tr style=\"text-align: right;\">\n",
       "      <th></th>\n",
       "      <th>a</th>\n",
       "      <th>c</th>\n",
       "      <th>d</th>\n",
       "      <th>b</th>\n",
       "      <th>e</th>\n",
       "      <th>y</th>\n",
       "    </tr>\n",
       "  </thead>\n",
       "  <tbody>\n",
       "    <tr>\n",
       "      <th>0</th>\n",
       "      <td>0.458560</td>\n",
       "      <td>0.986266</td>\n",
       "      <td>0.936836</td>\n",
       "      <td>0.352413</td>\n",
       "      <td>0.502309</td>\n",
       "      <td>0.717893</td>\n",
       "    </tr>\n",
       "    <tr>\n",
       "      <th>1</th>\n",
       "      <td>0.072453</td>\n",
       "      <td>0.792368</td>\n",
       "      <td>0.343946</td>\n",
       "      <td>0.423265</td>\n",
       "      <td>0.550584</td>\n",
       "      <td>0.814539</td>\n",
       "    </tr>\n",
       "    <tr>\n",
       "      <th>2</th>\n",
       "      <td>0.928245</td>\n",
       "      <td>0.709963</td>\n",
       "      <td>0.508173</td>\n",
       "      <td>0.446650</td>\n",
       "      <td>0.514190</td>\n",
       "      <td>0.863303</td>\n",
       "    </tr>\n",
       "    <tr>\n",
       "      <th>3</th>\n",
       "      <td>0.168363</td>\n",
       "      <td>0.999030</td>\n",
       "      <td>0.153993</td>\n",
       "      <td>0.459018</td>\n",
       "      <td>0.954232</td>\n",
       "      <td>0.797791</td>\n",
       "    </tr>\n",
       "    <tr>\n",
       "      <th>4</th>\n",
       "      <td>0.517631</td>\n",
       "      <td>0.253756</td>\n",
       "      <td>0.873456</td>\n",
       "      <td>0.513713</td>\n",
       "      <td>0.855727</td>\n",
       "      <td>0.622927</td>\n",
       "    </tr>\n",
       "    <tr>\n",
       "      <th>5</th>\n",
       "      <td>0.623178</td>\n",
       "      <td>0.982708</td>\n",
       "      <td>0.199438</td>\n",
       "      <td>0.391422</td>\n",
       "      <td>0.579191</td>\n",
       "      <td>0.523401</td>\n",
       "    </tr>\n",
       "    <tr>\n",
       "      <th>6</th>\n",
       "      <td>0.607373</td>\n",
       "      <td>0.723898</td>\n",
       "      <td>0.672317</td>\n",
       "      <td>0.724505</td>\n",
       "      <td>0.987647</td>\n",
       "      <td>0.106291</td>\n",
       "    </tr>\n",
       "    <tr>\n",
       "      <th>7</th>\n",
       "      <td>0.188756</td>\n",
       "      <td>0.320046</td>\n",
       "      <td>0.041503</td>\n",
       "      <td>0.350800</td>\n",
       "      <td>0.004607</td>\n",
       "      <td>0.549965</td>\n",
       "    </tr>\n",
       "    <tr>\n",
       "      <th>8</th>\n",
       "      <td>0.227407</td>\n",
       "      <td>0.971128</td>\n",
       "      <td>0.619615</td>\n",
       "      <td>0.506262</td>\n",
       "      <td>0.350877</td>\n",
       "      <td>0.094039</td>\n",
       "    </tr>\n",
       "    <tr>\n",
       "      <th>9</th>\n",
       "      <td>0.324222</td>\n",
       "      <td>0.714577</td>\n",
       "      <td>0.607566</td>\n",
       "      <td>0.519569</td>\n",
       "      <td>0.283158</td>\n",
       "      <td>0.028877</td>\n",
       "    </tr>\n",
       "    <tr>\n",
       "      <th>10</th>\n",
       "      <td>0.206941</td>\n",
       "      <td>0.857942</td>\n",
       "      <td>0.423979</td>\n",
       "      <td>0.168238</td>\n",
       "      <td>0.168072</td>\n",
       "      <td>0.787173</td>\n",
       "    </tr>\n",
       "    <tr>\n",
       "      <th>11</th>\n",
       "      <td>0.846883</td>\n",
       "      <td>0.704847</td>\n",
       "      <td>0.506272</td>\n",
       "      <td>0.135435</td>\n",
       "      <td>0.386852</td>\n",
       "      <td>0.770043</td>\n",
       "    </tr>\n",
       "    <tr>\n",
       "      <th>12</th>\n",
       "      <td>0.219009</td>\n",
       "      <td>0.603296</td>\n",
       "      <td>0.498495</td>\n",
       "      <td>0.193060</td>\n",
       "      <td>0.075447</td>\n",
       "      <td>0.997714</td>\n",
       "    </tr>\n",
       "    <tr>\n",
       "      <th>13</th>\n",
       "      <td>0.705817</td>\n",
       "      <td>0.407280</td>\n",
       "      <td>0.643078</td>\n",
       "      <td>0.193454</td>\n",
       "      <td>0.076493</td>\n",
       "      <td>0.061083</td>\n",
       "    </tr>\n",
       "    <tr>\n",
       "      <th>14</th>\n",
       "      <td>0.834642</td>\n",
       "      <td>0.835560</td>\n",
       "      <td>0.348946</td>\n",
       "      <td>0.819852</td>\n",
       "      <td>0.123713</td>\n",
       "      <td>0.569064</td>\n",
       "    </tr>\n",
       "    <tr>\n",
       "      <th>15</th>\n",
       "      <td>0.556545</td>\n",
       "      <td>0.264472</td>\n",
       "      <td>0.512649</td>\n",
       "      <td>0.031308</td>\n",
       "      <td>0.705008</td>\n",
       "      <td>0.046093</td>\n",
       "    </tr>\n",
       "    <tr>\n",
       "      <th>16</th>\n",
       "      <td>0.749625</td>\n",
       "      <td>0.618823</td>\n",
       "      <td>0.702606</td>\n",
       "      <td>0.622747</td>\n",
       "      <td>0.956063</td>\n",
       "      <td>0.856837</td>\n",
       "    </tr>\n",
       "    <tr>\n",
       "      <th>17</th>\n",
       "      <td>0.798504</td>\n",
       "      <td>0.190634</td>\n",
       "      <td>0.377957</td>\n",
       "      <td>0.291668</td>\n",
       "      <td>0.363656</td>\n",
       "      <td>0.940176</td>\n",
       "    </tr>\n",
       "    <tr>\n",
       "      <th>18</th>\n",
       "      <td>0.102682</td>\n",
       "      <td>0.509791</td>\n",
       "      <td>0.906852</td>\n",
       "      <td>0.211264</td>\n",
       "      <td>0.926345</td>\n",
       "      <td>0.912941</td>\n",
       "    </tr>\n",
       "    <tr>\n",
       "      <th>19</th>\n",
       "      <td>0.131773</td>\n",
       "      <td>0.437947</td>\n",
       "      <td>0.190442</td>\n",
       "      <td>0.689156</td>\n",
       "      <td>0.994516</td>\n",
       "      <td>0.791465</td>\n",
       "    </tr>\n",
       "  </tbody>\n",
       "</table>\n",
       "</div>"
      ],
      "text/plain": [
       "           a         c         d         b         e         y\n",
       "0   0.458560  0.986266  0.936836  0.352413  0.502309  0.717893\n",
       "1   0.072453  0.792368  0.343946  0.423265  0.550584  0.814539\n",
       "2   0.928245  0.709963  0.508173  0.446650  0.514190  0.863303\n",
       "3   0.168363  0.999030  0.153993  0.459018  0.954232  0.797791\n",
       "4   0.517631  0.253756  0.873456  0.513713  0.855727  0.622927\n",
       "5   0.623178  0.982708  0.199438  0.391422  0.579191  0.523401\n",
       "6   0.607373  0.723898  0.672317  0.724505  0.987647  0.106291\n",
       "7   0.188756  0.320046  0.041503  0.350800  0.004607  0.549965\n",
       "8   0.227407  0.971128  0.619615  0.506262  0.350877  0.094039\n",
       "9   0.324222  0.714577  0.607566  0.519569  0.283158  0.028877\n",
       "10  0.206941  0.857942  0.423979  0.168238  0.168072  0.787173\n",
       "11  0.846883  0.704847  0.506272  0.135435  0.386852  0.770043\n",
       "12  0.219009  0.603296  0.498495  0.193060  0.075447  0.997714\n",
       "13  0.705817  0.407280  0.643078  0.193454  0.076493  0.061083\n",
       "14  0.834642  0.835560  0.348946  0.819852  0.123713  0.569064\n",
       "15  0.556545  0.264472  0.512649  0.031308  0.705008  0.046093\n",
       "16  0.749625  0.618823  0.702606  0.622747  0.956063  0.856837\n",
       "17  0.798504  0.190634  0.377957  0.291668  0.363656  0.940176\n",
       "18  0.102682  0.509791  0.906852  0.211264  0.926345  0.912941\n",
       "19  0.131773  0.437947  0.190442  0.689156  0.994516  0.791465"
      ]
     },
     "execution_count": 78,
     "metadata": {},
     "output_type": "execute_result"
    }
   ],
   "source": [
    "s3=s2.copy()\n",
    "s3"
   ]
  },
  {
   "cell_type": "code",
   "execution_count": 79,
   "metadata": {
    "collapsed": false
   },
   "outputs": [],
   "source": [
    "s3['a'][0]=1.23"
   ]
  },
  {
   "cell_type": "code",
   "execution_count": 80,
   "metadata": {
    "collapsed": false
   },
   "outputs": [
    {
     "data": {
      "text/html": [
       "<div>\n",
       "<table border=\"1\" class=\"dataframe\">\n",
       "  <thead>\n",
       "    <tr style=\"text-align: right;\">\n",
       "      <th></th>\n",
       "      <th>a</th>\n",
       "      <th>c</th>\n",
       "      <th>d</th>\n",
       "      <th>b</th>\n",
       "      <th>e</th>\n",
       "      <th>y</th>\n",
       "    </tr>\n",
       "  </thead>\n",
       "  <tbody>\n",
       "    <tr>\n",
       "      <th>0</th>\n",
       "      <td>1.230000</td>\n",
       "      <td>0.986266</td>\n",
       "      <td>0.936836</td>\n",
       "      <td>0.352413</td>\n",
       "      <td>0.502309</td>\n",
       "      <td>0.717893</td>\n",
       "    </tr>\n",
       "    <tr>\n",
       "      <th>1</th>\n",
       "      <td>0.072453</td>\n",
       "      <td>0.792368</td>\n",
       "      <td>0.343946</td>\n",
       "      <td>0.423265</td>\n",
       "      <td>0.550584</td>\n",
       "      <td>0.814539</td>\n",
       "    </tr>\n",
       "    <tr>\n",
       "      <th>2</th>\n",
       "      <td>0.928245</td>\n",
       "      <td>0.709963</td>\n",
       "      <td>0.508173</td>\n",
       "      <td>0.446650</td>\n",
       "      <td>0.514190</td>\n",
       "      <td>0.863303</td>\n",
       "    </tr>\n",
       "    <tr>\n",
       "      <th>3</th>\n",
       "      <td>0.168363</td>\n",
       "      <td>0.999030</td>\n",
       "      <td>0.153993</td>\n",
       "      <td>0.459018</td>\n",
       "      <td>0.954232</td>\n",
       "      <td>0.797791</td>\n",
       "    </tr>\n",
       "    <tr>\n",
       "      <th>4</th>\n",
       "      <td>0.517631</td>\n",
       "      <td>0.253756</td>\n",
       "      <td>0.873456</td>\n",
       "      <td>0.513713</td>\n",
       "      <td>0.855727</td>\n",
       "      <td>0.622927</td>\n",
       "    </tr>\n",
       "    <tr>\n",
       "      <th>5</th>\n",
       "      <td>0.623178</td>\n",
       "      <td>0.982708</td>\n",
       "      <td>0.199438</td>\n",
       "      <td>0.391422</td>\n",
       "      <td>0.579191</td>\n",
       "      <td>0.523401</td>\n",
       "    </tr>\n",
       "    <tr>\n",
       "      <th>6</th>\n",
       "      <td>0.607373</td>\n",
       "      <td>0.723898</td>\n",
       "      <td>0.672317</td>\n",
       "      <td>0.724505</td>\n",
       "      <td>0.987647</td>\n",
       "      <td>0.106291</td>\n",
       "    </tr>\n",
       "    <tr>\n",
       "      <th>7</th>\n",
       "      <td>0.188756</td>\n",
       "      <td>0.320046</td>\n",
       "      <td>0.041503</td>\n",
       "      <td>0.350800</td>\n",
       "      <td>0.004607</td>\n",
       "      <td>0.549965</td>\n",
       "    </tr>\n",
       "    <tr>\n",
       "      <th>8</th>\n",
       "      <td>0.227407</td>\n",
       "      <td>0.971128</td>\n",
       "      <td>0.619615</td>\n",
       "      <td>0.506262</td>\n",
       "      <td>0.350877</td>\n",
       "      <td>0.094039</td>\n",
       "    </tr>\n",
       "    <tr>\n",
       "      <th>9</th>\n",
       "      <td>0.324222</td>\n",
       "      <td>0.714577</td>\n",
       "      <td>0.607566</td>\n",
       "      <td>0.519569</td>\n",
       "      <td>0.283158</td>\n",
       "      <td>0.028877</td>\n",
       "    </tr>\n",
       "    <tr>\n",
       "      <th>10</th>\n",
       "      <td>0.206941</td>\n",
       "      <td>0.857942</td>\n",
       "      <td>0.423979</td>\n",
       "      <td>0.168238</td>\n",
       "      <td>0.168072</td>\n",
       "      <td>0.787173</td>\n",
       "    </tr>\n",
       "    <tr>\n",
       "      <th>11</th>\n",
       "      <td>0.846883</td>\n",
       "      <td>0.704847</td>\n",
       "      <td>0.506272</td>\n",
       "      <td>0.135435</td>\n",
       "      <td>0.386852</td>\n",
       "      <td>0.770043</td>\n",
       "    </tr>\n",
       "    <tr>\n",
       "      <th>12</th>\n",
       "      <td>0.219009</td>\n",
       "      <td>0.603296</td>\n",
       "      <td>0.498495</td>\n",
       "      <td>0.193060</td>\n",
       "      <td>0.075447</td>\n",
       "      <td>0.997714</td>\n",
       "    </tr>\n",
       "    <tr>\n",
       "      <th>13</th>\n",
       "      <td>0.705817</td>\n",
       "      <td>0.407280</td>\n",
       "      <td>0.643078</td>\n",
       "      <td>0.193454</td>\n",
       "      <td>0.076493</td>\n",
       "      <td>0.061083</td>\n",
       "    </tr>\n",
       "    <tr>\n",
       "      <th>14</th>\n",
       "      <td>0.834642</td>\n",
       "      <td>0.835560</td>\n",
       "      <td>0.348946</td>\n",
       "      <td>0.819852</td>\n",
       "      <td>0.123713</td>\n",
       "      <td>0.569064</td>\n",
       "    </tr>\n",
       "    <tr>\n",
       "      <th>15</th>\n",
       "      <td>0.556545</td>\n",
       "      <td>0.264472</td>\n",
       "      <td>0.512649</td>\n",
       "      <td>0.031308</td>\n",
       "      <td>0.705008</td>\n",
       "      <td>0.046093</td>\n",
       "    </tr>\n",
       "    <tr>\n",
       "      <th>16</th>\n",
       "      <td>0.749625</td>\n",
       "      <td>0.618823</td>\n",
       "      <td>0.702606</td>\n",
       "      <td>0.622747</td>\n",
       "      <td>0.956063</td>\n",
       "      <td>0.856837</td>\n",
       "    </tr>\n",
       "    <tr>\n",
       "      <th>17</th>\n",
       "      <td>0.798504</td>\n",
       "      <td>0.190634</td>\n",
       "      <td>0.377957</td>\n",
       "      <td>0.291668</td>\n",
       "      <td>0.363656</td>\n",
       "      <td>0.940176</td>\n",
       "    </tr>\n",
       "    <tr>\n",
       "      <th>18</th>\n",
       "      <td>0.102682</td>\n",
       "      <td>0.509791</td>\n",
       "      <td>0.906852</td>\n",
       "      <td>0.211264</td>\n",
       "      <td>0.926345</td>\n",
       "      <td>0.912941</td>\n",
       "    </tr>\n",
       "    <tr>\n",
       "      <th>19</th>\n",
       "      <td>0.131773</td>\n",
       "      <td>0.437947</td>\n",
       "      <td>0.190442</td>\n",
       "      <td>0.689156</td>\n",
       "      <td>0.994516</td>\n",
       "      <td>0.791465</td>\n",
       "    </tr>\n",
       "  </tbody>\n",
       "</table>\n",
       "</div>"
      ],
      "text/plain": [
       "           a         c         d         b         e         y\n",
       "0   1.230000  0.986266  0.936836  0.352413  0.502309  0.717893\n",
       "1   0.072453  0.792368  0.343946  0.423265  0.550584  0.814539\n",
       "2   0.928245  0.709963  0.508173  0.446650  0.514190  0.863303\n",
       "3   0.168363  0.999030  0.153993  0.459018  0.954232  0.797791\n",
       "4   0.517631  0.253756  0.873456  0.513713  0.855727  0.622927\n",
       "5   0.623178  0.982708  0.199438  0.391422  0.579191  0.523401\n",
       "6   0.607373  0.723898  0.672317  0.724505  0.987647  0.106291\n",
       "7   0.188756  0.320046  0.041503  0.350800  0.004607  0.549965\n",
       "8   0.227407  0.971128  0.619615  0.506262  0.350877  0.094039\n",
       "9   0.324222  0.714577  0.607566  0.519569  0.283158  0.028877\n",
       "10  0.206941  0.857942  0.423979  0.168238  0.168072  0.787173\n",
       "11  0.846883  0.704847  0.506272  0.135435  0.386852  0.770043\n",
       "12  0.219009  0.603296  0.498495  0.193060  0.075447  0.997714\n",
       "13  0.705817  0.407280  0.643078  0.193454  0.076493  0.061083\n",
       "14  0.834642  0.835560  0.348946  0.819852  0.123713  0.569064\n",
       "15  0.556545  0.264472  0.512649  0.031308  0.705008  0.046093\n",
       "16  0.749625  0.618823  0.702606  0.622747  0.956063  0.856837\n",
       "17  0.798504  0.190634  0.377957  0.291668  0.363656  0.940176\n",
       "18  0.102682  0.509791  0.906852  0.211264  0.926345  0.912941\n",
       "19  0.131773  0.437947  0.190442  0.689156  0.994516  0.791465"
      ]
     },
     "execution_count": 80,
     "metadata": {},
     "output_type": "execute_result"
    }
   ],
   "source": [
    "s3"
   ]
  },
  {
   "cell_type": "code",
   "execution_count": 88,
   "metadata": {
    "collapsed": false
   },
   "outputs": [
    {
     "data": {
      "text/html": [
       "<div>\n",
       "<table border=\"1\" class=\"dataframe\">\n",
       "  <thead>\n",
       "    <tr style=\"text-align: right;\">\n",
       "      <th></th>\n",
       "      <th>a</th>\n",
       "      <th>c</th>\n",
       "      <th>d</th>\n",
       "      <th>b</th>\n",
       "      <th>e</th>\n",
       "      <th>y</th>\n",
       "    </tr>\n",
       "  </thead>\n",
       "  <tbody>\n",
       "    <tr>\n",
       "      <th>0</th>\n",
       "      <td>0.458560</td>\n",
       "      <td>0.986266</td>\n",
       "      <td>0.936836</td>\n",
       "      <td>0.352413</td>\n",
       "      <td>0.502309</td>\n",
       "      <td>0.717893</td>\n",
       "    </tr>\n",
       "    <tr>\n",
       "      <th>1</th>\n",
       "      <td>0.072453</td>\n",
       "      <td>0.792368</td>\n",
       "      <td>0.343946</td>\n",
       "      <td>0.423265</td>\n",
       "      <td>0.550584</td>\n",
       "      <td>0.814539</td>\n",
       "    </tr>\n",
       "    <tr>\n",
       "      <th>2</th>\n",
       "      <td>0.928245</td>\n",
       "      <td>0.709963</td>\n",
       "      <td>0.508173</td>\n",
       "      <td>0.446650</td>\n",
       "      <td>0.514190</td>\n",
       "      <td>0.863303</td>\n",
       "    </tr>\n",
       "    <tr>\n",
       "      <th>3</th>\n",
       "      <td>0.168363</td>\n",
       "      <td>0.999030</td>\n",
       "      <td>0.153993</td>\n",
       "      <td>0.459018</td>\n",
       "      <td>0.954232</td>\n",
       "      <td>0.797791</td>\n",
       "    </tr>\n",
       "    <tr>\n",
       "      <th>4</th>\n",
       "      <td>0.517631</td>\n",
       "      <td>0.253756</td>\n",
       "      <td>0.873456</td>\n",
       "      <td>0.513713</td>\n",
       "      <td>0.855727</td>\n",
       "      <td>0.622927</td>\n",
       "    </tr>\n",
       "    <tr>\n",
       "      <th>5</th>\n",
       "      <td>0.623178</td>\n",
       "      <td>0.982708</td>\n",
       "      <td>0.199438</td>\n",
       "      <td>0.391422</td>\n",
       "      <td>0.579191</td>\n",
       "      <td>0.523401</td>\n",
       "    </tr>\n",
       "    <tr>\n",
       "      <th>6</th>\n",
       "      <td>0.607373</td>\n",
       "      <td>0.723898</td>\n",
       "      <td>0.672317</td>\n",
       "      <td>0.724505</td>\n",
       "      <td>0.987647</td>\n",
       "      <td>0.106291</td>\n",
       "    </tr>\n",
       "    <tr>\n",
       "      <th>7</th>\n",
       "      <td>0.188756</td>\n",
       "      <td>0.320046</td>\n",
       "      <td>0.041503</td>\n",
       "      <td>0.350800</td>\n",
       "      <td>0.004607</td>\n",
       "      <td>0.549965</td>\n",
       "    </tr>\n",
       "    <tr>\n",
       "      <th>8</th>\n",
       "      <td>0.227407</td>\n",
       "      <td>0.971128</td>\n",
       "      <td>0.619615</td>\n",
       "      <td>0.506262</td>\n",
       "      <td>0.350877</td>\n",
       "      <td>0.094039</td>\n",
       "    </tr>\n",
       "    <tr>\n",
       "      <th>9</th>\n",
       "      <td>0.324222</td>\n",
       "      <td>0.714577</td>\n",
       "      <td>0.607566</td>\n",
       "      <td>0.519569</td>\n",
       "      <td>0.283158</td>\n",
       "      <td>0.028877</td>\n",
       "    </tr>\n",
       "    <tr>\n",
       "      <th>10</th>\n",
       "      <td>0.206941</td>\n",
       "      <td>0.857942</td>\n",
       "      <td>0.423979</td>\n",
       "      <td>0.168238</td>\n",
       "      <td>0.168072</td>\n",
       "      <td>0.787173</td>\n",
       "    </tr>\n",
       "    <tr>\n",
       "      <th>11</th>\n",
       "      <td>0.846883</td>\n",
       "      <td>0.704847</td>\n",
       "      <td>0.506272</td>\n",
       "      <td>0.135435</td>\n",
       "      <td>0.386852</td>\n",
       "      <td>0.770043</td>\n",
       "    </tr>\n",
       "    <tr>\n",
       "      <th>12</th>\n",
       "      <td>0.219009</td>\n",
       "      <td>0.603296</td>\n",
       "      <td>0.498495</td>\n",
       "      <td>0.193060</td>\n",
       "      <td>0.075447</td>\n",
       "      <td>0.997714</td>\n",
       "    </tr>\n",
       "    <tr>\n",
       "      <th>13</th>\n",
       "      <td>0.705817</td>\n",
       "      <td>0.407280</td>\n",
       "      <td>0.643078</td>\n",
       "      <td>0.193454</td>\n",
       "      <td>0.076493</td>\n",
       "      <td>0.061083</td>\n",
       "    </tr>\n",
       "    <tr>\n",
       "      <th>14</th>\n",
       "      <td>0.834642</td>\n",
       "      <td>0.835560</td>\n",
       "      <td>0.348946</td>\n",
       "      <td>0.819852</td>\n",
       "      <td>0.123713</td>\n",
       "      <td>0.569064</td>\n",
       "    </tr>\n",
       "    <tr>\n",
       "      <th>15</th>\n",
       "      <td>0.556545</td>\n",
       "      <td>0.264472</td>\n",
       "      <td>0.512649</td>\n",
       "      <td>0.031308</td>\n",
       "      <td>0.705008</td>\n",
       "      <td>0.046093</td>\n",
       "    </tr>\n",
       "    <tr>\n",
       "      <th>16</th>\n",
       "      <td>0.749625</td>\n",
       "      <td>0.618823</td>\n",
       "      <td>0.702606</td>\n",
       "      <td>0.622747</td>\n",
       "      <td>0.956063</td>\n",
       "      <td>0.856837</td>\n",
       "    </tr>\n",
       "    <tr>\n",
       "      <th>17</th>\n",
       "      <td>0.798504</td>\n",
       "      <td>0.190634</td>\n",
       "      <td>0.377957</td>\n",
       "      <td>0.291668</td>\n",
       "      <td>0.363656</td>\n",
       "      <td>0.940176</td>\n",
       "    </tr>\n",
       "    <tr>\n",
       "      <th>18</th>\n",
       "      <td>0.102682</td>\n",
       "      <td>0.509791</td>\n",
       "      <td>0.906852</td>\n",
       "      <td>0.211264</td>\n",
       "      <td>0.926345</td>\n",
       "      <td>0.912941</td>\n",
       "    </tr>\n",
       "    <tr>\n",
       "      <th>19</th>\n",
       "      <td>0.131773</td>\n",
       "      <td>0.437947</td>\n",
       "      <td>0.190442</td>\n",
       "      <td>0.689156</td>\n",
       "      <td>0.994516</td>\n",
       "      <td>0.791465</td>\n",
       "    </tr>\n",
       "  </tbody>\n",
       "</table>\n",
       "</div>"
      ],
      "text/plain": [
       "           a         c         d         b         e         y\n",
       "0   0.458560  0.986266  0.936836  0.352413  0.502309  0.717893\n",
       "1   0.072453  0.792368  0.343946  0.423265  0.550584  0.814539\n",
       "2   0.928245  0.709963  0.508173  0.446650  0.514190  0.863303\n",
       "3   0.168363  0.999030  0.153993  0.459018  0.954232  0.797791\n",
       "4   0.517631  0.253756  0.873456  0.513713  0.855727  0.622927\n",
       "5   0.623178  0.982708  0.199438  0.391422  0.579191  0.523401\n",
       "6   0.607373  0.723898  0.672317  0.724505  0.987647  0.106291\n",
       "7   0.188756  0.320046  0.041503  0.350800  0.004607  0.549965\n",
       "8   0.227407  0.971128  0.619615  0.506262  0.350877  0.094039\n",
       "9   0.324222  0.714577  0.607566  0.519569  0.283158  0.028877\n",
       "10  0.206941  0.857942  0.423979  0.168238  0.168072  0.787173\n",
       "11  0.846883  0.704847  0.506272  0.135435  0.386852  0.770043\n",
       "12  0.219009  0.603296  0.498495  0.193060  0.075447  0.997714\n",
       "13  0.705817  0.407280  0.643078  0.193454  0.076493  0.061083\n",
       "14  0.834642  0.835560  0.348946  0.819852  0.123713  0.569064\n",
       "15  0.556545  0.264472  0.512649  0.031308  0.705008  0.046093\n",
       "16  0.749625  0.618823  0.702606  0.622747  0.956063  0.856837\n",
       "17  0.798504  0.190634  0.377957  0.291668  0.363656  0.940176\n",
       "18  0.102682  0.509791  0.906852  0.211264  0.926345  0.912941\n",
       "19  0.131773  0.437947  0.190442  0.689156  0.994516  0.791465"
      ]
     },
     "execution_count": 88,
     "metadata": {},
     "output_type": "execute_result"
    }
   ],
   "source": [
    "s2"
   ]
  },
  {
   "cell_type": "code",
   "execution_count": 82,
   "metadata": {
    "collapsed": false
   },
   "outputs": [
    {
     "data": {
      "text/html": [
       "<div>\n",
       "<table border=\"1\" class=\"dataframe\">\n",
       "  <thead>\n",
       "    <tr style=\"text-align: right;\">\n",
       "      <th></th>\n",
       "      <th>a</th>\n",
       "      <th>c</th>\n",
       "      <th>d</th>\n",
       "      <th>b</th>\n",
       "      <th>e</th>\n",
       "      <th>y</th>\n",
       "    </tr>\n",
       "  </thead>\n",
       "  <tbody>\n",
       "    <tr>\n",
       "      <th>0</th>\n",
       "      <td>1.23</td>\n",
       "      <td>0.986266</td>\n",
       "      <td>0.936836</td>\n",
       "      <td>0.352413</td>\n",
       "      <td>0.502309</td>\n",
       "      <td>0.717893</td>\n",
       "    </tr>\n",
       "  </tbody>\n",
       "</table>\n",
       "</div>"
      ],
      "text/plain": [
       "      a         c         d         b         e         y\n",
       "0  1.23  0.986266  0.936836  0.352413  0.502309  0.717893"
      ]
     },
     "execution_count": 82,
     "metadata": {},
     "output_type": "execute_result"
    }
   ],
   "source": [
    "s3[s3['a'].isin([1.0,1.23])]   \n",
    "#检索a列中的数据，将满足的行返回出来"
   ]
  },
  {
   "cell_type": "markdown",
   "metadata": {},
   "source": [
    "## 设置"
   ]
  },
  {
   "cell_type": "markdown",
   "metadata": {},
   "source": [
    "### 新增一个列"
   ]
  },
  {
   "cell_type": "code",
   "execution_count": 86,
   "metadata": {
    "collapsed": false
   },
   "outputs": [],
   "source": [
    "s1=Series([i for i in range(20)])"
   ]
  },
  {
   "cell_type": "code",
   "execution_count": 89,
   "metadata": {
    "collapsed": false
   },
   "outputs": [],
   "source": [
    "s2['y'][20]=11"
   ]
  },
  {
   "cell_type": "code",
   "execution_count": 257,
   "metadata": {
    "collapsed": false
   },
   "outputs": [
    {
     "data": {
      "text/html": [
       "<div>\n",
       "<table border=\"1\" class=\"dataframe\">\n",
       "  <thead>\n",
       "    <tr style=\"text-align: right;\">\n",
       "      <th></th>\n",
       "      <th>a</th>\n",
       "      <th>c</th>\n",
       "      <th>d</th>\n",
       "      <th>b</th>\n",
       "      <th>e</th>\n",
       "      <th>y</th>\n",
       "      <th>f</th>\n",
       "    </tr>\n",
       "  </thead>\n",
       "  <tbody>\n",
       "    <tr>\n",
       "      <th>0</th>\n",
       "      <td>0.991901</td>\n",
       "      <td>0.838998</td>\n",
       "      <td>0.775604</td>\n",
       "      <td>0.892089</td>\n",
       "      <td>0.102794</td>\n",
       "      <td>0.636771</td>\n",
       "      <td>0.0</td>\n",
       "    </tr>\n",
       "    <tr>\n",
       "      <th>1</th>\n",
       "      <td>0.389468</td>\n",
       "      <td>0.247012</td>\n",
       "      <td>0.457715</td>\n",
       "      <td>0.142122</td>\n",
       "      <td>0.346488</td>\n",
       "      <td>0.271232</td>\n",
       "      <td>1.0</td>\n",
       "    </tr>\n",
       "    <tr>\n",
       "      <th>2</th>\n",
       "      <td>0.074315</td>\n",
       "      <td>0.187233</td>\n",
       "      <td>0.036972</td>\n",
       "      <td>0.936166</td>\n",
       "      <td>0.729084</td>\n",
       "      <td>0.592069</td>\n",
       "      <td>2.0</td>\n",
       "    </tr>\n",
       "    <tr>\n",
       "      <th>3</th>\n",
       "      <td>0.793904</td>\n",
       "      <td>0.716845</td>\n",
       "      <td>0.960509</td>\n",
       "      <td>0.976558</td>\n",
       "      <td>0.929384</td>\n",
       "      <td>0.369410</td>\n",
       "      <td>3.0</td>\n",
       "    </tr>\n",
       "    <tr>\n",
       "      <th>4</th>\n",
       "      <td>0.133066</td>\n",
       "      <td>0.534543</td>\n",
       "      <td>0.564230</td>\n",
       "      <td>0.208281</td>\n",
       "      <td>0.234824</td>\n",
       "      <td>0.519950</td>\n",
       "      <td>4.0</td>\n",
       "    </tr>\n",
       "    <tr>\n",
       "      <th>5</th>\n",
       "      <td>0.397447</td>\n",
       "      <td>0.115304</td>\n",
       "      <td>0.621605</td>\n",
       "      <td>0.747432</td>\n",
       "      <td>0.789140</td>\n",
       "      <td>0.279844</td>\n",
       "      <td>5.0</td>\n",
       "    </tr>\n",
       "    <tr>\n",
       "      <th>6</th>\n",
       "      <td>0.917733</td>\n",
       "      <td>0.739812</td>\n",
       "      <td>0.463090</td>\n",
       "      <td>0.906051</td>\n",
       "      <td>0.473681</td>\n",
       "      <td>0.759881</td>\n",
       "      <td>6.0</td>\n",
       "    </tr>\n",
       "    <tr>\n",
       "      <th>7</th>\n",
       "      <td>0.239488</td>\n",
       "      <td>0.453373</td>\n",
       "      <td>0.082169</td>\n",
       "      <td>0.191129</td>\n",
       "      <td>0.271556</td>\n",
       "      <td>0.208201</td>\n",
       "      <td>7.0</td>\n",
       "    </tr>\n",
       "    <tr>\n",
       "      <th>8</th>\n",
       "      <td>0.994808</td>\n",
       "      <td>0.419953</td>\n",
       "      <td>0.872775</td>\n",
       "      <td>0.782133</td>\n",
       "      <td>0.558537</td>\n",
       "      <td>0.323859</td>\n",
       "      <td>8.0</td>\n",
       "    </tr>\n",
       "    <tr>\n",
       "      <th>9</th>\n",
       "      <td>0.389550</td>\n",
       "      <td>0.537000</td>\n",
       "      <td>0.941417</td>\n",
       "      <td>0.081433</td>\n",
       "      <td>0.909537</td>\n",
       "      <td>0.278162</td>\n",
       "      <td>9.0</td>\n",
       "    </tr>\n",
       "    <tr>\n",
       "      <th>10</th>\n",
       "      <td>0.672800</td>\n",
       "      <td>0.349404</td>\n",
       "      <td>0.576208</td>\n",
       "      <td>0.922537</td>\n",
       "      <td>0.431780</td>\n",
       "      <td>0.790312</td>\n",
       "      <td>10.0</td>\n",
       "    </tr>\n",
       "    <tr>\n",
       "      <th>11</th>\n",
       "      <td>0.052775</td>\n",
       "      <td>0.658172</td>\n",
       "      <td>0.334694</td>\n",
       "      <td>0.153849</td>\n",
       "      <td>0.454398</td>\n",
       "      <td>0.889913</td>\n",
       "      <td>11.0</td>\n",
       "    </tr>\n",
       "    <tr>\n",
       "      <th>12</th>\n",
       "      <td>0.378632</td>\n",
       "      <td>0.326843</td>\n",
       "      <td>0.876146</td>\n",
       "      <td>0.136811</td>\n",
       "      <td>0.474922</td>\n",
       "      <td>0.885783</td>\n",
       "      <td>12.0</td>\n",
       "    </tr>\n",
       "    <tr>\n",
       "      <th>13</th>\n",
       "      <td>0.132031</td>\n",
       "      <td>0.151797</td>\n",
       "      <td>0.004512</td>\n",
       "      <td>0.552894</td>\n",
       "      <td>0.006434</td>\n",
       "      <td>0.041160</td>\n",
       "      <td>13.0</td>\n",
       "    </tr>\n",
       "    <tr>\n",
       "      <th>14</th>\n",
       "      <td>0.438989</td>\n",
       "      <td>0.485103</td>\n",
       "      <td>0.693182</td>\n",
       "      <td>0.465587</td>\n",
       "      <td>0.106033</td>\n",
       "      <td>0.251320</td>\n",
       "      <td>14.0</td>\n",
       "    </tr>\n",
       "    <tr>\n",
       "      <th>15</th>\n",
       "      <td>0.683394</td>\n",
       "      <td>0.158604</td>\n",
       "      <td>0.168268</td>\n",
       "      <td>0.935361</td>\n",
       "      <td>0.487690</td>\n",
       "      <td>0.656782</td>\n",
       "      <td>15.0</td>\n",
       "    </tr>\n",
       "    <tr>\n",
       "      <th>16</th>\n",
       "      <td>0.101132</td>\n",
       "      <td>0.797641</td>\n",
       "      <td>0.580322</td>\n",
       "      <td>0.442150</td>\n",
       "      <td>0.738622</td>\n",
       "      <td>0.975511</td>\n",
       "      <td>16.0</td>\n",
       "    </tr>\n",
       "    <tr>\n",
       "      <th>17</th>\n",
       "      <td>0.186438</td>\n",
       "      <td>0.665435</td>\n",
       "      <td>0.269656</td>\n",
       "      <td>0.852374</td>\n",
       "      <td>0.867811</td>\n",
       "      <td>0.175726</td>\n",
       "      <td>17.0</td>\n",
       "    </tr>\n",
       "    <tr>\n",
       "      <th>18</th>\n",
       "      <td>0.755481</td>\n",
       "      <td>0.585333</td>\n",
       "      <td>0.876494</td>\n",
       "      <td>0.051804</td>\n",
       "      <td>0.744058</td>\n",
       "      <td>0.879977</td>\n",
       "      <td>18.0</td>\n",
       "    </tr>\n",
       "    <tr>\n",
       "      <th>19</th>\n",
       "      <td>0.758668</td>\n",
       "      <td>0.250244</td>\n",
       "      <td>0.721471</td>\n",
       "      <td>0.471689</td>\n",
       "      <td>0.823709</td>\n",
       "      <td>0.570059</td>\n",
       "      <td>19.0</td>\n",
       "    </tr>\n",
       "    <tr>\n",
       "      <th>20</th>\n",
       "      <td>1.000000</td>\n",
       "      <td>2.000000</td>\n",
       "      <td>3.000000</td>\n",
       "      <td>4.000000</td>\n",
       "      <td>5.000000</td>\n",
       "      <td>6.000000</td>\n",
       "      <td>11.0</td>\n",
       "    </tr>\n",
       "  </tbody>\n",
       "</table>\n",
       "</div>"
      ],
      "text/plain": [
       "           a         c         d         b         e         y     f\n",
       "0   0.991901  0.838998  0.775604  0.892089  0.102794  0.636771   0.0\n",
       "1   0.389468  0.247012  0.457715  0.142122  0.346488  0.271232   1.0\n",
       "2   0.074315  0.187233  0.036972  0.936166  0.729084  0.592069   2.0\n",
       "3   0.793904  0.716845  0.960509  0.976558  0.929384  0.369410   3.0\n",
       "4   0.133066  0.534543  0.564230  0.208281  0.234824  0.519950   4.0\n",
       "5   0.397447  0.115304  0.621605  0.747432  0.789140  0.279844   5.0\n",
       "6   0.917733  0.739812  0.463090  0.906051  0.473681  0.759881   6.0\n",
       "7   0.239488  0.453373  0.082169  0.191129  0.271556  0.208201   7.0\n",
       "8   0.994808  0.419953  0.872775  0.782133  0.558537  0.323859   8.0\n",
       "9   0.389550  0.537000  0.941417  0.081433  0.909537  0.278162   9.0\n",
       "10  0.672800  0.349404  0.576208  0.922537  0.431780  0.790312  10.0\n",
       "11  0.052775  0.658172  0.334694  0.153849  0.454398  0.889913  11.0\n",
       "12  0.378632  0.326843  0.876146  0.136811  0.474922  0.885783  12.0\n",
       "13  0.132031  0.151797  0.004512  0.552894  0.006434  0.041160  13.0\n",
       "14  0.438989  0.485103  0.693182  0.465587  0.106033  0.251320  14.0\n",
       "15  0.683394  0.158604  0.168268  0.935361  0.487690  0.656782  15.0\n",
       "16  0.101132  0.797641  0.580322  0.442150  0.738622  0.975511  16.0\n",
       "17  0.186438  0.665435  0.269656  0.852374  0.867811  0.175726  17.0\n",
       "18  0.755481  0.585333  0.876494  0.051804  0.744058  0.879977  18.0\n",
       "19  0.758668  0.250244  0.721471  0.471689  0.823709  0.570059  19.0\n",
       "20  1.000000  2.000000  3.000000  4.000000  5.000000  6.000000  11.0"
      ]
     },
     "execution_count": 257,
     "metadata": {},
     "output_type": "execute_result"
    }
   ],
   "source": [
    "s2"
   ]
  },
  {
   "cell_type": "markdown",
   "metadata": {},
   "source": [
    "### 通过便签设置值"
   ]
  },
  {
   "cell_type": "code",
   "execution_count": 90,
   "metadata": {
    "collapsed": false
   },
   "outputs": [],
   "source": [
    "s2.loc[20,'f']=13"
   ]
  },
  {
   "cell_type": "code",
   "execution_count": 91,
   "metadata": {
    "collapsed": false
   },
   "outputs": [
    {
     "data": {
      "text/html": [
       "<div>\n",
       "<table border=\"1\" class=\"dataframe\">\n",
       "  <thead>\n",
       "    <tr style=\"text-align: right;\">\n",
       "      <th></th>\n",
       "      <th>a</th>\n",
       "      <th>c</th>\n",
       "      <th>d</th>\n",
       "      <th>b</th>\n",
       "      <th>e</th>\n",
       "      <th>y</th>\n",
       "      <th>f</th>\n",
       "    </tr>\n",
       "  </thead>\n",
       "  <tbody>\n",
       "    <tr>\n",
       "      <th>0</th>\n",
       "      <td>0.458560</td>\n",
       "      <td>0.986266</td>\n",
       "      <td>0.936836</td>\n",
       "      <td>0.352413</td>\n",
       "      <td>0.502309</td>\n",
       "      <td>0.717893</td>\n",
       "      <td>NaN</td>\n",
       "    </tr>\n",
       "    <tr>\n",
       "      <th>1</th>\n",
       "      <td>0.072453</td>\n",
       "      <td>0.792368</td>\n",
       "      <td>0.343946</td>\n",
       "      <td>0.423265</td>\n",
       "      <td>0.550584</td>\n",
       "      <td>0.814539</td>\n",
       "      <td>NaN</td>\n",
       "    </tr>\n",
       "    <tr>\n",
       "      <th>2</th>\n",
       "      <td>0.928245</td>\n",
       "      <td>0.709963</td>\n",
       "      <td>0.508173</td>\n",
       "      <td>0.446650</td>\n",
       "      <td>0.514190</td>\n",
       "      <td>0.863303</td>\n",
       "      <td>NaN</td>\n",
       "    </tr>\n",
       "    <tr>\n",
       "      <th>3</th>\n",
       "      <td>0.168363</td>\n",
       "      <td>0.999030</td>\n",
       "      <td>0.153993</td>\n",
       "      <td>0.459018</td>\n",
       "      <td>0.954232</td>\n",
       "      <td>0.797791</td>\n",
       "      <td>NaN</td>\n",
       "    </tr>\n",
       "    <tr>\n",
       "      <th>4</th>\n",
       "      <td>0.517631</td>\n",
       "      <td>0.253756</td>\n",
       "      <td>0.873456</td>\n",
       "      <td>0.513713</td>\n",
       "      <td>0.855727</td>\n",
       "      <td>0.622927</td>\n",
       "      <td>NaN</td>\n",
       "    </tr>\n",
       "    <tr>\n",
       "      <th>5</th>\n",
       "      <td>0.623178</td>\n",
       "      <td>0.982708</td>\n",
       "      <td>0.199438</td>\n",
       "      <td>0.391422</td>\n",
       "      <td>0.579191</td>\n",
       "      <td>0.523401</td>\n",
       "      <td>NaN</td>\n",
       "    </tr>\n",
       "    <tr>\n",
       "      <th>6</th>\n",
       "      <td>0.607373</td>\n",
       "      <td>0.723898</td>\n",
       "      <td>0.672317</td>\n",
       "      <td>0.724505</td>\n",
       "      <td>0.987647</td>\n",
       "      <td>0.106291</td>\n",
       "      <td>NaN</td>\n",
       "    </tr>\n",
       "    <tr>\n",
       "      <th>7</th>\n",
       "      <td>0.188756</td>\n",
       "      <td>0.320046</td>\n",
       "      <td>0.041503</td>\n",
       "      <td>0.350800</td>\n",
       "      <td>0.004607</td>\n",
       "      <td>0.549965</td>\n",
       "      <td>NaN</td>\n",
       "    </tr>\n",
       "    <tr>\n",
       "      <th>8</th>\n",
       "      <td>0.227407</td>\n",
       "      <td>0.971128</td>\n",
       "      <td>0.619615</td>\n",
       "      <td>0.506262</td>\n",
       "      <td>0.350877</td>\n",
       "      <td>0.094039</td>\n",
       "      <td>NaN</td>\n",
       "    </tr>\n",
       "    <tr>\n",
       "      <th>9</th>\n",
       "      <td>0.324222</td>\n",
       "      <td>0.714577</td>\n",
       "      <td>0.607566</td>\n",
       "      <td>0.519569</td>\n",
       "      <td>0.283158</td>\n",
       "      <td>0.028877</td>\n",
       "      <td>NaN</td>\n",
       "    </tr>\n",
       "    <tr>\n",
       "      <th>10</th>\n",
       "      <td>0.206941</td>\n",
       "      <td>0.857942</td>\n",
       "      <td>0.423979</td>\n",
       "      <td>0.168238</td>\n",
       "      <td>0.168072</td>\n",
       "      <td>0.787173</td>\n",
       "      <td>NaN</td>\n",
       "    </tr>\n",
       "    <tr>\n",
       "      <th>11</th>\n",
       "      <td>0.846883</td>\n",
       "      <td>0.704847</td>\n",
       "      <td>0.506272</td>\n",
       "      <td>0.135435</td>\n",
       "      <td>0.386852</td>\n",
       "      <td>0.770043</td>\n",
       "      <td>NaN</td>\n",
       "    </tr>\n",
       "    <tr>\n",
       "      <th>12</th>\n",
       "      <td>0.219009</td>\n",
       "      <td>0.603296</td>\n",
       "      <td>0.498495</td>\n",
       "      <td>0.193060</td>\n",
       "      <td>0.075447</td>\n",
       "      <td>0.997714</td>\n",
       "      <td>NaN</td>\n",
       "    </tr>\n",
       "    <tr>\n",
       "      <th>13</th>\n",
       "      <td>0.705817</td>\n",
       "      <td>0.407280</td>\n",
       "      <td>0.643078</td>\n",
       "      <td>0.193454</td>\n",
       "      <td>0.076493</td>\n",
       "      <td>0.061083</td>\n",
       "      <td>NaN</td>\n",
       "    </tr>\n",
       "    <tr>\n",
       "      <th>14</th>\n",
       "      <td>0.834642</td>\n",
       "      <td>0.835560</td>\n",
       "      <td>0.348946</td>\n",
       "      <td>0.819852</td>\n",
       "      <td>0.123713</td>\n",
       "      <td>0.569064</td>\n",
       "      <td>NaN</td>\n",
       "    </tr>\n",
       "    <tr>\n",
       "      <th>15</th>\n",
       "      <td>0.556545</td>\n",
       "      <td>0.264472</td>\n",
       "      <td>0.512649</td>\n",
       "      <td>0.031308</td>\n",
       "      <td>0.705008</td>\n",
       "      <td>0.046093</td>\n",
       "      <td>NaN</td>\n",
       "    </tr>\n",
       "    <tr>\n",
       "      <th>16</th>\n",
       "      <td>0.749625</td>\n",
       "      <td>0.618823</td>\n",
       "      <td>0.702606</td>\n",
       "      <td>0.622747</td>\n",
       "      <td>0.956063</td>\n",
       "      <td>0.856837</td>\n",
       "      <td>NaN</td>\n",
       "    </tr>\n",
       "    <tr>\n",
       "      <th>17</th>\n",
       "      <td>0.798504</td>\n",
       "      <td>0.190634</td>\n",
       "      <td>0.377957</td>\n",
       "      <td>0.291668</td>\n",
       "      <td>0.363656</td>\n",
       "      <td>0.940176</td>\n",
       "      <td>NaN</td>\n",
       "    </tr>\n",
       "    <tr>\n",
       "      <th>18</th>\n",
       "      <td>0.102682</td>\n",
       "      <td>0.509791</td>\n",
       "      <td>0.906852</td>\n",
       "      <td>0.211264</td>\n",
       "      <td>0.926345</td>\n",
       "      <td>0.912941</td>\n",
       "      <td>NaN</td>\n",
       "    </tr>\n",
       "    <tr>\n",
       "      <th>19</th>\n",
       "      <td>0.131773</td>\n",
       "      <td>0.437947</td>\n",
       "      <td>0.190442</td>\n",
       "      <td>0.689156</td>\n",
       "      <td>0.994516</td>\n",
       "      <td>0.791465</td>\n",
       "      <td>NaN</td>\n",
       "    </tr>\n",
       "    <tr>\n",
       "      <th>20</th>\n",
       "      <td>NaN</td>\n",
       "      <td>NaN</td>\n",
       "      <td>NaN</td>\n",
       "      <td>NaN</td>\n",
       "      <td>NaN</td>\n",
       "      <td>NaN</td>\n",
       "      <td>13.0</td>\n",
       "    </tr>\n",
       "  </tbody>\n",
       "</table>\n",
       "</div>"
      ],
      "text/plain": [
       "           a         c         d         b         e         y     f\n",
       "0   0.458560  0.986266  0.936836  0.352413  0.502309  0.717893   NaN\n",
       "1   0.072453  0.792368  0.343946  0.423265  0.550584  0.814539   NaN\n",
       "2   0.928245  0.709963  0.508173  0.446650  0.514190  0.863303   NaN\n",
       "3   0.168363  0.999030  0.153993  0.459018  0.954232  0.797791   NaN\n",
       "4   0.517631  0.253756  0.873456  0.513713  0.855727  0.622927   NaN\n",
       "5   0.623178  0.982708  0.199438  0.391422  0.579191  0.523401   NaN\n",
       "6   0.607373  0.723898  0.672317  0.724505  0.987647  0.106291   NaN\n",
       "7   0.188756  0.320046  0.041503  0.350800  0.004607  0.549965   NaN\n",
       "8   0.227407  0.971128  0.619615  0.506262  0.350877  0.094039   NaN\n",
       "9   0.324222  0.714577  0.607566  0.519569  0.283158  0.028877   NaN\n",
       "10  0.206941  0.857942  0.423979  0.168238  0.168072  0.787173   NaN\n",
       "11  0.846883  0.704847  0.506272  0.135435  0.386852  0.770043   NaN\n",
       "12  0.219009  0.603296  0.498495  0.193060  0.075447  0.997714   NaN\n",
       "13  0.705817  0.407280  0.643078  0.193454  0.076493  0.061083   NaN\n",
       "14  0.834642  0.835560  0.348946  0.819852  0.123713  0.569064   NaN\n",
       "15  0.556545  0.264472  0.512649  0.031308  0.705008  0.046093   NaN\n",
       "16  0.749625  0.618823  0.702606  0.622747  0.956063  0.856837   NaN\n",
       "17  0.798504  0.190634  0.377957  0.291668  0.363656  0.940176   NaN\n",
       "18  0.102682  0.509791  0.906852  0.211264  0.926345  0.912941   NaN\n",
       "19  0.131773  0.437947  0.190442  0.689156  0.994516  0.791465   NaN\n",
       "20       NaN       NaN       NaN       NaN       NaN       NaN  13.0"
      ]
     },
     "execution_count": 91,
     "metadata": {},
     "output_type": "execute_result"
    }
   ],
   "source": [
    "s2"
   ]
  },
  {
   "cell_type": "code",
   "execution_count": 92,
   "metadata": {
    "collapsed": false
   },
   "outputs": [],
   "source": [
    "s2[s2>0.5]=0"
   ]
  },
  {
   "cell_type": "code",
   "execution_count": 93,
   "metadata": {
    "collapsed": false
   },
   "outputs": [
    {
     "data": {
      "text/html": [
       "<div>\n",
       "<table border=\"1\" class=\"dataframe\">\n",
       "  <thead>\n",
       "    <tr style=\"text-align: right;\">\n",
       "      <th></th>\n",
       "      <th>a</th>\n",
       "      <th>c</th>\n",
       "      <th>d</th>\n",
       "      <th>b</th>\n",
       "      <th>e</th>\n",
       "      <th>y</th>\n",
       "      <th>f</th>\n",
       "    </tr>\n",
       "  </thead>\n",
       "  <tbody>\n",
       "    <tr>\n",
       "      <th>0</th>\n",
       "      <td>0.458560</td>\n",
       "      <td>0.000000</td>\n",
       "      <td>0.000000</td>\n",
       "      <td>0.352413</td>\n",
       "      <td>0.000000</td>\n",
       "      <td>0.000000</td>\n",
       "      <td>NaN</td>\n",
       "    </tr>\n",
       "    <tr>\n",
       "      <th>1</th>\n",
       "      <td>0.072453</td>\n",
       "      <td>0.000000</td>\n",
       "      <td>0.343946</td>\n",
       "      <td>0.423265</td>\n",
       "      <td>0.000000</td>\n",
       "      <td>0.000000</td>\n",
       "      <td>NaN</td>\n",
       "    </tr>\n",
       "    <tr>\n",
       "      <th>2</th>\n",
       "      <td>0.000000</td>\n",
       "      <td>0.000000</td>\n",
       "      <td>0.000000</td>\n",
       "      <td>0.446650</td>\n",
       "      <td>0.000000</td>\n",
       "      <td>0.000000</td>\n",
       "      <td>NaN</td>\n",
       "    </tr>\n",
       "    <tr>\n",
       "      <th>3</th>\n",
       "      <td>0.168363</td>\n",
       "      <td>0.000000</td>\n",
       "      <td>0.153993</td>\n",
       "      <td>0.459018</td>\n",
       "      <td>0.000000</td>\n",
       "      <td>0.000000</td>\n",
       "      <td>NaN</td>\n",
       "    </tr>\n",
       "    <tr>\n",
       "      <th>4</th>\n",
       "      <td>0.000000</td>\n",
       "      <td>0.253756</td>\n",
       "      <td>0.000000</td>\n",
       "      <td>0.000000</td>\n",
       "      <td>0.000000</td>\n",
       "      <td>0.000000</td>\n",
       "      <td>NaN</td>\n",
       "    </tr>\n",
       "    <tr>\n",
       "      <th>5</th>\n",
       "      <td>0.000000</td>\n",
       "      <td>0.000000</td>\n",
       "      <td>0.199438</td>\n",
       "      <td>0.391422</td>\n",
       "      <td>0.000000</td>\n",
       "      <td>0.000000</td>\n",
       "      <td>NaN</td>\n",
       "    </tr>\n",
       "    <tr>\n",
       "      <th>6</th>\n",
       "      <td>0.000000</td>\n",
       "      <td>0.000000</td>\n",
       "      <td>0.000000</td>\n",
       "      <td>0.000000</td>\n",
       "      <td>0.000000</td>\n",
       "      <td>0.106291</td>\n",
       "      <td>NaN</td>\n",
       "    </tr>\n",
       "    <tr>\n",
       "      <th>7</th>\n",
       "      <td>0.188756</td>\n",
       "      <td>0.320046</td>\n",
       "      <td>0.041503</td>\n",
       "      <td>0.350800</td>\n",
       "      <td>0.004607</td>\n",
       "      <td>0.000000</td>\n",
       "      <td>NaN</td>\n",
       "    </tr>\n",
       "    <tr>\n",
       "      <th>8</th>\n",
       "      <td>0.227407</td>\n",
       "      <td>0.000000</td>\n",
       "      <td>0.000000</td>\n",
       "      <td>0.000000</td>\n",
       "      <td>0.350877</td>\n",
       "      <td>0.094039</td>\n",
       "      <td>NaN</td>\n",
       "    </tr>\n",
       "    <tr>\n",
       "      <th>9</th>\n",
       "      <td>0.324222</td>\n",
       "      <td>0.000000</td>\n",
       "      <td>0.000000</td>\n",
       "      <td>0.000000</td>\n",
       "      <td>0.283158</td>\n",
       "      <td>0.028877</td>\n",
       "      <td>NaN</td>\n",
       "    </tr>\n",
       "    <tr>\n",
       "      <th>10</th>\n",
       "      <td>0.206941</td>\n",
       "      <td>0.000000</td>\n",
       "      <td>0.423979</td>\n",
       "      <td>0.168238</td>\n",
       "      <td>0.168072</td>\n",
       "      <td>0.000000</td>\n",
       "      <td>NaN</td>\n",
       "    </tr>\n",
       "    <tr>\n",
       "      <th>11</th>\n",
       "      <td>0.000000</td>\n",
       "      <td>0.000000</td>\n",
       "      <td>0.000000</td>\n",
       "      <td>0.135435</td>\n",
       "      <td>0.386852</td>\n",
       "      <td>0.000000</td>\n",
       "      <td>NaN</td>\n",
       "    </tr>\n",
       "    <tr>\n",
       "      <th>12</th>\n",
       "      <td>0.219009</td>\n",
       "      <td>0.000000</td>\n",
       "      <td>0.498495</td>\n",
       "      <td>0.193060</td>\n",
       "      <td>0.075447</td>\n",
       "      <td>0.000000</td>\n",
       "      <td>NaN</td>\n",
       "    </tr>\n",
       "    <tr>\n",
       "      <th>13</th>\n",
       "      <td>0.000000</td>\n",
       "      <td>0.407280</td>\n",
       "      <td>0.000000</td>\n",
       "      <td>0.193454</td>\n",
       "      <td>0.076493</td>\n",
       "      <td>0.061083</td>\n",
       "      <td>NaN</td>\n",
       "    </tr>\n",
       "    <tr>\n",
       "      <th>14</th>\n",
       "      <td>0.000000</td>\n",
       "      <td>0.000000</td>\n",
       "      <td>0.348946</td>\n",
       "      <td>0.000000</td>\n",
       "      <td>0.123713</td>\n",
       "      <td>0.000000</td>\n",
       "      <td>NaN</td>\n",
       "    </tr>\n",
       "    <tr>\n",
       "      <th>15</th>\n",
       "      <td>0.000000</td>\n",
       "      <td>0.264472</td>\n",
       "      <td>0.000000</td>\n",
       "      <td>0.031308</td>\n",
       "      <td>0.000000</td>\n",
       "      <td>0.046093</td>\n",
       "      <td>NaN</td>\n",
       "    </tr>\n",
       "    <tr>\n",
       "      <th>16</th>\n",
       "      <td>0.000000</td>\n",
       "      <td>0.000000</td>\n",
       "      <td>0.000000</td>\n",
       "      <td>0.000000</td>\n",
       "      <td>0.000000</td>\n",
       "      <td>0.000000</td>\n",
       "      <td>NaN</td>\n",
       "    </tr>\n",
       "    <tr>\n",
       "      <th>17</th>\n",
       "      <td>0.000000</td>\n",
       "      <td>0.190634</td>\n",
       "      <td>0.377957</td>\n",
       "      <td>0.291668</td>\n",
       "      <td>0.363656</td>\n",
       "      <td>0.000000</td>\n",
       "      <td>NaN</td>\n",
       "    </tr>\n",
       "    <tr>\n",
       "      <th>18</th>\n",
       "      <td>0.102682</td>\n",
       "      <td>0.000000</td>\n",
       "      <td>0.000000</td>\n",
       "      <td>0.211264</td>\n",
       "      <td>0.000000</td>\n",
       "      <td>0.000000</td>\n",
       "      <td>NaN</td>\n",
       "    </tr>\n",
       "    <tr>\n",
       "      <th>19</th>\n",
       "      <td>0.131773</td>\n",
       "      <td>0.437947</td>\n",
       "      <td>0.190442</td>\n",
       "      <td>0.000000</td>\n",
       "      <td>0.000000</td>\n",
       "      <td>0.000000</td>\n",
       "      <td>NaN</td>\n",
       "    </tr>\n",
       "    <tr>\n",
       "      <th>20</th>\n",
       "      <td>NaN</td>\n",
       "      <td>NaN</td>\n",
       "      <td>NaN</td>\n",
       "      <td>NaN</td>\n",
       "      <td>NaN</td>\n",
       "      <td>NaN</td>\n",
       "      <td>0.0</td>\n",
       "    </tr>\n",
       "  </tbody>\n",
       "</table>\n",
       "</div>"
      ],
      "text/plain": [
       "           a         c         d         b         e         y    f\n",
       "0   0.458560  0.000000  0.000000  0.352413  0.000000  0.000000  NaN\n",
       "1   0.072453  0.000000  0.343946  0.423265  0.000000  0.000000  NaN\n",
       "2   0.000000  0.000000  0.000000  0.446650  0.000000  0.000000  NaN\n",
       "3   0.168363  0.000000  0.153993  0.459018  0.000000  0.000000  NaN\n",
       "4   0.000000  0.253756  0.000000  0.000000  0.000000  0.000000  NaN\n",
       "5   0.000000  0.000000  0.199438  0.391422  0.000000  0.000000  NaN\n",
       "6   0.000000  0.000000  0.000000  0.000000  0.000000  0.106291  NaN\n",
       "7   0.188756  0.320046  0.041503  0.350800  0.004607  0.000000  NaN\n",
       "8   0.227407  0.000000  0.000000  0.000000  0.350877  0.094039  NaN\n",
       "9   0.324222  0.000000  0.000000  0.000000  0.283158  0.028877  NaN\n",
       "10  0.206941  0.000000  0.423979  0.168238  0.168072  0.000000  NaN\n",
       "11  0.000000  0.000000  0.000000  0.135435  0.386852  0.000000  NaN\n",
       "12  0.219009  0.000000  0.498495  0.193060  0.075447  0.000000  NaN\n",
       "13  0.000000  0.407280  0.000000  0.193454  0.076493  0.061083  NaN\n",
       "14  0.000000  0.000000  0.348946  0.000000  0.123713  0.000000  NaN\n",
       "15  0.000000  0.264472  0.000000  0.031308  0.000000  0.046093  NaN\n",
       "16  0.000000  0.000000  0.000000  0.000000  0.000000  0.000000  NaN\n",
       "17  0.000000  0.190634  0.377957  0.291668  0.363656  0.000000  NaN\n",
       "18  0.102682  0.000000  0.000000  0.211264  0.000000  0.000000  NaN\n",
       "19  0.131773  0.437947  0.190442  0.000000  0.000000  0.000000  NaN\n",
       "20       NaN       NaN       NaN       NaN       NaN       NaN  0.0"
      ]
     },
     "execution_count": 93,
     "metadata": {},
     "output_type": "execute_result"
    }
   ],
   "source": [
    "s2"
   ]
  },
  {
   "cell_type": "code",
   "execution_count": 275,
   "metadata": {
    "collapsed": false
   },
   "outputs": [],
   "source": [
    "s4=s3[s3.a<0.06]"
   ]
  },
  {
   "cell_type": "markdown",
   "metadata": {},
   "source": [
    "## 缺失值的处理"
   ]
  },
  {
   "cell_type": "markdown",
   "metadata": {},
   "source": [
    "### reindex() 方法可以对指定的轴上的索引进行修改（增加/删除）"
   ]
  },
  {
   "cell_type": "code",
   "execution_count": 94,
   "metadata": {
    "collapsed": false
   },
   "outputs": [],
   "source": [
    "s4=s3.reindex(index=[i for i in range(11)],columns=list(s3.columns)+['a'])"
   ]
  },
  {
   "cell_type": "code",
   "execution_count": 95,
   "metadata": {
    "collapsed": false
   },
   "outputs": [
    {
     "data": {
      "text/plain": [
       "0.98626638033281844"
      ]
     },
     "execution_count": 95,
     "metadata": {},
     "output_type": "execute_result"
    }
   ],
   "source": [
    "s3.iat[0,1]"
   ]
  },
  {
   "cell_type": "code",
   "execution_count": 312,
   "metadata": {
    "collapsed": false
   },
   "outputs": [],
   "source": [
    "s4=DataFrame(np.array(\n",
    "    [\n",
    "        [1,np.nan,2,3],\n",
    "        [2,3,4,np.nan]\n",
    "    ]\n",
    "))"
   ]
  },
  {
   "cell_type": "code",
   "execution_count": 317,
   "metadata": {
    "collapsed": false
   },
   "outputs": [
    {
     "data": {
      "text/html": [
       "<div>\n",
       "<table border=\"1\" class=\"dataframe\">\n",
       "  <thead>\n",
       "    <tr style=\"text-align: right;\">\n",
       "      <th></th>\n",
       "      <th>0</th>\n",
       "      <th>1</th>\n",
       "      <th>2</th>\n",
       "      <th>3</th>\n",
       "    </tr>\n",
       "  </thead>\n",
       "  <tbody>\n",
       "    <tr>\n",
       "      <th>0</th>\n",
       "      <td>1.0</td>\n",
       "      <td>NaN</td>\n",
       "      <td>2.0</td>\n",
       "      <td>3.0</td>\n",
       "    </tr>\n",
       "    <tr>\n",
       "      <th>1</th>\n",
       "      <td>2.0</td>\n",
       "      <td>3.0</td>\n",
       "      <td>4.0</td>\n",
       "      <td>NaN</td>\n",
       "    </tr>\n",
       "    <tr>\n",
       "      <th>2</th>\n",
       "      <td>1.0</td>\n",
       "      <td>2.0</td>\n",
       "      <td>3.0</td>\n",
       "      <td>4.0</td>\n",
       "    </tr>\n",
       "  </tbody>\n",
       "</table>\n",
       "</div>"
      ],
      "text/plain": [
       "     0    1    2    3\n",
       "0  1.0  NaN  2.0  3.0\n",
       "1  2.0  3.0  4.0  NaN\n",
       "2  1.0  2.0  3.0  4.0"
      ]
     },
     "execution_count": 317,
     "metadata": {},
     "output_type": "execute_result"
    }
   ],
   "source": [
    "s4.ix[2]=[1,2,3,4]\n",
    "s4"
   ]
  },
  {
   "cell_type": "markdown",
   "metadata": {},
   "source": [
    "#### 去除包含缺失值的行"
   ]
  },
  {
   "cell_type": "code",
   "execution_count": 318,
   "metadata": {
    "collapsed": false
   },
   "outputs": [
    {
     "data": {
      "text/html": [
       "<div>\n",
       "<table border=\"1\" class=\"dataframe\">\n",
       "  <thead>\n",
       "    <tr style=\"text-align: right;\">\n",
       "      <th></th>\n",
       "      <th>0</th>\n",
       "      <th>1</th>\n",
       "      <th>2</th>\n",
       "      <th>3</th>\n",
       "    </tr>\n",
       "  </thead>\n",
       "  <tbody>\n",
       "    <tr>\n",
       "      <th>2</th>\n",
       "      <td>1.0</td>\n",
       "      <td>2.0</td>\n",
       "      <td>3.0</td>\n",
       "      <td>4.0</td>\n",
       "    </tr>\n",
       "  </tbody>\n",
       "</table>\n",
       "</div>"
      ],
      "text/plain": [
       "     0    1    2    3\n",
       "2  1.0  2.0  3.0  4.0"
      ]
     },
     "execution_count": 318,
     "metadata": {},
     "output_type": "execute_result"
    }
   ],
   "source": [
    "s4.dropna(how='any')"
   ]
  },
  {
   "cell_type": "code",
   "execution_count": 319,
   "metadata": {
    "collapsed": false
   },
   "outputs": [
    {
     "name": "stdout",
     "output_type": "stream",
     "text": [
      "Help on method dropna in module pandas.core.frame:\n",
      "\n",
      "dropna(self, axis=0, how='any', thresh=None, subset=None, inplace=False) method of pandas.core.frame.DataFrame instance\n",
      "    Return object with labels on given axis omitted where alternately any\n",
      "    or all of the data are missing\n",
      "    \n",
      "    Parameters\n",
      "    ----------\n",
      "    axis : {0 or 'index', 1 or 'columns'}, or tuple/list thereof\n",
      "        Pass tuple or list to drop on multiple axes\n",
      "    how : {'any', 'all'}\n",
      "        * any : if any NA values are present, drop that label\n",
      "        * all : if all values are NA, drop that label\n",
      "    thresh : int, default None\n",
      "        int value : require that many non-NA values\n",
      "    subset : array-like\n",
      "        Labels along other axis to consider, e.g. if you are dropping rows\n",
      "        these would be a list of columns to include\n",
      "    inplace : boolean, default False\n",
      "        If True, do operation inplace and return None.\n",
      "    \n",
      "    Returns\n",
      "    -------\n",
      "    dropped : DataFrame\n",
      "\n"
     ]
    }
   ],
   "source": [
    "help(s4.dropna)"
   ]
  },
  {
   "cell_type": "markdown",
   "metadata": {},
   "source": [
    "### 对缺失值的替换"
   ]
  },
  {
   "cell_type": "code",
   "execution_count": 320,
   "metadata": {
    "collapsed": true
   },
   "outputs": [],
   "source": [
    "s4=DataFrame(np.array(\n",
    "    [\n",
    "        [1,np.nan,2,3],\n",
    "        [2,3,4,np.nan],\n",
    "        [1,3,4,5]\n",
    "    ]\n",
    "))"
   ]
  },
  {
   "cell_type": "code",
   "execution_count": 321,
   "metadata": {
    "collapsed": false
   },
   "outputs": [
    {
     "data": {
      "text/html": [
       "<div>\n",
       "<table border=\"1\" class=\"dataframe\">\n",
       "  <thead>\n",
       "    <tr style=\"text-align: right;\">\n",
       "      <th></th>\n",
       "      <th>0</th>\n",
       "      <th>1</th>\n",
       "      <th>2</th>\n",
       "      <th>3</th>\n",
       "    </tr>\n",
       "  </thead>\n",
       "  <tbody>\n",
       "    <tr>\n",
       "      <th>0</th>\n",
       "      <td>1.0</td>\n",
       "      <td>NaN</td>\n",
       "      <td>2.0</td>\n",
       "      <td>3.0</td>\n",
       "    </tr>\n",
       "    <tr>\n",
       "      <th>1</th>\n",
       "      <td>2.0</td>\n",
       "      <td>3.0</td>\n",
       "      <td>4.0</td>\n",
       "      <td>NaN</td>\n",
       "    </tr>\n",
       "    <tr>\n",
       "      <th>2</th>\n",
       "      <td>1.0</td>\n",
       "      <td>3.0</td>\n",
       "      <td>4.0</td>\n",
       "      <td>5.0</td>\n",
       "    </tr>\n",
       "  </tbody>\n",
       "</table>\n",
       "</div>"
      ],
      "text/plain": [
       "     0    1    2    3\n",
       "0  1.0  NaN  2.0  3.0\n",
       "1  2.0  3.0  4.0  NaN\n",
       "2  1.0  3.0  4.0  5.0"
      ]
     },
     "execution_count": 321,
     "metadata": {},
     "output_type": "execute_result"
    }
   ],
   "source": [
    "s4"
   ]
  },
  {
   "cell_type": "code",
   "execution_count": 323,
   "metadata": {
    "collapsed": false
   },
   "outputs": [
    {
     "data": {
      "text/html": [
       "<div>\n",
       "<table border=\"1\" class=\"dataframe\">\n",
       "  <thead>\n",
       "    <tr style=\"text-align: right;\">\n",
       "      <th></th>\n",
       "      <th>0</th>\n",
       "      <th>1</th>\n",
       "      <th>2</th>\n",
       "      <th>3</th>\n",
       "    </tr>\n",
       "  </thead>\n",
       "  <tbody>\n",
       "    <tr>\n",
       "      <th>0</th>\n",
       "      <td>1.0</td>\n",
       "      <td>0.0</td>\n",
       "      <td>2.0</td>\n",
       "      <td>3.0</td>\n",
       "    </tr>\n",
       "    <tr>\n",
       "      <th>1</th>\n",
       "      <td>2.0</td>\n",
       "      <td>3.0</td>\n",
       "      <td>4.0</td>\n",
       "      <td>0.0</td>\n",
       "    </tr>\n",
       "    <tr>\n",
       "      <th>2</th>\n",
       "      <td>1.0</td>\n",
       "      <td>3.0</td>\n",
       "      <td>4.0</td>\n",
       "      <td>5.0</td>\n",
       "    </tr>\n",
       "  </tbody>\n",
       "</table>\n",
       "</div>"
      ],
      "text/plain": [
       "     0    1    2    3\n",
       "0  1.0  0.0  2.0  3.0\n",
       "1  2.0  3.0  4.0  0.0\n",
       "2  1.0  3.0  4.0  5.0"
      ]
     },
     "execution_count": 323,
     "metadata": {},
     "output_type": "execute_result"
    }
   ],
   "source": [
    "s4.fillna(value=0)"
   ]
  },
  {
   "cell_type": "code",
   "execution_count": 324,
   "metadata": {
    "collapsed": true
   },
   "outputs": [],
   "source": [
    "s5=DataFrame(np.array(\n",
    "    [\n",
    "        [1,np.nan,2,3],\n",
    "        [2,3,4,np.nan],\n",
    "        [1,3,4,5]\n",
    "    ]\n",
    "))"
   ]
  },
  {
   "cell_type": "markdown",
   "metadata": {},
   "source": [
    "### 对数据进行布尔填充，空值的判断"
   ]
  },
  {
   "cell_type": "code",
   "execution_count": 326,
   "metadata": {
    "collapsed": false
   },
   "outputs": [
    {
     "data": {
      "text/html": [
       "<div>\n",
       "<table border=\"1\" class=\"dataframe\">\n",
       "  <thead>\n",
       "    <tr style=\"text-align: right;\">\n",
       "      <th></th>\n",
       "      <th>0</th>\n",
       "      <th>1</th>\n",
       "      <th>2</th>\n",
       "      <th>3</th>\n",
       "    </tr>\n",
       "  </thead>\n",
       "  <tbody>\n",
       "    <tr>\n",
       "      <th>0</th>\n",
       "      <td>False</td>\n",
       "      <td>True</td>\n",
       "      <td>False</td>\n",
       "      <td>False</td>\n",
       "    </tr>\n",
       "    <tr>\n",
       "      <th>1</th>\n",
       "      <td>False</td>\n",
       "      <td>False</td>\n",
       "      <td>False</td>\n",
       "      <td>True</td>\n",
       "    </tr>\n",
       "    <tr>\n",
       "      <th>2</th>\n",
       "      <td>False</td>\n",
       "      <td>False</td>\n",
       "      <td>False</td>\n",
       "      <td>False</td>\n",
       "    </tr>\n",
       "  </tbody>\n",
       "</table>\n",
       "</div>"
      ],
      "text/plain": [
       "       0      1      2      3\n",
       "0  False   True  False  False\n",
       "1  False  False  False   True\n",
       "2  False  False  False  False"
      ]
     },
     "execution_count": 326,
     "metadata": {},
     "output_type": "execute_result"
    }
   ],
   "source": [
    "pd.isnull(s5)"
   ]
  },
  {
   "cell_type": "code",
   "execution_count": 327,
   "metadata": {
    "collapsed": false
   },
   "outputs": [
    {
     "data": {
      "text/html": [
       "<div>\n",
       "<table border=\"1\" class=\"dataframe\">\n",
       "  <thead>\n",
       "    <tr style=\"text-align: right;\">\n",
       "      <th></th>\n",
       "      <th>0</th>\n",
       "      <th>1</th>\n",
       "      <th>2</th>\n",
       "      <th>3</th>\n",
       "    </tr>\n",
       "  </thead>\n",
       "  <tbody>\n",
       "    <tr>\n",
       "      <th>0</th>\n",
       "      <td>1.0</td>\n",
       "      <td>NaN</td>\n",
       "      <td>2.0</td>\n",
       "      <td>3.0</td>\n",
       "    </tr>\n",
       "    <tr>\n",
       "      <th>1</th>\n",
       "      <td>2.0</td>\n",
       "      <td>3.0</td>\n",
       "      <td>4.0</td>\n",
       "      <td>NaN</td>\n",
       "    </tr>\n",
       "    <tr>\n",
       "      <th>2</th>\n",
       "      <td>1.0</td>\n",
       "      <td>3.0</td>\n",
       "      <td>4.0</td>\n",
       "      <td>5.0</td>\n",
       "    </tr>\n",
       "  </tbody>\n",
       "</table>\n",
       "</div>"
      ],
      "text/plain": [
       "     0    1    2    3\n",
       "0  1.0  NaN  2.0  3.0\n",
       "1  2.0  3.0  4.0  NaN\n",
       "2  1.0  3.0  4.0  5.0"
      ]
     },
     "execution_count": 327,
     "metadata": {},
     "output_type": "execute_result"
    }
   ],
   "source": [
    "s5"
   ]
  },
  {
   "cell_type": "markdown",
   "metadata": {},
   "source": [
    "## 其他操作"
   ]
  },
  {
   "cell_type": "markdown",
   "metadata": {},
   "source": [
    "### 数据描述性统计"
   ]
  },
  {
   "cell_type": "code",
   "execution_count": 330,
   "metadata": {
    "collapsed": false
   },
   "outputs": [
    {
     "data": {
      "text/plain": [
       "a    0.510482\n",
       "c    0.534221\n",
       "d    0.660811\n",
       "b    0.707069\n",
       "e    0.737166\n",
       "y    0.778853\n",
       "dtype: float64"
      ]
     },
     "execution_count": 330,
     "metadata": {},
     "output_type": "execute_result"
    }
   ],
   "source": [
    "s3.mean()"
   ]
  },
  {
   "cell_type": "code",
   "execution_count": 338,
   "metadata": {
    "collapsed": false
   },
   "outputs": [
    {
     "data": {
      "text/plain": [
       "0     0.746043\n",
       "1     0.309006\n",
       "2     0.425973\n",
       "3     0.791102\n",
       "4     0.365816\n",
       "5     0.491795\n",
       "6     0.710041\n",
       "7     0.240986\n",
       "8     0.658678\n",
       "9     0.522850\n",
       "10    0.623840\n",
       "11    0.423967\n",
       "12    0.513189\n",
       "13    0.148138\n",
       "14    0.406702\n",
       "15    0.515017\n",
       "16    0.605896\n",
       "17    0.502906\n",
       "18    0.648858\n",
       "19    0.599307\n",
       "20    3.500000\n",
       "dtype: float64"
      ]
     },
     "execution_count": 338,
     "metadata": {},
     "output_type": "execute_result"
    }
   ],
   "source": [
    "s3.mean(1)   #对固定的轴进行统计操作"
   ]
  },
  {
   "cell_type": "code",
   "execution_count": 336,
   "metadata": {
    "collapsed": false
   },
   "outputs": [
    {
     "name": "stdout",
     "output_type": "stream",
     "text": [
      "Help on method mean in module pandas.core.generic:\n",
      "\n",
      "mean(self, axis=None, skipna=None, level=None, numeric_only=None, **kwargs) method of pandas.core.frame.DataFrame instance\n",
      "    Return the mean of the values for the requested axis\n",
      "    \n",
      "    Parameters\n",
      "    ----------\n",
      "    axis : {index (0), columns (1)}\n",
      "    skipna : boolean, default True\n",
      "        Exclude NA/null values. If an entire row/column is NA, the result\n",
      "        will be NA\n",
      "    level : int or level name, default None\n",
      "        If the axis is a MultiIndex (hierarchical), count along a\n",
      "        particular level, collapsing into a Series\n",
      "    numeric_only : boolean, default None\n",
      "        Include only float, int, boolean columns. If None, will attempt to use\n",
      "        everything, then use only numeric data. Not implemented for Series.\n",
      "    \n",
      "    Returns\n",
      "    -------\n",
      "    mean : Series or DataFrame (if level specified)\n",
      "\n"
     ]
    }
   ],
   "source": [
    "help(s3.mean)"
   ]
  },
  {
   "cell_type": "code",
   "execution_count": 340,
   "metadata": {
    "collapsed": false
   },
   "outputs": [
    {
     "data": {
      "text/html": [
       "<div>\n",
       "<table border=\"1\" class=\"dataframe\">\n",
       "  <thead>\n",
       "    <tr style=\"text-align: right;\">\n",
       "      <th></th>\n",
       "      <th>0</th>\n",
       "      <th>1</th>\n",
       "      <th>2</th>\n",
       "      <th>3</th>\n",
       "    </tr>\n",
       "  </thead>\n",
       "  <tbody>\n",
       "    <tr>\n",
       "      <th>0</th>\n",
       "      <td>1.0</td>\n",
       "      <td>NaN</td>\n",
       "      <td>2.0</td>\n",
       "      <td>3.0</td>\n",
       "    </tr>\n",
       "    <tr>\n",
       "      <th>1</th>\n",
       "      <td>3.0</td>\n",
       "      <td>3.0</td>\n",
       "      <td>6.0</td>\n",
       "      <td>NaN</td>\n",
       "    </tr>\n",
       "    <tr>\n",
       "      <th>2</th>\n",
       "      <td>4.0</td>\n",
       "      <td>6.0</td>\n",
       "      <td>10.0</td>\n",
       "      <td>8.0</td>\n",
       "    </tr>\n",
       "  </tbody>\n",
       "</table>\n",
       "</div>"
      ],
      "text/plain": [
       "     0    1     2    3\n",
       "0  1.0  NaN   2.0  3.0\n",
       "1  3.0  3.0   6.0  NaN\n",
       "2  4.0  6.0  10.0  8.0"
      ]
     },
     "execution_count": 340,
     "metadata": {},
     "output_type": "execute_result"
    }
   ],
   "source": [
    "s4.apply(np.cumsum)   #对数据应用函数"
   ]
  },
  {
   "cell_type": "code",
   "execution_count": 341,
   "metadata": {
    "collapsed": false
   },
   "outputs": [
    {
     "data": {
      "text/html": [
       "<div>\n",
       "<table border=\"1\" class=\"dataframe\">\n",
       "  <thead>\n",
       "    <tr style=\"text-align: right;\">\n",
       "      <th></th>\n",
       "      <th>0</th>\n",
       "      <th>1</th>\n",
       "      <th>2</th>\n",
       "      <th>3</th>\n",
       "    </tr>\n",
       "  </thead>\n",
       "  <tbody>\n",
       "    <tr>\n",
       "      <th>0</th>\n",
       "      <td>1.0</td>\n",
       "      <td>NaN</td>\n",
       "      <td>2.0</td>\n",
       "      <td>3.0</td>\n",
       "    </tr>\n",
       "    <tr>\n",
       "      <th>1</th>\n",
       "      <td>2.0</td>\n",
       "      <td>3.0</td>\n",
       "      <td>4.0</td>\n",
       "      <td>NaN</td>\n",
       "    </tr>\n",
       "    <tr>\n",
       "      <th>2</th>\n",
       "      <td>1.0</td>\n",
       "      <td>3.0</td>\n",
       "      <td>4.0</td>\n",
       "      <td>5.0</td>\n",
       "    </tr>\n",
       "  </tbody>\n",
       "</table>\n",
       "</div>"
      ],
      "text/plain": [
       "     0    1    2    3\n",
       "0  1.0  NaN  2.0  3.0\n",
       "1  2.0  3.0  4.0  NaN\n",
       "2  1.0  3.0  4.0  5.0"
      ]
     },
     "execution_count": 341,
     "metadata": {},
     "output_type": "execute_result"
    }
   ],
   "source": [
    "s4"
   ]
  },
  {
   "cell_type": "code",
   "execution_count": 342,
   "metadata": {
    "collapsed": false
   },
   "outputs": [
    {
     "name": "stdout",
     "output_type": "stream",
     "text": [
      "Help on function cumsum in module numpy.core.fromnumeric:\n",
      "\n",
      "cumsum(a, axis=None, dtype=None, out=None)\n",
      "    Return the cumulative sum of the elements along a given axis.\n",
      "    \n",
      "    Parameters\n",
      "    ----------\n",
      "    a : array_like\n",
      "        Input array.\n",
      "    axis : int, optional\n",
      "        Axis along which the cumulative sum is computed. The default\n",
      "        (None) is to compute the cumsum over the flattened array.\n",
      "    dtype : dtype, optional\n",
      "        Type of the returned array and of the accumulator in which the\n",
      "        elements are summed.  If `dtype` is not specified, it defaults\n",
      "        to the dtype of `a`, unless `a` has an integer dtype with a\n",
      "        precision less than that of the default platform integer.  In\n",
      "        that case, the default platform integer is used.\n",
      "    out : ndarray, optional\n",
      "        Alternative output array in which to place the result. It must\n",
      "        have the same shape and buffer length as the expected output\n",
      "        but the type will be cast if necessary. See `doc.ufuncs`\n",
      "        (Section \"Output arguments\") for more details.\n",
      "    \n",
      "    Returns\n",
      "    -------\n",
      "    cumsum_along_axis : ndarray.\n",
      "        A new array holding the result is returned unless `out` is\n",
      "        specified, in which case a reference to `out` is returned. The\n",
      "        result has the same size as `a`, and the same shape as `a` if\n",
      "        `axis` is not None or `a` is a 1-d array.\n",
      "    \n",
      "    \n",
      "    See Also\n",
      "    --------\n",
      "    sum : Sum array elements.\n",
      "    \n",
      "    trapz : Integration of array values using the composite trapezoidal rule.\n",
      "    \n",
      "    diff :  Calculate the n-th discrete difference along given axis.\n",
      "    \n",
      "    Notes\n",
      "    -----\n",
      "    Arithmetic is modular when using integer types, and no error is\n",
      "    raised on overflow.\n",
      "    \n",
      "    Examples\n",
      "    --------\n",
      "    >>> a = np.array([[1,2,3], [4,5,6]])\n",
      "    >>> a\n",
      "    array([[1, 2, 3],\n",
      "           [4, 5, 6]])\n",
      "    >>> np.cumsum(a)\n",
      "    array([ 1,  3,  6, 10, 15, 21])\n",
      "    >>> np.cumsum(a, dtype=float)     # specifies type of output value(s)\n",
      "    array([  1.,   3.,   6.,  10.,  15.,  21.])\n",
      "    \n",
      "    >>> np.cumsum(a,axis=0)      # sum over rows for each of the 3 columns\n",
      "    array([[1, 2, 3],\n",
      "           [5, 7, 9]])\n",
      "    >>> np.cumsum(a,axis=1)      # sum over columns for each of the 2 rows\n",
      "    array([[ 1,  3,  6],\n",
      "           [ 4,  9, 15]])\n",
      "\n"
     ]
    }
   ],
   "source": [
    "help(np.cumsum)"
   ]
  },
  {
   "cell_type": "code",
   "execution_count": 344,
   "metadata": {
    "collapsed": false
   },
   "outputs": [
    {
     "data": {
      "text/plain": [
       "0    1.0\n",
       "1    0.0\n",
       "2    2.0\n",
       "3    2.0\n",
       "dtype: float64"
      ]
     },
     "execution_count": 344,
     "metadata": {},
     "output_type": "execute_result"
    }
   ],
   "source": [
    "s4.apply(lambda x:x.max()-x.min())"
   ]
  },
  {
   "cell_type": "code",
   "execution_count": 345,
   "metadata": {
    "collapsed": false
   },
   "outputs": [
    {
     "data": {
      "text/html": [
       "<div>\n",
       "<table border=\"1\" class=\"dataframe\">\n",
       "  <thead>\n",
       "    <tr style=\"text-align: right;\">\n",
       "      <th></th>\n",
       "      <th>0</th>\n",
       "      <th>1</th>\n",
       "      <th>2</th>\n",
       "      <th>3</th>\n",
       "    </tr>\n",
       "  </thead>\n",
       "  <tbody>\n",
       "    <tr>\n",
       "      <th>0</th>\n",
       "      <td>1.0</td>\n",
       "      <td>NaN</td>\n",
       "      <td>2.0</td>\n",
       "      <td>3.0</td>\n",
       "    </tr>\n",
       "    <tr>\n",
       "      <th>1</th>\n",
       "      <td>2.0</td>\n",
       "      <td>3.0</td>\n",
       "      <td>4.0</td>\n",
       "      <td>NaN</td>\n",
       "    </tr>\n",
       "    <tr>\n",
       "      <th>2</th>\n",
       "      <td>1.0</td>\n",
       "      <td>3.0</td>\n",
       "      <td>4.0</td>\n",
       "      <td>5.0</td>\n",
       "    </tr>\n",
       "  </tbody>\n",
       "</table>\n",
       "</div>"
      ],
      "text/plain": [
       "     0    1    2    3\n",
       "0  1.0  NaN  2.0  3.0\n",
       "1  2.0  3.0  4.0  NaN\n",
       "2  1.0  3.0  4.0  5.0"
      ]
     },
     "execution_count": 345,
     "metadata": {},
     "output_type": "execute_result"
    }
   ],
   "source": [
    "s4"
   ]
  },
  {
   "cell_type": "markdown",
   "metadata": {},
   "source": [
    "### 直方图"
   ]
  },
  {
   "cell_type": "code",
   "execution_count": 96,
   "metadata": {
    "collapsed": true
   },
   "outputs": [],
   "source": [
    "n1=np.random.randint(0,7,size=10)"
   ]
  },
  {
   "cell_type": "code",
   "execution_count": 97,
   "metadata": {
    "collapsed": false
   },
   "outputs": [
    {
     "data": {
      "text/plain": [
       "array([1, 1, 0, 2, 0, 6, 0, 0, 2, 4])"
      ]
     },
     "execution_count": 97,
     "metadata": {},
     "output_type": "execute_result"
    }
   ],
   "source": [
    "n1"
   ]
  },
  {
   "cell_type": "code",
   "execution_count": 98,
   "metadata": {
    "collapsed": false
   },
   "outputs": [],
   "source": [
    "s1=pd.Series(n1)"
   ]
  },
  {
   "cell_type": "code",
   "execution_count": 99,
   "metadata": {
    "collapsed": false
   },
   "outputs": [
    {
     "data": {
      "text/plain": [
       "0    4\n",
       "2    2\n",
       "1    2\n",
       "6    1\n",
       "4    1\n",
       "dtype: int64"
      ]
     },
     "execution_count": 99,
     "metadata": {},
     "output_type": "execute_result"
    }
   ],
   "source": [
    "s1.value_counts()   # 数据元素的统计"
   ]
  },
  {
   "cell_type": "code",
   "execution_count": 100,
   "metadata": {
    "collapsed": true
   },
   "outputs": [],
   "source": [
    "n1=np.random.randint(0,10,size=100)"
   ]
  },
  {
   "cell_type": "code",
   "execution_count": 101,
   "metadata": {
    "collapsed": false
   },
   "outputs": [],
   "source": [
    "df=Series(n1)"
   ]
  },
  {
   "cell_type": "code",
   "execution_count": 102,
   "metadata": {
    "collapsed": false
   },
   "outputs": [
    {
     "data": {
      "text/plain": [
       "0     5\n",
       "1     7\n",
       "2     1\n",
       "3     3\n",
       "4     8\n",
       "5     1\n",
       "6     9\n",
       "7     7\n",
       "8     5\n",
       "9     6\n",
       "10    3\n",
       "11    2\n",
       "12    9\n",
       "13    1\n",
       "14    8\n",
       "15    2\n",
       "16    0\n",
       "17    8\n",
       "18    3\n",
       "19    6\n",
       "20    6\n",
       "21    6\n",
       "22    0\n",
       "23    4\n",
       "24    4\n",
       "25    8\n",
       "26    6\n",
       "27    9\n",
       "28    5\n",
       "29    3\n",
       "     ..\n",
       "70    6\n",
       "71    7\n",
       "72    0\n",
       "73    2\n",
       "74    6\n",
       "75    3\n",
       "76    8\n",
       "77    4\n",
       "78    5\n",
       "79    3\n",
       "80    9\n",
       "81    0\n",
       "82    7\n",
       "83    9\n",
       "84    7\n",
       "85    0\n",
       "86    0\n",
       "87    6\n",
       "88    1\n",
       "89    3\n",
       "90    6\n",
       "91    1\n",
       "92    4\n",
       "93    2\n",
       "94    1\n",
       "95    9\n",
       "96    9\n",
       "97    3\n",
       "98    0\n",
       "99    2\n",
       "dtype: int32"
      ]
     },
     "execution_count": 102,
     "metadata": {},
     "output_type": "execute_result"
    }
   ],
   "source": [
    "df"
   ]
  },
  {
   "cell_type": "code",
   "execution_count": 112,
   "metadata": {
    "collapsed": false
   },
   "outputs": [
    {
     "data": {
      "text/plain": [
       "6    14\n",
       "7    11\n",
       "0    11\n",
       "5    10\n",
       "4    10\n",
       "3    10\n",
       "2     9\n",
       "1     9\n",
       "9     8\n",
       "8     8\n",
       "dtype: int64"
      ]
     },
     "execution_count": 112,
     "metadata": {},
     "output_type": "execute_result"
    }
   ],
   "source": [
    "df.value_counts()"
   ]
  },
  {
   "cell_type": "code",
   "execution_count": 111,
   "metadata": {
    "collapsed": false
   },
   "outputs": [
    {
     "data": {
      "text/plain": [
       "<matplotlib.axes._subplots.AxesSubplot at 0xa5d6da0>"
      ]
     },
     "execution_count": 111,
     "metadata": {},
     "output_type": "execute_result"
    },
    {
     "data": {
      "image/png": "[encoded data removed]",
      "text/plain": [
       "<matplotlib.figure.Figure at 0xa357d68>"
      ]
     },
     "metadata": {},
     "output_type": "display_data"
    }
   ],
   "source": [
    "df.hist(color='k',alpha=0.5)"
   ]
  },
  {
   "cell_type": "code",
   "execution_count": 109,
   "metadata": {
    "collapsed": false
   },
   "outputs": [],
   "source": [
    "# 载入matplotlib 库\n",
    "% matplotlib inline     "
   ]
  },
  {
   "cell_type": "code",
   "execution_count": 110,
   "metadata": {
    "collapsed": false
   },
   "outputs": [
    {
     "data": {
      "text/plain": [
       "<matplotlib.axes._subplots.AxesSubplot at 0xa357dd8>"
      ]
     },
     "execution_count": 110,
     "metadata": {},
     "output_type": "execute_result"
    },
    {
     "data": {
      "image/png": "[encoded data removed]",
      "text/plain": [
       "<matplotlib.figure.Figure at 0xa3577b8>"
      ]
     },
     "metadata": {},
     "output_type": "display_data"
    }
   ],
   "source": [
    "df.hist(color='k',alpha=0.5)"
   ]
  },
  {
   "cell_type": "markdown",
   "metadata": {},
   "source": [
    "## 箱形图"
   ]
  },
  {
   "cell_type": "code",
   "execution_count": 142,
   "metadata": {
    "collapsed": false
   },
   "outputs": [],
   "source": [
    "n1=np.random.random((100))"
   ]
  },
  {
   "cell_type": "code",
   "execution_count": 143,
   "metadata": {
    "collapsed": false
   },
   "outputs": [
    {
     "data": {
      "text/plain": [
       "array([ 0.51441648,  0.69120919,  0.67463311,  0.07755575,  0.11897521,\n",
       "        0.85606266,  0.01892499,  0.68286614,  0.96759714,  0.75886043,\n",
       "        0.92674336,  0.96813507,  0.0331304 ,  0.97272032,  0.8207354 ,\n",
       "        0.89801665,  0.09075269,  0.84542993,  0.05003552,  0.20509004,\n",
       "        0.43171189,  0.61528976,  0.4686504 ,  0.84458408,  0.85887567,\n",
       "        0.02822806,  0.47812193,  0.59781756,  0.26232118,  0.32295717,\n",
       "        0.02866012,  0.50910313,  0.15066109,  0.39630853,  0.07316902,\n",
       "        0.90782858,  0.42268617,  0.86433853,  0.32382531,  0.34961202,\n",
       "        0.01326099,  0.33384725,  0.06144228,  0.53356416,  0.56646535,\n",
       "        0.4008755 ,  0.21957675,  0.79483401,  0.66834319,  0.01214434,\n",
       "        0.66969766,  0.00209178,  0.77925266,  0.79635783,  0.16900569,\n",
       "        0.90561475,  0.11940892,  0.86347791,  0.2508261 ,  0.15403844,\n",
       "        0.52743267,  0.38634171,  0.96066766,  0.86057256,  0.51131965,\n",
       "        0.71309059,  0.78147279,  0.21164954,  0.96914085,  0.10384533,\n",
       "        0.67446276,  0.20946134,  0.91507728,  0.7664334 ,  0.49517147,\n",
       "        0.85596291,  0.37435044,  0.12945011,  0.35400397,  0.28157907,\n",
       "        0.79768547,  0.47303255,  0.35438875,  0.40598831,  0.83933257,\n",
       "        0.12754617,  0.45827348,  0.27990138,  0.79894019,  0.58363355,\n",
       "        0.46675129,  0.85251294,  0.55705788,  0.30977131,  0.22904687,\n",
       "        0.13040744,  0.09121905,  0.36396351,  0.39204958,  0.23061139])"
      ]
     },
     "execution_count": 143,
     "metadata": {},
     "output_type": "execute_result"
    }
   ],
   "source": [
    "n1"
   ]
  },
  {
   "cell_type": "code",
   "execution_count": 144,
   "metadata": {
    "collapsed": false
   },
   "outputs": [
    {
     "data": {
      "text/html": [
       "<div>\n",
       "<table border=\"1\" class=\"dataframe\">\n",
       "  <thead>\n",
       "    <tr style=\"text-align: right;\">\n",
       "      <th></th>\n",
       "      <th>0</th>\n",
       "      <th>1</th>\n",
       "      <th>2</th>\n",
       "      <th>3</th>\n",
       "      <th>4</th>\n",
       "      <th>5</th>\n",
       "      <th>6</th>\n",
       "      <th>7</th>\n",
       "      <th>8</th>\n",
       "      <th>9</th>\n",
       "    </tr>\n",
       "  </thead>\n",
       "  <tbody>\n",
       "    <tr>\n",
       "      <th>0</th>\n",
       "      <td>0.514416</td>\n",
       "      <td>0.691209</td>\n",
       "      <td>0.674633</td>\n",
       "      <td>0.077556</td>\n",
       "      <td>0.118975</td>\n",
       "      <td>0.856063</td>\n",
       "      <td>0.018925</td>\n",
       "      <td>0.682866</td>\n",
       "      <td>0.967597</td>\n",
       "      <td>0.758860</td>\n",
       "    </tr>\n",
       "    <tr>\n",
       "      <th>1</th>\n",
       "      <td>0.926743</td>\n",
       "      <td>0.968135</td>\n",
       "      <td>0.033130</td>\n",
       "      <td>0.972720</td>\n",
       "      <td>0.820735</td>\n",
       "      <td>0.898017</td>\n",
       "      <td>0.090753</td>\n",
       "      <td>0.845430</td>\n",
       "      <td>0.050036</td>\n",
       "      <td>0.205090</td>\n",
       "    </tr>\n",
       "    <tr>\n",
       "      <th>2</th>\n",
       "      <td>0.431712</td>\n",
       "      <td>0.615290</td>\n",
       "      <td>0.468650</td>\n",
       "      <td>0.844584</td>\n",
       "      <td>0.858876</td>\n",
       "      <td>0.028228</td>\n",
       "      <td>0.478122</td>\n",
       "      <td>0.597818</td>\n",
       "      <td>0.262321</td>\n",
       "      <td>0.322957</td>\n",
       "    </tr>\n",
       "    <tr>\n",
       "      <th>3</th>\n",
       "      <td>0.028660</td>\n",
       "      <td>0.509103</td>\n",
       "      <td>0.150661</td>\n",
       "      <td>0.396309</td>\n",
       "      <td>0.073169</td>\n",
       "      <td>0.907829</td>\n",
       "      <td>0.422686</td>\n",
       "      <td>0.864339</td>\n",
       "      <td>0.323825</td>\n",
       "      <td>0.349612</td>\n",
       "    </tr>\n",
       "    <tr>\n",
       "      <th>4</th>\n",
       "      <td>0.013261</td>\n",
       "      <td>0.333847</td>\n",
       "      <td>0.061442</td>\n",
       "      <td>0.533564</td>\n",
       "      <td>0.566465</td>\n",
       "      <td>0.400875</td>\n",
       "      <td>0.219577</td>\n",
       "      <td>0.794834</td>\n",
       "      <td>0.668343</td>\n",
       "      <td>0.012144</td>\n",
       "    </tr>\n",
       "    <tr>\n",
       "      <th>5</th>\n",
       "      <td>0.669698</td>\n",
       "      <td>0.002092</td>\n",
       "      <td>0.779253</td>\n",
       "      <td>0.796358</td>\n",
       "      <td>0.169006</td>\n",
       "      <td>0.905615</td>\n",
       "      <td>0.119409</td>\n",
       "      <td>0.863478</td>\n",
       "      <td>0.250826</td>\n",
       "      <td>0.154038</td>\n",
       "    </tr>\n",
       "    <tr>\n",
       "      <th>6</th>\n",
       "      <td>0.527433</td>\n",
       "      <td>0.386342</td>\n",
       "      <td>0.960668</td>\n",
       "      <td>0.860573</td>\n",
       "      <td>0.511320</td>\n",
       "      <td>0.713091</td>\n",
       "      <td>0.781473</td>\n",
       "      <td>0.211650</td>\n",
       "      <td>0.969141</td>\n",
       "      <td>0.103845</td>\n",
       "    </tr>\n",
       "    <tr>\n",
       "      <th>7</th>\n",
       "      <td>0.674463</td>\n",
       "      <td>0.209461</td>\n",
       "      <td>0.915077</td>\n",
       "      <td>0.766433</td>\n",
       "      <td>0.495171</td>\n",
       "      <td>0.855963</td>\n",
       "      <td>0.374350</td>\n",
       "      <td>0.129450</td>\n",
       "      <td>0.354004</td>\n",
       "      <td>0.281579</td>\n",
       "    </tr>\n",
       "    <tr>\n",
       "      <th>8</th>\n",
       "      <td>0.797685</td>\n",
       "      <td>0.473033</td>\n",
       "      <td>0.354389</td>\n",
       "      <td>0.405988</td>\n",
       "      <td>0.839333</td>\n",
       "      <td>0.127546</td>\n",
       "      <td>0.458273</td>\n",
       "      <td>0.279901</td>\n",
       "      <td>0.798940</td>\n",
       "      <td>0.583634</td>\n",
       "    </tr>\n",
       "    <tr>\n",
       "      <th>9</th>\n",
       "      <td>0.466751</td>\n",
       "      <td>0.852513</td>\n",
       "      <td>0.557058</td>\n",
       "      <td>0.309771</td>\n",
       "      <td>0.229047</td>\n",
       "      <td>0.130407</td>\n",
       "      <td>0.091219</td>\n",
       "      <td>0.363964</td>\n",
       "      <td>0.392050</td>\n",
       "      <td>0.230611</td>\n",
       "    </tr>\n",
       "  </tbody>\n",
       "</table>\n",
       "</div>"
      ],
      "text/plain": [
       "          0         1         2         3         4         5         6  \\\n",
       "0  0.514416  0.691209  0.674633  0.077556  0.118975  0.856063  0.018925   \n",
       "1  0.926743  0.968135  0.033130  0.972720  0.820735  0.898017  0.090753   \n",
       "2  0.431712  0.615290  0.468650  0.844584  0.858876  0.028228  0.478122   \n",
       "3  0.028660  0.509103  0.150661  0.396309  0.073169  0.907829  0.422686   \n",
       "4  0.013261  0.333847  0.061442  0.533564  0.566465  0.400875  0.219577   \n",
       "5  0.669698  0.002092  0.779253  0.796358  0.169006  0.905615  0.119409   \n",
       "6  0.527433  0.386342  0.960668  0.860573  0.511320  0.713091  0.781473   \n",
       "7  0.674463  0.209461  0.915077  0.766433  0.495171  0.855963  0.374350   \n",
       "8  0.797685  0.473033  0.354389  0.405988  0.839333  0.127546  0.458273   \n",
       "9  0.466751  0.852513  0.557058  0.309771  0.229047  0.130407  0.091219   \n",
       "\n",
       "          7         8         9  \n",
       "0  0.682866  0.967597  0.758860  \n",
       "1  0.845430  0.050036  0.205090  \n",
       "2  0.597818  0.262321  0.322957  \n",
       "3  0.864339  0.323825  0.349612  \n",
       "4  0.794834  0.668343  0.012144  \n",
       "5  0.863478  0.250826  0.154038  \n",
       "6  0.211650  0.969141  0.103845  \n",
       "7  0.129450  0.354004  0.281579  \n",
       "8  0.279901  0.798940  0.583634  \n",
       "9  0.363964  0.392050  0.230611  "
      ]
     },
     "execution_count": 144,
     "metadata": {},
     "output_type": "execute_result"
    }
   ],
   "source": [
    "df2=DataFrame(n1.reshape(10,-1))\n",
    "df2"
   ]
  },
  {
   "cell_type": "code",
   "execution_count": 145,
   "metadata": {
    "collapsed": false
   },
   "outputs": [
    {
     "data": {
      "text/plain": [
       "<matplotlib.axes._subplots.AxesSubplot at 0xc57d4e0>"
      ]
     },
     "execution_count": 145,
     "metadata": {},
     "output_type": "execute_result"
    },
    {
     "data": {
      "image/png": "[encoded data removed]",
      "text/plain": [
       "<matplotlib.figure.Figure at 0xc41c400>"
      ]
     },
     "metadata": {},
     "output_type": "display_data"
    }
   ],
   "source": [
    "df2.boxplot()   #箱形图"
   ]
  },
  {
   "cell_type": "markdown",
   "metadata": {},
   "source": [
    "### 抖动图"
   ]
  },
  {
   "cell_type": "code",
   "execution_count": 123,
   "metadata": {
    "collapsed": false
   },
   "outputs": [],
   "source": [
    "def jitter(series,factor):\n",
    "    z=float(series.max())-float(series.min()) #最大值和最小值差值\n",
    "    a=float(factor)*z/50   # 抖动距离使用factor 阈值\n",
    "    return series.apply(lambda x: x+np.random.uniform(-a,a))\n",
    "    "
   ]
  },
  {
   "cell_type": "code",
   "execution_count": 124,
   "metadata": {
    "collapsed": true
   },
   "outputs": [],
   "source": [
    "n1=np.random.randint(50,60,size=100)"
   ]
  },
  {
   "cell_type": "code",
   "execution_count": 125,
   "metadata": {
    "collapsed": false
   },
   "outputs": [],
   "source": [
    "s1=DataFrame(n1.reshape((50,2)))"
   ]
  },
  {
   "cell_type": "code",
   "execution_count": 126,
   "metadata": {
    "collapsed": false
   },
   "outputs": [],
   "source": [
    "s2=jitter(s1[0],1)"
   ]
  },
  {
   "cell_type": "code",
   "execution_count": 128,
   "metadata": {
    "collapsed": false
   },
   "outputs": [
    {
     "data": {
      "text/plain": [
       "0     58.925946\n",
       "1     56.137901\n",
       "2     54.033330\n",
       "3     55.033222\n",
       "4     53.110335\n",
       "5     58.938254\n",
       "6     54.868502\n",
       "7     49.918700\n",
       "8     58.048623\n",
       "9     58.118049\n",
       "10    58.951935\n",
       "11    50.943135\n",
       "12    56.910848\n",
       "13    55.882688\n",
       "14    56.838441\n",
       "15    56.051447\n",
       "16    55.893940\n",
       "17    51.830653\n",
       "18    54.999272\n",
       "19    58.027954\n",
       "20    51.117863\n",
       "21    50.891903\n",
       "22    58.993783\n",
       "23    50.870987\n",
       "24    51.855031\n",
       "25    51.065638\n",
       "26    51.975911\n",
       "27    55.080188\n",
       "28    56.125667\n",
       "29    51.099762\n",
       "30    56.140233\n",
       "31    50.939344\n",
       "32    52.052261\n",
       "33    54.118298\n",
       "34    55.830023\n",
       "35    50.848915\n",
       "36    58.129951\n",
       "37    54.960994\n",
       "38    51.826784\n",
       "39    55.890022\n",
       "40    56.033395\n",
       "41    54.872485\n",
       "42    51.943565\n",
       "43    59.141408\n",
       "44    55.821205\n",
       "45    53.908311\n",
       "46    53.161836\n",
       "47    56.035739\n",
       "48    58.860843\n",
       "49    55.952162\n",
       "Name: 0, dtype: float64"
      ]
     },
     "execution_count": 128,
     "metadata": {},
     "output_type": "execute_result"
    }
   ],
   "source": [
    "s2"
   ]
  },
  {
   "cell_type": "code",
   "execution_count": 129,
   "metadata": {
    "collapsed": true
   },
   "outputs": [],
   "source": [
    "s3=jitter(s1[1],1)"
   ]
  },
  {
   "cell_type": "code",
   "execution_count": 130,
   "metadata": {
    "collapsed": false
   },
   "outputs": [
    {
     "data": {
      "text/plain": [
       "0     53.850472\n",
       "1     51.032155\n",
       "2     57.135457\n",
       "3     53.071839\n",
       "4     52.084435\n",
       "5     58.972222\n",
       "6     54.076519\n",
       "7     59.035263\n",
       "8     49.990527\n",
       "9     51.977917\n",
       "10    50.009007\n",
       "11    54.005163\n",
       "12    55.915467\n",
       "13    55.997688\n",
       "14    57.850602\n",
       "15    50.049348\n",
       "16    54.177156\n",
       "17    50.038595\n",
       "18    58.121546\n",
       "19    52.016593\n",
       "20    59.067756\n",
       "21    53.154229\n",
       "22    57.965864\n",
       "23    51.824730\n",
       "24    58.038008\n",
       "25    57.114516\n",
       "26    55.164359\n",
       "27    55.066041\n",
       "28    55.073638\n",
       "29    49.838791\n",
       "30    54.103512\n",
       "31    57.140706\n",
       "32    55.027021\n",
       "33    56.835774\n",
       "34    54.088885\n",
       "35    58.966552\n",
       "36    56.977261\n",
       "37    56.859437\n",
       "38    56.960438\n",
       "39    53.019868\n",
       "40    55.151974\n",
       "41    52.949362\n",
       "42    55.072755\n",
       "43    55.985342\n",
       "44    56.878026\n",
       "45    54.010650\n",
       "46    49.929365\n",
       "47    49.960169\n",
       "48    57.990518\n",
       "49    54.031809\n",
       "Name: 1, dtype: float64"
      ]
     },
     "execution_count": 130,
     "metadata": {},
     "output_type": "execute_result"
    }
   ],
   "source": [
    "s3"
   ]
  },
  {
   "cell_type": "code",
   "execution_count": 131,
   "metadata": {
    "collapsed": true
   },
   "outputs": [],
   "source": [
    "# 散点图"
   ]
  },
  {
   "cell_type": "code",
   "execution_count": 132,
   "metadata": {
    "collapsed": true
   },
   "outputs": [],
   "source": [
    "df2=s1"
   ]
  },
  {
   "cell_type": "code",
   "execution_count": 133,
   "metadata": {
    "collapsed": false
   },
   "outputs": [],
   "source": [
    "df2[0]=s2\n",
    "df2[1]=s3"
   ]
  },
  {
   "cell_type": "code",
   "execution_count": 134,
   "metadata": {
    "collapsed": false
   },
   "outputs": [
    {
     "data": {
      "text/html": [
       "<div>\n",
       "<table border=\"1\" class=\"dataframe\">\n",
       "  <thead>\n",
       "    <tr style=\"text-align: right;\">\n",
       "      <th></th>\n",
       "      <th>0</th>\n",
       "      <th>1</th>\n",
       "    </tr>\n",
       "  </thead>\n",
       "  <tbody>\n",
       "    <tr>\n",
       "      <th>0</th>\n",
       "      <td>58.925946</td>\n",
       "      <td>53.850472</td>\n",
       "    </tr>\n",
       "    <tr>\n",
       "      <th>1</th>\n",
       "      <td>56.137901</td>\n",
       "      <td>51.032155</td>\n",
       "    </tr>\n",
       "    <tr>\n",
       "      <th>2</th>\n",
       "      <td>54.033330</td>\n",
       "      <td>57.135457</td>\n",
       "    </tr>\n",
       "    <tr>\n",
       "      <th>3</th>\n",
       "      <td>55.033222</td>\n",
       "      <td>53.071839</td>\n",
       "    </tr>\n",
       "    <tr>\n",
       "      <th>4</th>\n",
       "      <td>53.110335</td>\n",
       "      <td>52.084435</td>\n",
       "    </tr>\n",
       "    <tr>\n",
       "      <th>5</th>\n",
       "      <td>58.938254</td>\n",
       "      <td>58.972222</td>\n",
       "    </tr>\n",
       "    <tr>\n",
       "      <th>6</th>\n",
       "      <td>54.868502</td>\n",
       "      <td>54.076519</td>\n",
       "    </tr>\n",
       "    <tr>\n",
       "      <th>7</th>\n",
       "      <td>49.918700</td>\n",
       "      <td>59.035263</td>\n",
       "    </tr>\n",
       "    <tr>\n",
       "      <th>8</th>\n",
       "      <td>58.048623</td>\n",
       "      <td>49.990527</td>\n",
       "    </tr>\n",
       "    <tr>\n",
       "      <th>9</th>\n",
       "      <td>58.118049</td>\n",
       "      <td>51.977917</td>\n",
       "    </tr>\n",
       "    <tr>\n",
       "      <th>10</th>\n",
       "      <td>58.951935</td>\n",
       "      <td>50.009007</td>\n",
       "    </tr>\n",
       "    <tr>\n",
       "      <th>11</th>\n",
       "      <td>50.943135</td>\n",
       "      <td>54.005163</td>\n",
       "    </tr>\n",
       "    <tr>\n",
       "      <th>12</th>\n",
       "      <td>56.910848</td>\n",
       "      <td>55.915467</td>\n",
       "    </tr>\n",
       "    <tr>\n",
       "      <th>13</th>\n",
       "      <td>55.882688</td>\n",
       "      <td>55.997688</td>\n",
       "    </tr>\n",
       "    <tr>\n",
       "      <th>14</th>\n",
       "      <td>56.838441</td>\n",
       "      <td>57.850602</td>\n",
       "    </tr>\n",
       "    <tr>\n",
       "      <th>15</th>\n",
       "      <td>56.051447</td>\n",
       "      <td>50.049348</td>\n",
       "    </tr>\n",
       "    <tr>\n",
       "      <th>16</th>\n",
       "      <td>55.893940</td>\n",
       "      <td>54.177156</td>\n",
       "    </tr>\n",
       "    <tr>\n",
       "      <th>17</th>\n",
       "      <td>51.830653</td>\n",
       "      <td>50.038595</td>\n",
       "    </tr>\n",
       "    <tr>\n",
       "      <th>18</th>\n",
       "      <td>54.999272</td>\n",
       "      <td>58.121546</td>\n",
       "    </tr>\n",
       "    <tr>\n",
       "      <th>19</th>\n",
       "      <td>58.027954</td>\n",
       "      <td>52.016593</td>\n",
       "    </tr>\n",
       "    <tr>\n",
       "      <th>20</th>\n",
       "      <td>51.117863</td>\n",
       "      <td>59.067756</td>\n",
       "    </tr>\n",
       "    <tr>\n",
       "      <th>21</th>\n",
       "      <td>50.891903</td>\n",
       "      <td>53.154229</td>\n",
       "    </tr>\n",
       "    <tr>\n",
       "      <th>22</th>\n",
       "      <td>58.993783</td>\n",
       "      <td>57.965864</td>\n",
       "    </tr>\n",
       "    <tr>\n",
       "      <th>23</th>\n",
       "      <td>50.870987</td>\n",
       "      <td>51.824730</td>\n",
       "    </tr>\n",
       "    <tr>\n",
       "      <th>24</th>\n",
       "      <td>51.855031</td>\n",
       "      <td>58.038008</td>\n",
       "    </tr>\n",
       "    <tr>\n",
       "      <th>25</th>\n",
       "      <td>51.065638</td>\n",
       "      <td>57.114516</td>\n",
       "    </tr>\n",
       "    <tr>\n",
       "      <th>26</th>\n",
       "      <td>51.975911</td>\n",
       "      <td>55.164359</td>\n",
       "    </tr>\n",
       "    <tr>\n",
       "      <th>27</th>\n",
       "      <td>55.080188</td>\n",
       "      <td>55.066041</td>\n",
       "    </tr>\n",
       "    <tr>\n",
       "      <th>28</th>\n",
       "      <td>56.125667</td>\n",
       "      <td>55.073638</td>\n",
       "    </tr>\n",
       "    <tr>\n",
       "      <th>29</th>\n",
       "      <td>51.099762</td>\n",
       "      <td>49.838791</td>\n",
       "    </tr>\n",
       "    <tr>\n",
       "      <th>30</th>\n",
       "      <td>56.140233</td>\n",
       "      <td>54.103512</td>\n",
       "    </tr>\n",
       "    <tr>\n",
       "      <th>31</th>\n",
       "      <td>50.939344</td>\n",
       "      <td>57.140706</td>\n",
       "    </tr>\n",
       "    <tr>\n",
       "      <th>32</th>\n",
       "      <td>52.052261</td>\n",
       "      <td>55.027021</td>\n",
       "    </tr>\n",
       "    <tr>\n",
       "      <th>33</th>\n",
       "      <td>54.118298</td>\n",
       "      <td>56.835774</td>\n",
       "    </tr>\n",
       "    <tr>\n",
       "      <th>34</th>\n",
       "      <td>55.830023</td>\n",
       "      <td>54.088885</td>\n",
       "    </tr>\n",
       "    <tr>\n",
       "      <th>35</th>\n",
       "      <td>50.848915</td>\n",
       "      <td>58.966552</td>\n",
       "    </tr>\n",
       "    <tr>\n",
       "      <th>36</th>\n",
       "      <td>58.129951</td>\n",
       "      <td>56.977261</td>\n",
       "    </tr>\n",
       "    <tr>\n",
       "      <th>37</th>\n",
       "      <td>54.960994</td>\n",
       "      <td>56.859437</td>\n",
       "    </tr>\n",
       "    <tr>\n",
       "      <th>38</th>\n",
       "      <td>51.826784</td>\n",
       "      <td>56.960438</td>\n",
       "    </tr>\n",
       "    <tr>\n",
       "      <th>39</th>\n",
       "      <td>55.890022</td>\n",
       "      <td>53.019868</td>\n",
       "    </tr>\n",
       "    <tr>\n",
       "      <th>40</th>\n",
       "      <td>56.033395</td>\n",
       "      <td>55.151974</td>\n",
       "    </tr>\n",
       "    <tr>\n",
       "      <th>41</th>\n",
       "      <td>54.872485</td>\n",
       "      <td>52.949362</td>\n",
       "    </tr>\n",
       "    <tr>\n",
       "      <th>42</th>\n",
       "      <td>51.943565</td>\n",
       "      <td>55.072755</td>\n",
       "    </tr>\n",
       "    <tr>\n",
       "      <th>43</th>\n",
       "      <td>59.141408</td>\n",
       "      <td>55.985342</td>\n",
       "    </tr>\n",
       "    <tr>\n",
       "      <th>44</th>\n",
       "      <td>55.821205</td>\n",
       "      <td>56.878026</td>\n",
       "    </tr>\n",
       "    <tr>\n",
       "      <th>45</th>\n",
       "      <td>53.908311</td>\n",
       "      <td>54.010650</td>\n",
       "    </tr>\n",
       "    <tr>\n",
       "      <th>46</th>\n",
       "      <td>53.161836</td>\n",
       "      <td>49.929365</td>\n",
       "    </tr>\n",
       "    <tr>\n",
       "      <th>47</th>\n",
       "      <td>56.035739</td>\n",
       "      <td>49.960169</td>\n",
       "    </tr>\n",
       "    <tr>\n",
       "      <th>48</th>\n",
       "      <td>58.860843</td>\n",
       "      <td>57.990518</td>\n",
       "    </tr>\n",
       "    <tr>\n",
       "      <th>49</th>\n",
       "      <td>55.952162</td>\n",
       "      <td>54.031809</td>\n",
       "    </tr>\n",
       "  </tbody>\n",
       "</table>\n",
       "</div>"
      ],
      "text/plain": [
       "            0          1\n",
       "0   58.925946  53.850472\n",
       "1   56.137901  51.032155\n",
       "2   54.033330  57.135457\n",
       "3   55.033222  53.071839\n",
       "4   53.110335  52.084435\n",
       "5   58.938254  58.972222\n",
       "6   54.868502  54.076519\n",
       "7   49.918700  59.035263\n",
       "8   58.048623  49.990527\n",
       "9   58.118049  51.977917\n",
       "10  58.951935  50.009007\n",
       "11  50.943135  54.005163\n",
       "12  56.910848  55.915467\n",
       "13  55.882688  55.997688\n",
       "14  56.838441  57.850602\n",
       "15  56.051447  50.049348\n",
       "16  55.893940  54.177156\n",
       "17  51.830653  50.038595\n",
       "18  54.999272  58.121546\n",
       "19  58.027954  52.016593\n",
       "20  51.117863  59.067756\n",
       "21  50.891903  53.154229\n",
       "22  58.993783  57.965864\n",
       "23  50.870987  51.824730\n",
       "24  51.855031  58.038008\n",
       "25  51.065638  57.114516\n",
       "26  51.975911  55.164359\n",
       "27  55.080188  55.066041\n",
       "28  56.125667  55.073638\n",
       "29  51.099762  49.838791\n",
       "30  56.140233  54.103512\n",
       "31  50.939344  57.140706\n",
       "32  52.052261  55.027021\n",
       "33  54.118298  56.835774\n",
       "34  55.830023  54.088885\n",
       "35  50.848915  58.966552\n",
       "36  58.129951  56.977261\n",
       "37  54.960994  56.859437\n",
       "38  51.826784  56.960438\n",
       "39  55.890022  53.019868\n",
       "40  56.033395  55.151974\n",
       "41  54.872485  52.949362\n",
       "42  51.943565  55.072755\n",
       "43  59.141408  55.985342\n",
       "44  55.821205  56.878026\n",
       "45  53.908311  54.010650\n",
       "46  53.161836  49.929365\n",
       "47  56.035739  49.960169\n",
       "48  58.860843  57.990518\n",
       "49  55.952162  54.031809"
      ]
     },
     "execution_count": 134,
     "metadata": {},
     "output_type": "execute_result"
    }
   ],
   "source": [
    "df2"
   ]
  },
  {
   "cell_type": "code",
   "execution_count": 135,
   "metadata": {
    "collapsed": false
   },
   "outputs": [
    {
     "data": {
      "image/png": "[encoded data removed]",
      "text/plain": [
       "<matplotlib.figure.Figure at 0xb2f7a20>"
      ]
     },
     "execution_count": 135,
     "metadata": {},
     "output_type": "execute_result"
    },
    {
     "data": {
      "image/png": "[encoded data removed]",
      "text/plain": [
       "<matplotlib.figure.Figure at 0xb2f7a20>"
      ]
     },
     "metadata": {},
     "output_type": "display_data"
    }
   ],
   "source": [
    "df2.plot(kind='scatter',x=1,y=0,alpha=0.5).get_figure()"
   ]
  },
  {
   "cell_type": "code",
   "execution_count": 137,
   "metadata": {
    "collapsed": false
   },
   "outputs": [
    {
     "name": "stdout",
     "output_type": "stream",
     "text": [
      "<class 'pandas.core.frame.DataFrame'>\n"
     ]
    }
   ],
   "source": [
    "print type(s1)"
   ]
  },
  {
   "cell_type": "code",
   "execution_count": 138,
   "metadata": {
    "collapsed": false
   },
   "outputs": [
    {
     "data": {
      "image/png": "[encoded data removed]",
      "text/plain": [
       "<matplotlib.figure.Figure at 0xbb64518>"
      ]
     },
     "execution_count": 138,
     "metadata": {},
     "output_type": "execute_result"
    },
    {
     "data": {
      "image/png": "[encoded data removed]",
      "text/plain": [
       "<matplotlib.figure.Figure at 0xbb64518>"
      ]
     },
     "metadata": {},
     "output_type": "display_data"
    }
   ],
   "source": [
    "s1.plot(kind='scatter',x=1,y=0,alpha=0.5).get_figure()"
   ]
  },
  {
   "cell_type": "code",
   "execution_count": null,
   "metadata": {
    "collapsed": true
   },
   "outputs": [],
   "source": []
  }
 ],
 "metadata": {
  "kernelspec": {
   "display_name": "Python [conda root]",
   "language": "python",
   "name": "conda-root-py"
  },
  "language_info": {
   "codemirror_mode": {
    "name": "ipython",
    "version": 3
   },
   "file_extension": ".py",
   "mimetype": "text/x-python",
   "name": "python",
   "nbconvert_exporter": "python",
   "pygments_lexer": "ipython3",
   "version": "3.5.2"
  }
 },
 "nbformat": 4,
 "nbformat_minor": 2
}
